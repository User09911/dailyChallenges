{
 "cells": [
  {
   "cell_type": "markdown",
   "id": "70ca7b41",
   "metadata": {},
   "source": [
    "# Classification Accuracy\n",
    "\n",
    "[Data School](https://www.youtube.com/watch?v=85dtiMz9tSo)"
   ]
  },
  {
   "cell_type": "code",
   "execution_count": 2,
   "id": "293c8d22",
   "metadata": {},
   "outputs": [],
   "source": [
    "import pandas as pd\n",
    "dataset = 'data/pima-indians-diabetes.data'\n",
    "col_names = ['pregnant', 'glucose', 'bp', 'skin', 'insulin', 'bmi', 'pedigree', 'age', 'label']\n",
    "pima = pd.read_csv(dataset, header=None, names=col_names)"
   ]
  },
  {
   "cell_type": "code",
   "execution_count": 3,
   "id": "cf62fcc6",
   "metadata": {},
   "outputs": [
    {
     "data": {
      "text/html": [
       "<div>\n",
       "<style scoped>\n",
       "    .dataframe tbody tr th:only-of-type {\n",
       "        vertical-align: middle;\n",
       "    }\n",
       "\n",
       "    .dataframe tbody tr th {\n",
       "        vertical-align: top;\n",
       "    }\n",
       "\n",
       "    .dataframe thead th {\n",
       "        text-align: right;\n",
       "    }\n",
       "</style>\n",
       "<table border=\"1\" class=\"dataframe\">\n",
       "  <thead>\n",
       "    <tr style=\"text-align: right;\">\n",
       "      <th></th>\n",
       "      <th>pregnant</th>\n",
       "      <th>glucose</th>\n",
       "      <th>bp</th>\n",
       "      <th>skin</th>\n",
       "      <th>insulin</th>\n",
       "      <th>bmi</th>\n",
       "      <th>pedigree</th>\n",
       "      <th>age</th>\n",
       "      <th>label</th>\n",
       "    </tr>\n",
       "  </thead>\n",
       "  <tbody>\n",
       "    <tr>\n",
       "      <th>0</th>\n",
       "      <td>6</td>\n",
       "      <td>148</td>\n",
       "      <td>72</td>\n",
       "      <td>35</td>\n",
       "      <td>0</td>\n",
       "      <td>33.6</td>\n",
       "      <td>0.627</td>\n",
       "      <td>50</td>\n",
       "      <td>1</td>\n",
       "    </tr>\n",
       "    <tr>\n",
       "      <th>1</th>\n",
       "      <td>1</td>\n",
       "      <td>85</td>\n",
       "      <td>66</td>\n",
       "      <td>29</td>\n",
       "      <td>0</td>\n",
       "      <td>26.6</td>\n",
       "      <td>0.351</td>\n",
       "      <td>31</td>\n",
       "      <td>0</td>\n",
       "    </tr>\n",
       "    <tr>\n",
       "      <th>2</th>\n",
       "      <td>8</td>\n",
       "      <td>183</td>\n",
       "      <td>64</td>\n",
       "      <td>0</td>\n",
       "      <td>0</td>\n",
       "      <td>23.3</td>\n",
       "      <td>0.672</td>\n",
       "      <td>32</td>\n",
       "      <td>1</td>\n",
       "    </tr>\n",
       "    <tr>\n",
       "      <th>3</th>\n",
       "      <td>1</td>\n",
       "      <td>89</td>\n",
       "      <td>66</td>\n",
       "      <td>23</td>\n",
       "      <td>94</td>\n",
       "      <td>28.1</td>\n",
       "      <td>0.167</td>\n",
       "      <td>21</td>\n",
       "      <td>0</td>\n",
       "    </tr>\n",
       "    <tr>\n",
       "      <th>4</th>\n",
       "      <td>0</td>\n",
       "      <td>137</td>\n",
       "      <td>40</td>\n",
       "      <td>35</td>\n",
       "      <td>168</td>\n",
       "      <td>43.1</td>\n",
       "      <td>2.288</td>\n",
       "      <td>33</td>\n",
       "      <td>1</td>\n",
       "    </tr>\n",
       "  </tbody>\n",
       "</table>\n",
       "</div>"
      ],
      "text/plain": [
       "   pregnant  glucose  bp  skin  insulin   bmi  pedigree  age  label\n",
       "0         6      148  72    35        0  33.6     0.627   50      1\n",
       "1         1       85  66    29        0  26.6     0.351   31      0\n",
       "2         8      183  64     0        0  23.3     0.672   32      1\n",
       "3         1       89  66    23       94  28.1     0.167   21      0\n",
       "4         0      137  40    35      168  43.1     2.288   33      1"
      ]
     },
     "execution_count": 3,
     "metadata": {},
     "output_type": "execute_result"
    }
   ],
   "source": [
    "pima.head() # Print first 5 rows"
   ]
  },
  {
   "cell_type": "markdown",
   "id": "559e79f8",
   "metadata": {},
   "source": [
    "## Question\n",
    "Can we predict the diabetes status of a patient given their health measurements?"
   ]
  },
  {
   "cell_type": "code",
   "execution_count": 4,
   "id": "0025eabf",
   "metadata": {},
   "outputs": [],
   "source": [
    "# Define X and y\n",
    "feature_cols = ['pregnant', 'insulin', 'bmi', 'age']\n",
    "X = pima[feature_cols]\n",
    "y = pima.label"
   ]
  },
  {
   "cell_type": "code",
   "execution_count": 6,
   "id": "89924f58",
   "metadata": {},
   "outputs": [],
   "source": [
    "# Split X and y into training and testing sets\n",
    "from sklearn.model_selection import train_test_split\n",
    "X_train, X_test, y_train, y_test = train_test_split(X, y, random_state=0)"
   ]
  },
  {
   "cell_type": "code",
   "execution_count": 7,
   "id": "7d82b354",
   "metadata": {},
   "outputs": [
    {
     "data": {
      "text/plain": [
       "LogisticRegression()"
      ]
     },
     "execution_count": 7,
     "metadata": {},
     "output_type": "execute_result"
    }
   ],
   "source": [
    "# Train logistic regression model\n",
    "from sklearn.linear_model import LogisticRegression\n",
    "logreg = LogisticRegression()\n",
    "logreg.fit(X_train, y_train)"
   ]
  },
  {
   "cell_type": "code",
   "execution_count": 8,
   "id": "c7d0257e",
   "metadata": {},
   "outputs": [],
   "source": [
    "# Predicting testing set\n",
    "y_pred_class = logreg.predict(X_test)"
   ]
  },
  {
   "cell_type": "markdown",
   "id": "b4e3f051",
   "metadata": {},
   "source": [
    "## Classification accuracy\n",
    "The precentage of correct predictions"
   ]
  },
  {
   "cell_type": "code",
   "execution_count": 9,
   "id": "32b0694c",
   "metadata": {},
   "outputs": [
    {
     "name": "stdout",
     "output_type": "stream",
     "text": [
      "0.6770833333333334\n"
     ]
    }
   ],
   "source": [
    "# Calculating accuracy\n",
    "from sklearn import metrics\n",
    "print(metrics.accuracy_score(y_test, y_pred_class))"
   ]
  },
  {
   "cell_type": "markdown",
   "id": "4db69684",
   "metadata": {},
   "source": [
    "## Null accuracy\n",
    "The accuracy that could be achieved by always predicting the most frequent class"
   ]
  },
  {
   "cell_type": "code",
   "execution_count": 10,
   "id": "97004835",
   "metadata": {},
   "outputs": [
    {
     "data": {
      "text/plain": [
       "0    130\n",
       "1     62\n",
       "Name: label, dtype: int64"
      ]
     },
     "execution_count": 10,
     "metadata": {},
     "output_type": "execute_result"
    }
   ],
   "source": [
    "# Examine the class distribution of the testing set (Pandas series method)\n",
    "y_test.value_counts()"
   ]
  },
  {
   "cell_type": "code",
   "execution_count": 11,
   "id": "3588bcb8",
   "metadata": {},
   "outputs": [
    {
     "data": {
      "text/plain": [
       "0.3229166666666667"
      ]
     },
     "execution_count": 11,
     "metadata": {},
     "output_type": "execute_result"
    }
   ],
   "source": [
    "# Calculate the percentage of ones\n",
    "y_test.mean()"
   ]
  },
  {
   "cell_type": "code",
   "execution_count": 12,
   "id": "3721f1c9",
   "metadata": {},
   "outputs": [
    {
     "data": {
      "text/plain": [
       "0.6770833333333333"
      ]
     },
     "execution_count": 12,
     "metadata": {},
     "output_type": "execute_result"
    }
   ],
   "source": [
    "# Calculate the percentage of zeros\n",
    "1 - y_test.mean()"
   ]
  },
  {
   "cell_type": "code",
   "execution_count": 13,
   "id": "ba982867",
   "metadata": {},
   "outputs": [
    {
     "data": {
      "text/plain": [
       "0.6770833333333333"
      ]
     },
     "execution_count": 13,
     "metadata": {},
     "output_type": "execute_result"
    }
   ],
   "source": [
    "# Calcualte null accuracy (Binary classification coded it as 0/1)\n",
    "max(y_test.mean(), 1 - y_test.mean())"
   ]
  },
  {
   "cell_type": "code",
   "execution_count": 15,
   "id": "adc7d37d",
   "metadata": {},
   "outputs": [
    {
     "data": {
      "text/plain": [
       "0    0.677083\n",
       "Name: label, dtype: float64"
      ]
     },
     "execution_count": 15,
     "metadata": {},
     "output_type": "execute_result"
    }
   ],
   "source": [
    "# Calculate null accuracy (Multi-class classification)\n",
    "y_test.value_counts().head(1) / len(y_test)"
   ]
  },
  {
   "cell_type": "markdown",
   "id": "ae4ffc58",
   "metadata": {},
   "source": [
    "### Comparison\n",
    "Comparing the true and predicted response values"
   ]
  },
  {
   "cell_type": "code",
   "execution_count": 17,
   "id": "497650c1",
   "metadata": {},
   "outputs": [
    {
     "name": "stdout",
     "output_type": "stream",
     "text": [
      "True: [1 0 0 1 0 0 1 1 0 0 1 1 0 0 0 0 1 0 0 0 1 1 0 0 0]\n",
      "Pred: [0 0 0 0 0 0 0 1 0 1 0 1 0 0 0 0 0 0 0 0 0 0 0 0 0]\n"
     ]
    }
   ],
   "source": [
    "# Print first 25 true and predicted responses\n",
    "print(\"True:\", y_test.values[0:25])\n",
    "print(\"Pred:\", y_pred_class[0:25])"
   ]
  },
  {
   "cell_type": "markdown",
   "id": "4f415745",
   "metadata": {},
   "source": [
    "### Conclusion:\n",
    "* Classification accuracy is the easiest classification metric to understand\n",
    "* Underlying distribution of response values\n",
    "* Don't telling the types of errors that made by classifier"
   ]
  },
  {
   "cell_type": "markdown",
   "id": "9d408a3a",
   "metadata": {},
   "source": [
    "## Confusion matrix\n",
    "Table that describes the performance of a classification model"
   ]
  },
  {
   "cell_type": "code",
   "execution_count": 18,
   "id": "8dd3dbed",
   "metadata": {},
   "outputs": [
    {
     "name": "stdout",
     "output_type": "stream",
     "text": [
      "[[114  16]\n",
      " [ 46  16]]\n"
     ]
    }
   ],
   "source": [
    "print(metrics.confusion_matrix(y_test, y_pred_class)) # (actual, predictions)"
   ]
  },
  {
   "cell_type": "code",
   "execution_count": 19,
   "id": "b6af9041",
   "metadata": {},
   "outputs": [
    {
     "name": "stdout",
     "output_type": "stream",
     "text": [
      "True: [1 0 0 1 0 0 1 1 0 0 1 1 0 0 0 0 1 0 0 0 1 1 0 0 0]\n",
      "Pred: [0 0 0 0 0 0 0 1 0 1 0 1 0 0 0 0 0 0 0 0 0 0 0 0 0]\n"
     ]
    }
   ],
   "source": [
    "# Print first 25 true and predicted responses\n",
    "print(\"True:\", y_test.values[0:25])\n",
    "print(\"Pred:\", y_pred_class[0:25])"
   ]
  },
  {
   "cell_type": "code",
   "execution_count": 54,
   "id": "c74f3bff",
   "metadata": {},
   "outputs": [],
   "source": [
    "# Saving confusion matrix and slice into four pieces\n",
    "confusion = metrics.confusion_matrix(y_test, y_pred_class)\n",
    "TP = confusion[1,1]\n",
    "TN = confusion[0,0]\n",
    "FP = confusion[0,1]\n",
    "FN = confusion[1,0]"
   ]
  },
  {
   "cell_type": "markdown",
   "id": "3ac0213c",
   "metadata": {},
   "source": [
    "### Metrics computed from a confusion matrix"
   ]
  },
  {
   "cell_type": "code",
   "execution_count": 45,
   "id": "671b8017",
   "metadata": {},
   "outputs": [
    {
     "data": {
      "text/plain": [
       "192"
      ]
     },
     "execution_count": 45,
     "metadata": {},
     "output_type": "execute_result"
    }
   ],
   "source": [
    "TP + TN + FP + FN"
   ]
  },
  {
   "cell_type": "code",
   "execution_count": 55,
   "id": "7b5d96ac",
   "metadata": {},
   "outputs": [
    {
     "name": "stdout",
     "output_type": "stream",
     "text": [
      "0.6770833333333334\n",
      "0.6770833333333334\n"
     ]
    }
   ],
   "source": [
    "### Classification Accuracy: Overall, how often the classifier correct?\n",
    "print((TP + TN) /  float(TP + TN + FP + FN))\n",
    "print(metrics.accuracy_score(y_test, y_pred_class))"
   ]
  },
  {
   "cell_type": "markdown",
   "id": "a5382fa4",
   "metadata": {},
   "source": [
    "### Classification Error: Missclassification Rate"
   ]
  },
  {
   "cell_type": "code",
   "execution_count": 56,
   "id": "80133615",
   "metadata": {},
   "outputs": [
    {
     "name": "stdout",
     "output_type": "stream",
     "text": [
      "0.3229166666666667\n",
      "0.32291666666666663\n"
     ]
    }
   ],
   "source": [
    "print((FP + FN) /  float(TP + TN + FP + FN))\n",
    "print(1 - metrics.accuracy_score(y_test, y_pred_class))"
   ]
  },
  {
   "cell_type": "markdown",
   "id": "2723c2cc",
   "metadata": {},
   "source": [
    "### Sensitivity\n",
    "When actual values is positive, how often predictions correct"
   ]
  },
  {
   "cell_type": "code",
   "execution_count": 57,
   "id": "43bb1276",
   "metadata": {},
   "outputs": [
    {
     "data": {
      "text/plain": [
       "array([[114,  16],\n",
       "       [ 46,  16]], dtype=int64)"
      ]
     },
     "execution_count": 57,
     "metadata": {},
     "output_type": "execute_result"
    }
   ],
   "source": [
    "metrics.confusion_matrix(y_test, y_pred_class)"
   ]
  },
  {
   "cell_type": "code",
   "execution_count": 58,
   "id": "2627fd3c",
   "metadata": {},
   "outputs": [
    {
     "data": {
      "text/plain": [
       "(16, 114, 46, 16)"
      ]
     },
     "execution_count": 58,
     "metadata": {},
     "output_type": "execute_result"
    }
   ],
   "source": [
    "TP, TN, FN, FP"
   ]
  },
  {
   "cell_type": "code",
   "execution_count": 61,
   "id": "624763e1",
   "metadata": {},
   "outputs": [
    {
     "name": "stdout",
     "output_type": "stream",
     "text": [
      "0.25806451612903225\n",
      "0.25806451612903225\n"
     ]
    }
   ],
   "source": [
    "print(TP / float(TP + FN))\n",
    "print(metrics.recall_score(y_test, y_pred_class))"
   ]
  },
  {
   "cell_type": "markdown",
   "id": "6c2a6cc2",
   "metadata": {},
   "source": [
    "### Specifictiy\n",
    "When actual values is negative, how often prediction correct"
   ]
  },
  {
   "cell_type": "code",
   "execution_count": 62,
   "id": "57db4453",
   "metadata": {},
   "outputs": [
    {
     "name": "stdout",
     "output_type": "stream",
     "text": [
      "0.8769230769230769\n"
     ]
    }
   ],
   "source": [
    "print(TN/float(TN+FP))"
   ]
  },
  {
   "cell_type": "markdown",
   "id": "a25f07a6",
   "metadata": {},
   "source": [
    "### False Positive Rate\n",
    "When actual values is negative, how often predictions incorrect"
   ]
  },
  {
   "cell_type": "code",
   "execution_count": 63,
   "id": "13e9edd5",
   "metadata": {},
   "outputs": [
    {
     "name": "stdout",
     "output_type": "stream",
     "text": [
      "0.12307692307692308\n"
     ]
    }
   ],
   "source": [
    "print(FP/float(TN+FP))"
   ]
  },
  {
   "cell_type": "markdown",
   "id": "ddbea7ba",
   "metadata": {},
   "source": [
    "### Precision\n",
    "When a positve value is predicted, how often is prediction correct"
   ]
  },
  {
   "cell_type": "code",
   "execution_count": 64,
   "id": "8e0b3ae5",
   "metadata": {},
   "outputs": [
    {
     "name": "stdout",
     "output_type": "stream",
     "text": [
      "0.5\n",
      "0.5\n"
     ]
    }
   ],
   "source": [
    "print(TP / float(TP+FP))\n",
    "print(metrics.precision_score(y_test, y_pred_class))"
   ]
  },
  {
   "cell_type": "markdown",
   "id": "c568fbc0",
   "metadata": {},
   "source": [
    "## ADJUSTING THE CLASSIFICATION THRESHOLD"
   ]
  },
  {
   "cell_type": "code",
   "execution_count": 65,
   "id": "e7ca9e11",
   "metadata": {},
   "outputs": [
    {
     "data": {
      "text/plain": [
       "array([0, 0, 0, 0, 0, 0, 0, 1, 0, 1], dtype=int64)"
      ]
     },
     "execution_count": 65,
     "metadata": {},
     "output_type": "execute_result"
    }
   ],
   "source": [
    "# Print the first 10 predicted responses\n",
    "logreg.predict(X_test)[0:10]"
   ]
  },
  {
   "cell_type": "code",
   "execution_count": 66,
   "id": "16acedb0",
   "metadata": {},
   "outputs": [
    {
     "data": {
      "text/plain": [
       "array([[0.61405867, 0.38594133],\n",
       "       [0.7505398 , 0.2494602 ],\n",
       "       [0.74167648, 0.25832352],\n",
       "       [0.60291327, 0.39708673],\n",
       "       [0.88426611, 0.11573389],\n",
       "       [0.87695895, 0.12304105],\n",
       "       [0.50819992, 0.49180008],\n",
       "       [0.44582289, 0.55417711],\n",
       "       [0.77950769, 0.22049231],\n",
       "       [0.25853303, 0.74146697]])"
      ]
     },
     "execution_count": 66,
     "metadata": {},
     "output_type": "execute_result"
    }
   ],
   "source": [
    "# Print the first 10 predicted probabilities of class membership\n",
    "logreg.predict_proba(X_test)[0:10, :]"
   ]
  },
  {
   "cell_type": "code",
   "execution_count": 67,
   "id": "291df251",
   "metadata": {},
   "outputs": [
    {
     "data": {
      "text/plain": [
       "array([0.38594133, 0.2494602 , 0.25832352, 0.39708673, 0.11573389,\n",
       "       0.12304105, 0.49180008, 0.55417711, 0.22049231, 0.74146697])"
      ]
     },
     "execution_count": 67,
     "metadata": {},
     "output_type": "execute_result"
    }
   ],
   "source": [
    "# Print the first 10 predicted probailities of class 1\n",
    "logreg.predict_proba(X_test)[0:10, 1]"
   ]
  },
  {
   "cell_type": "code",
   "execution_count": 68,
   "id": "43bd6f7b",
   "metadata": {},
   "outputs": [],
   "source": [
    "# Store the predicted probabilities for class 1\n",
    "y_pred_prob = logreg.predict_proba(X_test)[:, 1]"
   ]
  },
  {
   "cell_type": "code",
   "execution_count": 69,
   "id": "94d1089f",
   "metadata": {},
   "outputs": [
    {
     "data": {
      "text/plain": [
       "array([0.38594133, 0.2494602 , 0.25832352, 0.39708673, 0.11573389,\n",
       "       0.12304105, 0.49180008, 0.55417711, 0.22049231, 0.74146697,\n",
       "       0.32293716, 0.82407106, 0.34811449, 0.18091391, 0.42276465,\n",
       "       0.15215651, 0.44654688, 0.07349027, 0.46635231, 0.35046192,\n",
       "       0.47202441, 0.39192458, 0.15370776, 0.44204822, 0.10103982,\n",
       "       0.22638643, 0.05588069, 0.74269038, 0.10490497, 0.16748492,\n",
       "       0.41374945, 0.34425078, 0.18250176, 0.37390015, 0.0845611 ,\n",
       "       0.38783593, 0.44397396, 0.1092489 , 0.27514916, 0.28171778,\n",
       "       0.24669244, 0.40272108, 0.22189867, 0.26339471, 0.66873945,\n",
       "       0.00706526, 0.10628373, 0.17683771, 0.32535803, 0.24095393,\n",
       "       0.282465  , 0.20914899, 0.7934619 , 0.37804475, 0.42967842,\n",
       "       0.08943273, 0.14628981, 0.74255446, 0.14351044, 0.01930679,\n",
       "       0.68458888, 0.46034603, 0.08118313, 0.25311321, 0.21150143,\n",
       "       0.25836317, 0.46830552, 0.16282169, 0.41883989, 0.38983925,\n",
       "       0.15798729, 0.218916  , 0.24359488, 0.64015047, 0.49117411,\n",
       "       0.24255746, 0.61746372, 0.39128753, 0.23663088, 0.34718068,\n",
       "       0.59191392, 0.37161543, 0.26673856, 0.05441205, 0.31195753,\n",
       "       0.48571492, 0.10930907, 0.54747212, 0.68533147, 0.43227576,\n",
       "       0.15684031, 0.15226085, 0.19712312, 0.0634159 , 0.4432429 ,\n",
       "       0.1666438 , 0.57804433, 0.52201353, 0.71843334, 0.32556815,\n",
       "       0.59633222, 0.1079031 , 0.38083918, 0.06650512, 0.35113369,\n",
       "       0.30423357, 0.12962326, 0.17958337, 0.09226679, 0.16772446,\n",
       "       0.13647944, 0.52407024, 0.48600827, 0.26631529, 0.476716  ,\n",
       "       0.41616298, 0.16488291, 0.20643055, 0.15064692, 0.81544199,\n",
       "       0.50502006, 0.76016373, 0.42720467, 0.54879637, 0.11080984,\n",
       "       0.09478639, 0.3626007 , 0.31875944, 0.37656569, 0.08027091,\n",
       "       0.22938325, 0.01254099, 0.13845322, 0.71440742, 0.46948157,\n",
       "       0.50177173, 0.15825816, 0.47596007, 0.19038424, 0.13712664,\n",
       "       0.22946281, 0.3572601 , 0.08304411, 0.41191846, 0.42669918,\n",
       "       0.09199622, 0.15194195, 0.25459599, 0.11248437, 0.34021612,\n",
       "       0.18765096, 0.46113913, 0.15059716, 0.19011821, 0.66646287,\n",
       "       0.14589548, 0.86613122, 0.12436623, 0.33700821, 0.86700739,\n",
       "       0.40843642, 0.34886987, 0.06895375, 0.17990047, 0.48354209,\n",
       "       0.17944089, 0.51431594, 0.11286536, 0.1969813 , 0.28519115,\n",
       "       0.11990492, 0.50123357, 0.25633281, 0.49876604, 0.56179848,\n",
       "       0.25227861, 0.68627831, 0.42160936, 0.20757424, 0.12988818,\n",
       "       0.30860228, 0.75898019, 0.30901571, 0.37736515, 0.18828385,\n",
       "       0.1879055 , 0.41628315, 0.19541485, 0.23996229, 0.12838537,\n",
       "       0.22679679, 0.23899484])"
      ]
     },
     "execution_count": 69,
     "metadata": {},
     "output_type": "execute_result"
    }
   ],
   "source": [
    "y_pred_prob"
   ]
  },
  {
   "cell_type": "code",
   "execution_count": 70,
   "id": "23155609",
   "metadata": {},
   "outputs": [],
   "source": [
    "# Allow plots to appear in the notebook\n",
    "%matplotlib inline\n",
    "import matplotlib.pyplot as plt\n",
    "plt.rcParams[\"font.size\"] = 14"
   ]
  },
  {
   "cell_type": "code",
   "execution_count": 71,
   "id": "c2aa324e",
   "metadata": {},
   "outputs": [
    {
     "data": {
      "text/plain": [
       "Text(0, 0.5, 'Frequency')"
      ]
     },
     "execution_count": 71,
     "metadata": {},
     "output_type": "execute_result"
    },
    {
     "data": {
      "image/png": "[encoded data removed]",
      "text/plain": [
       "<Figure size 432x288 with 1 Axes>"
      ]
     },
     "metadata": {
      "needs_background": "light"
     },
     "output_type": "display_data"
    }
   ],
   "source": [
    "# Histogram of predicted probabilities\n",
    "plt.hist(y_pred_prob, bins=8)\n",
    "plt.xlim(0, 1)\n",
    "plt.title(\"Histogram of predicted probabilities\")\n",
    "plt.xlabel(\"Predicted probability of diabetes\")\n",
    "plt.ylabel(\"Frequency\")"
   ]
  },
  {
   "cell_type": "markdown",
   "id": "fd9fbfe7",
   "metadata": {},
   "source": [
    "### Decrease the threshold for predicting diabetes in order to increase the sensitivity of the classifier"
   ]
  },
  {
   "cell_type": "code",
   "execution_count": 86,
   "id": "ed2cd3e1",
   "metadata": {},
   "outputs": [],
   "source": [
    "# Predict diabetes if the predicted probabilit is greater than 0.3\n",
    "from sklearn.preprocessing import binarize\n",
    "y_pred_class = binarize(y_pred_prob.reshape(1,-1), threshold=0.3)[0]"
   ]
  },
  {
   "cell_type": "code",
   "execution_count": 87,
   "id": "ad732f86",
   "metadata": {},
   "outputs": [
    {
     "data": {
      "text/plain": [
       "array([0.38594133, 0.2494602 , 0.25832352, 0.39708673, 0.11573389,\n",
       "       0.12304105, 0.49180008, 0.55417711, 0.22049231, 0.74146697])"
      ]
     },
     "execution_count": 87,
     "metadata": {},
     "output_type": "execute_result"
    }
   ],
   "source": [
    "# Print the first 10 predicted probabilities\n",
    "y_pred_prob[0:10]"
   ]
  },
  {
   "cell_type": "code",
   "execution_count": 88,
   "id": "faa4597d",
   "metadata": {},
   "outputs": [
    {
     "data": {
      "text/plain": [
       "array([1., 0., 0., 1., 0., 0., 1., 1., 0., 1.])"
      ]
     },
     "execution_count": 88,
     "metadata": {},
     "output_type": "execute_result"
    }
   ],
   "source": [
    "# Print the first 10 predicted class with the lower threshold\n",
    "y_pred_class[0:10]"
   ]
  },
  {
   "cell_type": "code",
   "execution_count": 89,
   "id": "d4fc8c5f",
   "metadata": {},
   "outputs": [
    {
     "name": "stdout",
     "output_type": "stream",
     "text": [
      "[[114  16]\n",
      " [ 46  16]]\n"
     ]
    }
   ],
   "source": [
    "# Print confusion threshold = 0.5\n",
    "print(confusion)"
   ]
  },
  {
   "cell_type": "code",
   "execution_count": 93,
   "id": "b2af6520",
   "metadata": {},
   "outputs": [
    {
     "name": "stdout",
     "output_type": "stream",
     "text": [
      "[[82 48]\n",
      " [17 45]]\n"
     ]
    }
   ],
   "source": [
    "# New confusion threshold = 0.3\n",
    "print(metrics.confusion_matrix(y_test, y_pred_class))"
   ]
  },
  {
   "cell_type": "code",
   "execution_count": 94,
   "id": "ea18f005",
   "metadata": {},
   "outputs": [
    {
     "name": "stdout",
     "output_type": "stream",
     "text": [
      "0.7258064516129032\n"
     ]
    }
   ],
   "source": [
    "# Sensitivity increased\n",
    "print(45 / float(45 + 17))"
   ]
  },
  {
   "cell_type": "code",
   "execution_count": 96,
   "id": "d2d464d8",
   "metadata": {},
   "outputs": [
    {
     "name": "stdout",
     "output_type": "stream",
     "text": [
      "0.6307692307692307\n"
     ]
    }
   ],
   "source": [
    "# Specificity decreased\n",
    "print(82 / float (82 + 48))"
   ]
  },
  {
   "cell_type": "markdown",
   "id": "84c037fc",
   "metadata": {},
   "source": [
    "Sensitivity and Specificity is inversed"
   ]
  },
  {
   "cell_type": "markdown",
   "id": "4d6a6117",
   "metadata": {},
   "source": [
    "## ROC Curves and AUC"
   ]
  },
  {
   "cell_type": "markdown",
   "id": "72cb51e3",
   "metadata": {},
   "source": [
    "### Plot ROC curves"
   ]
  },
  {
   "cell_type": "code",
   "execution_count": 97,
   "id": "7ed9d84a",
   "metadata": {},
   "outputs": [
    {
     "data": {
      "image/png": "[encoded data removed]",
      "text/plain": [
       "<Figure size 432x288 with 1 Axes>"
      ]
     },
     "metadata": {
      "needs_background": "light"
     },
     "output_type": "display_data"
    }
   ],
   "source": [
    "# Important: First argument is true values, second argument is predicted probabilities\n",
    "fpr, tpr, thresholds = metrics.roc_curve(y_test, y_pred_prob)\n",
    "plt.plot(fpr, tpr)\n",
    "plt.xlim([0.0, 1.0])\n",
    "plt.ylim([0.0, 1.0])\n",
    "plt.title(\"ROC curve for diabetes classifier\")\n",
    "plt.xlabel(\"False Positive Rate (1 - Specificity)\")\n",
    "plt.ylabel(\"True Positive Rate (Sensitivity)\")\n",
    "plt.grid(True)"
   ]
  },
  {
   "cell_type": "markdown",
   "id": "0d92ab9c",
   "metadata": {},
   "source": [
    "* ROC curve can help for choosing a threshold that balances sensitivity and specificity in a way that makes sense\n",
    "* You can't actually see the thresholds used to generate the curve on the ROC curve itself"
   ]
  },
  {
   "cell_type": "code",
   "execution_count": 98,
   "id": "0dbe053f",
   "metadata": {},
   "outputs": [],
   "source": [
    "# Define a function that accepts a threshold and prints sensitivity and specificity\n",
    "def evaluate_threshold(threshold):\n",
    "    print(\"Sensitivity:\", tpr[thresholds > threshold][-1])\n",
    "    print(\"Specificity:\", 1 - fpr[thresholds > threshold][-1])"
   ]
  },
  {
   "cell_type": "code",
   "execution_count": 99,
   "id": "fa2d0d97",
   "metadata": {},
   "outputs": [
    {
     "name": "stdout",
     "output_type": "stream",
     "text": [
      "Sensitivity: 0.25806451612903225\n",
      "Specificity: 0.8769230769230769\n"
     ]
    }
   ],
   "source": [
    "evaluate_threshold(0.5)"
   ]
  },
  {
   "cell_type": "code",
   "execution_count": 100,
   "id": "957a1def",
   "metadata": {},
   "outputs": [
    {
     "name": "stdout",
     "output_type": "stream",
     "text": [
      "Sensitivity: 0.7258064516129032\n",
      "Specificity: 0.6307692307692307\n"
     ]
    }
   ],
   "source": [
    "evaluate_threshold(0.3)"
   ]
  },
  {
   "cell_type": "markdown",
   "id": "652589f6",
   "metadata": {},
   "source": [
    "AUC is the percentage of the ROC plot that is underneath the curve"
   ]
  },
  {
   "cell_type": "code",
   "execution_count": 101,
   "id": "e7ec22bf",
   "metadata": {},
   "outputs": [
    {
     "name": "stdout",
     "output_type": "stream",
     "text": [
      "0.7227047146401985\n"
     ]
    }
   ],
   "source": [
    "# First argument is true values, second is predicted probabailities\n",
    "print(metrics.roc_auc_score(y_test, y_pred_prob))"
   ]
  },
  {
   "cell_type": "code",
   "execution_count": 102,
   "id": "009c0930",
   "metadata": {},
   "outputs": [
    {
     "data": {
      "text/plain": [
       "0.7425071225071225"
      ]
     },
     "execution_count": 102,
     "metadata": {},
     "output_type": "execute_result"
    }
   ],
   "source": [
    "# Calcualte cross validation of AUC\n",
    "from sklearn.model_selection import cross_val_score\n",
    "cross_val_score(logreg, X, y, cv=10, scoring='roc_auc').mean()"
   ]
  },
  {
   "cell_type": "markdown",
   "id": "150765ed",
   "metadata": {},
   "source": [
    "# Conclusion\n",
    "\n",
    "## A. Confusion Matrix\n",
    "* Allows callculating variety of metrics\n",
    "* Useful for multi-class probles\n",
    "\n",
    "## B. ROC/AUC \n",
    "* Don't require set a classification threshold\n",
    "* Useful in high class imbalance"
   ]
  }
 ],
 "metadata": {
  "kernelspec": {
   "display_name": "Python 3",
   "language": "python",
   "name": "python3"
  },
  "language_info": {
   "codemirror_mode": {
    "name": "ipython",
    "version": 3
   },
   "file_extension": ".py",
   "mimetype": "text/x-python",
   "name": "python",
   "nbconvert_exporter": "python",
   "pygments_lexer": "ipython3",
   "version": "3.8.8"
  }
 },
 "nbformat": 4,
 "nbformat_minor": 5
}
