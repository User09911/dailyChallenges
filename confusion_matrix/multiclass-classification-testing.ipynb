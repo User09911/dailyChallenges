{
 "cells": [
  {
   "cell_type": "code",
   "execution_count": 1,
   "id": "274c68e5",
   "metadata": {},
   "outputs": [],
   "source": [
    "import matplotlib.pyplot as plt\n",
    "import seaborn as sns\n",
    "import pandas as pd\n",
    "import numpy as np"
   ]
  },
  {
   "cell_type": "code",
   "execution_count": 6,
   "id": "903f4d96",
   "metadata": {},
   "outputs": [],
   "source": [
    "model1_predict = pd.read_excel('dataset/Model1_Output.xlsx', index_col=[0])\n",
    "model2_predict = pd.read_excel('dataset/Model2_Output.xlsx', index_col=[0])"
   ]
  },
  {
   "cell_type": "code",
   "execution_count": 8,
   "id": "db7cd480",
   "metadata": {},
   "outputs": [
    {
     "data": {
      "text/html": [
       "<div>\n",
       "<style scoped>\n",
       "    .dataframe tbody tr th:only-of-type {\n",
       "        vertical-align: middle;\n",
       "    }\n",
       "\n",
       "    .dataframe tbody tr th {\n",
       "        vertical-align: top;\n",
       "    }\n",
       "\n",
       "    .dataframe thead th {\n",
       "        text-align: right;\n",
       "    }\n",
       "</style>\n",
       "<table border=\"1\" class=\"dataframe\">\n",
       "  <thead>\n",
       "    <tr style=\"text-align: right;\">\n",
       "      <th></th>\n",
       "      <th>Actual_class</th>\n",
       "      <th>Predicted_class</th>\n",
       "      <th>Prob</th>\n",
       "    </tr>\n",
       "    <tr>\n",
       "      <th>S.No</th>\n",
       "      <th></th>\n",
       "      <th></th>\n",
       "      <th></th>\n",
       "    </tr>\n",
       "  </thead>\n",
       "  <tbody>\n",
       "    <tr>\n",
       "      <th>1</th>\n",
       "      <td>Chimpanzee</td>\n",
       "      <td>Chimpanzee</td>\n",
       "      <td>0.66</td>\n",
       "    </tr>\n",
       "    <tr>\n",
       "      <th>2</th>\n",
       "      <td>Cow</td>\n",
       "      <td>Cow</td>\n",
       "      <td>0.61</td>\n",
       "    </tr>\n",
       "    <tr>\n",
       "      <th>3</th>\n",
       "      <td>Dog</td>\n",
       "      <td>Dog</td>\n",
       "      <td>0.56</td>\n",
       "    </tr>\n",
       "    <tr>\n",
       "      <th>4</th>\n",
       "      <td>Dog</td>\n",
       "      <td>Dog</td>\n",
       "      <td>0.95</td>\n",
       "    </tr>\n",
       "    <tr>\n",
       "      <th>5</th>\n",
       "      <td>Cat</td>\n",
       "      <td>Cat</td>\n",
       "      <td>0.91</td>\n",
       "    </tr>\n",
       "  </tbody>\n",
       "</table>\n",
       "</div>"
      ],
      "text/plain": [
       "     Actual_class Predicted_class  Prob\n",
       "S.No                                   \n",
       "1      Chimpanzee      Chimpanzee  0.66\n",
       "2             Cow             Cow  0.61\n",
       "3             Dog             Dog  0.56\n",
       "4             Dog             Dog  0.95\n",
       "5             Cat             Cat  0.91"
      ]
     },
     "execution_count": 8,
     "metadata": {},
     "output_type": "execute_result"
    }
   ],
   "source": [
    "model1_predict.head()"
   ]
  },
  {
   "cell_type": "code",
   "execution_count": 9,
   "id": "fd6565cc",
   "metadata": {},
   "outputs": [
    {
     "data": {
      "text/html": [
       "<div>\n",
       "<style scoped>\n",
       "    .dataframe tbody tr th:only-of-type {\n",
       "        vertical-align: middle;\n",
       "    }\n",
       "\n",
       "    .dataframe tbody tr th {\n",
       "        vertical-align: top;\n",
       "    }\n",
       "\n",
       "    .dataframe thead th {\n",
       "        text-align: right;\n",
       "    }\n",
       "</style>\n",
       "<table border=\"1\" class=\"dataframe\">\n",
       "  <thead>\n",
       "    <tr style=\"text-align: right;\">\n",
       "      <th></th>\n",
       "      <th>Actual_class</th>\n",
       "      <th>Predicted_class</th>\n",
       "      <th>Prob</th>\n",
       "    </tr>\n",
       "    <tr>\n",
       "      <th>S.No</th>\n",
       "      <th></th>\n",
       "      <th></th>\n",
       "      <th></th>\n",
       "    </tr>\n",
       "  </thead>\n",
       "  <tbody>\n",
       "    <tr>\n",
       "      <th>1</th>\n",
       "      <td>Chimpanzee</td>\n",
       "      <td>Chimpanzee</td>\n",
       "      <td>0.75</td>\n",
       "    </tr>\n",
       "    <tr>\n",
       "      <th>2</th>\n",
       "      <td>Cow</td>\n",
       "      <td>Cow</td>\n",
       "      <td>0.93</td>\n",
       "    </tr>\n",
       "    <tr>\n",
       "      <th>3</th>\n",
       "      <td>Dog</td>\n",
       "      <td>Dog</td>\n",
       "      <td>0.77</td>\n",
       "    </tr>\n",
       "    <tr>\n",
       "      <th>4</th>\n",
       "      <td>Dog</td>\n",
       "      <td>Dog</td>\n",
       "      <td>0.72</td>\n",
       "    </tr>\n",
       "    <tr>\n",
       "      <th>5</th>\n",
       "      <td>Cat</td>\n",
       "      <td>Cat</td>\n",
       "      <td>0.56</td>\n",
       "    </tr>\n",
       "  </tbody>\n",
       "</table>\n",
       "</div>"
      ],
      "text/plain": [
       "     Actual_class Predicted_class  Prob\n",
       "S.No                                   \n",
       "1      Chimpanzee      Chimpanzee  0.75\n",
       "2             Cow             Cow  0.93\n",
       "3             Dog             Dog  0.77\n",
       "4             Dog             Dog  0.72\n",
       "5             Cat             Cat  0.56"
      ]
     },
     "execution_count": 9,
     "metadata": {},
     "output_type": "execute_result"
    }
   ],
   "source": [
    "model2_predict.head()"
   ]
  },
  {
   "cell_type": "code",
   "execution_count": 11,
   "id": "2504bf31",
   "metadata": {},
   "outputs": [],
   "source": [
    "# Fungsi untuk membandingkan satu kolom dengan kolom lainnya\n",
    "confusion_m1 = pd.crosstab(model1_predict.Predicted_class, model1_predict.Actual_class) \n",
    "confusion_m2 = pd.crosstab(model2_predict.Predicted_class, model2_predict.Actual_class) "
   ]
  },
  {
   "cell_type": "code",
   "execution_count": 12,
   "id": "19023101",
   "metadata": {},
   "outputs": [
    {
     "data": {
      "text/html": [
       "<div>\n",
       "<style scoped>\n",
       "    .dataframe tbody tr th:only-of-type {\n",
       "        vertical-align: middle;\n",
       "    }\n",
       "\n",
       "    .dataframe tbody tr th {\n",
       "        vertical-align: top;\n",
       "    }\n",
       "\n",
       "    .dataframe thead th {\n",
       "        text-align: right;\n",
       "    }\n",
       "</style>\n",
       "<table border=\"1\" class=\"dataframe\">\n",
       "  <thead>\n",
       "    <tr style=\"text-align: right;\">\n",
       "      <th>Actual_class</th>\n",
       "      <th>Cat</th>\n",
       "      <th>Chimpanzee</th>\n",
       "      <th>Cow</th>\n",
       "      <th>Dog</th>\n",
       "      <th>Elephent</th>\n",
       "      <th>Lion</th>\n",
       "      <th>Panda</th>\n",
       "      <th>Spider</th>\n",
       "    </tr>\n",
       "    <tr>\n",
       "      <th>Predicted_class</th>\n",
       "      <th></th>\n",
       "      <th></th>\n",
       "      <th></th>\n",
       "      <th></th>\n",
       "      <th></th>\n",
       "      <th></th>\n",
       "      <th></th>\n",
       "      <th></th>\n",
       "    </tr>\n",
       "  </thead>\n",
       "  <tbody>\n",
       "    <tr>\n",
       "      <th>Cat</th>\n",
       "      <td>60</td>\n",
       "      <td>0</td>\n",
       "      <td>0</td>\n",
       "      <td>1</td>\n",
       "      <td>0</td>\n",
       "      <td>3</td>\n",
       "      <td>0</td>\n",
       "      <td>0</td>\n",
       "    </tr>\n",
       "    <tr>\n",
       "      <th>Chimpanzee</th>\n",
       "      <td>0</td>\n",
       "      <td>31</td>\n",
       "      <td>0</td>\n",
       "      <td>0</td>\n",
       "      <td>0</td>\n",
       "      <td>0</td>\n",
       "      <td>1</td>\n",
       "      <td>0</td>\n",
       "    </tr>\n",
       "    <tr>\n",
       "      <th>Cow</th>\n",
       "      <td>0</td>\n",
       "      <td>0</td>\n",
       "      <td>76</td>\n",
       "      <td>0</td>\n",
       "      <td>0</td>\n",
       "      <td>0</td>\n",
       "      <td>0</td>\n",
       "      <td>0</td>\n",
       "    </tr>\n",
       "    <tr>\n",
       "      <th>Dog</th>\n",
       "      <td>2</td>\n",
       "      <td>0</td>\n",
       "      <td>2</td>\n",
       "      <td>63</td>\n",
       "      <td>0</td>\n",
       "      <td>0</td>\n",
       "      <td>0</td>\n",
       "      <td>0</td>\n",
       "    </tr>\n",
       "    <tr>\n",
       "      <th>Elephent</th>\n",
       "      <td>0</td>\n",
       "      <td>0</td>\n",
       "      <td>0</td>\n",
       "      <td>0</td>\n",
       "      <td>72</td>\n",
       "      <td>0</td>\n",
       "      <td>0</td>\n",
       "      <td>0</td>\n",
       "    </tr>\n",
       "    <tr>\n",
       "      <th>Lion</th>\n",
       "      <td>4</td>\n",
       "      <td>0</td>\n",
       "      <td>0</td>\n",
       "      <td>0</td>\n",
       "      <td>0</td>\n",
       "      <td>65</td>\n",
       "      <td>0</td>\n",
       "      <td>0</td>\n",
       "    </tr>\n",
       "    <tr>\n",
       "      <th>Panda</th>\n",
       "      <td>0</td>\n",
       "      <td>28</td>\n",
       "      <td>0</td>\n",
       "      <td>0</td>\n",
       "      <td>0</td>\n",
       "      <td>0</td>\n",
       "      <td>73</td>\n",
       "      <td>0</td>\n",
       "    </tr>\n",
       "    <tr>\n",
       "      <th>Spider</th>\n",
       "      <td>0</td>\n",
       "      <td>0</td>\n",
       "      <td>0</td>\n",
       "      <td>0</td>\n",
       "      <td>0</td>\n",
       "      <td>0</td>\n",
       "      <td>1</td>\n",
       "      <td>72</td>\n",
       "    </tr>\n",
       "  </tbody>\n",
       "</table>\n",
       "</div>"
      ],
      "text/plain": [
       "Actual_class     Cat  Chimpanzee  Cow  Dog  Elephent  Lion  Panda  Spider\n",
       "Predicted_class                                                          \n",
       "Cat               60           0    0    1         0     3      0       0\n",
       "Chimpanzee         0          31    0    0         0     0      1       0\n",
       "Cow                0           0   76    0         0     0      0       0\n",
       "Dog                2           0    2   63         0     0      0       0\n",
       "Elephent           0           0    0    0        72     0      0       0\n",
       "Lion               4           0    0    0         0    65      0       0\n",
       "Panda              0          28    0    0         0     0     73       0\n",
       "Spider             0           0    0    0         0     0      1      72"
      ]
     },
     "execution_count": 12,
     "metadata": {},
     "output_type": "execute_result"
    }
   ],
   "source": [
    "confusion_m1"
   ]
  },
  {
   "cell_type": "code",
   "execution_count": 17,
   "id": "fd19bb41",
   "metadata": {},
   "outputs": [
    {
     "data": {
      "text/plain": [
       "Text(0.5, 1.0, 'Model2 Predictions')"
      ]
     },
     "execution_count": 17,
     "metadata": {},
     "output_type": "execute_result"
    },
    {
     "data": {
      "image/png": "[encoded data removed]",
      "text/plain": [
       "<Figure size 1224x360 with 4 Axes>"
      ]
     },
     "metadata": {
      "needs_background": "light"
     },
     "output_type": "display_data"
    }
   ],
   "source": [
    "fig = plt.figure(figsize=(17,5))\n",
    "ax1 = plt.subplot(121)\n",
    "sns.heatmap(confusion_m1, annot=True, cmap='Blues')\n",
    "ax1.set_title(\"Model1 Predictions\")\n",
    "ax2 = plt.subplot(122)\n",
    "sns.heatmap(confusion_m2, annot=True, cmap='Blues')\n",
    "ax2.set_title(\"Model2 Predictions\")"
   ]
  },
  {
   "cell_type": "code",
   "execution_count": 18,
   "id": "f293cc03",
   "metadata": {},
   "outputs": [
    {
     "data": {
      "text/plain": [
       "array([60, 31, 76, 63, 72, 65, 73, 72], dtype=int64)"
      ]
     },
     "execution_count": 18,
     "metadata": {},
     "output_type": "execute_result"
    }
   ],
   "source": [
    "np.diag(confusion_m1)"
   ]
  },
  {
   "cell_type": "code",
   "execution_count": 19,
   "id": "3471286c",
   "metadata": {},
   "outputs": [
    {
     "data": {
      "text/plain": [
       "array([54, 55, 73, 43, 58, 61, 73, 72], dtype=int64)"
      ]
     },
     "execution_count": 19,
     "metadata": {},
     "output_type": "execute_result"
    }
   ],
   "source": [
    "np.diag(confusion_m2)"
   ]
  },
  {
   "cell_type": "code",
   "execution_count": 20,
   "id": "fd2bfc11",
   "metadata": {},
   "outputs": [
    {
     "data": {
      "text/plain": [
       "512"
      ]
     },
     "execution_count": 20,
     "metadata": {},
     "output_type": "execute_result"
    }
   ],
   "source": [
    "np.diag(confusion_m1).sum() # all diagonal"
   ]
  },
  {
   "cell_type": "code",
   "execution_count": 22,
   "id": "30cbd1f6",
   "metadata": {},
   "outputs": [
    {
     "data": {
      "text/plain": [
       "554"
      ]
     },
     "execution_count": 22,
     "metadata": {},
     "output_type": "execute_result"
    }
   ],
   "source": [
    "confusion_m1.sum().sum() # all answer (Total)"
   ]
  },
  {
   "cell_type": "code",
   "execution_count": 23,
   "id": "54061dfb",
   "metadata": {},
   "outputs": [
    {
     "data": {
      "text/plain": [
       "0.924187725631769"
      ]
     },
     "execution_count": 23,
     "metadata": {},
     "output_type": "execute_result"
    }
   ],
   "source": [
    "acc1 = np.diag(confusion_m1).sum() / confusion_m1.sum().sum()\n",
    "acc1"
   ]
  },
  {
   "cell_type": "code",
   "execution_count": 24,
   "id": "02ad2fff",
   "metadata": {},
   "outputs": [
    {
     "data": {
      "text/plain": [
       "0.8826714801444043"
      ]
     },
     "execution_count": 24,
     "metadata": {},
     "output_type": "execute_result"
    }
   ],
   "source": [
    "acc2 = np.diag(confusion_m2).sum() / confusion_m2.sum().sum()\n",
    "acc2"
   ]
  },
  {
   "cell_type": "code",
   "execution_count": 34,
   "id": "f82529da",
   "metadata": {},
   "outputs": [],
   "source": [
    "TP = confusion_m1.iloc[0,0]\n",
    "FP = confusion_m1.iloc[0,:].sum() - TP\n",
    "TN = confusion_m1.iloc[1:,1:].sum().sum()\n",
    "FN = confusion_m1.iloc[:,0].sum() - TP"
   ]
  },
  {
   "cell_type": "code",
   "execution_count": 36,
   "id": "c554c1d5",
   "metadata": {},
   "outputs": [
    {
     "name": "stdout",
     "output_type": "stream",
     "text": [
      "True Positive: 60\n",
      "False Positive: 4\n",
      "True Negative: 484\n",
      "False Negative: 6\n"
     ]
    }
   ],
   "source": [
    "print(\"True Positive:\", TP)\n",
    "print(\"False Positive:\", FP)\n",
    "print(\"True Negative:\", TN)\n",
    "print(\"False Negative:\", FN)"
   ]
  },
  {
   "cell_type": "code",
   "execution_count": 32,
   "id": "154d5036",
   "metadata": {},
   "outputs": [
    {
     "data": {
      "text/plain": [
       "484"
      ]
     },
     "execution_count": 32,
     "metadata": {},
     "output_type": "execute_result"
    }
   ],
   "source": [
    "confusion_m1.iloc[1:,1:].sum().sum()"
   ]
  },
  {
   "cell_type": "code",
   "execution_count": 44,
   "id": "7b7c2ecb",
   "metadata": {},
   "outputs": [
    {
     "data": {
      "text/plain": [
       "0.9819494584837545"
      ]
     },
     "execution_count": 44,
     "metadata": {},
     "output_type": "execute_result"
    }
   ],
   "source": [
    "Accuracy = (TP+TN) / confusion_m1.sum().sum()\n",
    "Accuracy"
   ]
  },
  {
   "cell_type": "code",
   "execution_count": 41,
   "id": "b09143d9",
   "metadata": {},
   "outputs": [
    {
     "data": {
      "text/plain": [
       "0.9375"
      ]
     },
     "execution_count": 41,
     "metadata": {},
     "output_type": "execute_result"
    }
   ],
   "source": [
    "Precision = TP/(TP+FP)\n",
    "Precision"
   ]
  },
  {
   "cell_type": "code",
   "execution_count": 42,
   "id": "6207cd82",
   "metadata": {},
   "outputs": [
    {
     "data": {
      "text/plain": [
       "0.9090909090909091"
      ]
     },
     "execution_count": 42,
     "metadata": {},
     "output_type": "execute_result"
    }
   ],
   "source": [
    "Recall = TP / (TP+FN)\n",
    "Recall"
   ]
  },
  {
   "cell_type": "code",
   "execution_count": 45,
   "id": "79391a2f",
   "metadata": {},
   "outputs": [
    {
     "data": {
      "text/plain": [
       "0.923076923076923"
      ]
     },
     "execution_count": 45,
     "metadata": {},
     "output_type": "execute_result"
    }
   ],
   "source": [
    "F1_Score = (2 * Precision * Recall) / (Precision + Recall)\n",
    "F1_Score"
   ]
  },
  {
   "cell_type": "code",
   "execution_count": 48,
   "id": "c54e6359",
   "metadata": {},
   "outputs": [
    {
     "name": "stdout",
     "output_type": "stream",
     "text": [
      "Cat \n",
      "Accuracy: 0.9819494584837545 \n",
      "Precision: 0.9375 \n",
      "Recall: 0.9090909090909091 \n",
      "F1_Score: 0.923076923076923 \n",
      "=========\n",
      "\n",
      "Chimpanzee \n",
      "Accuracy: 0.9476534296028881 \n",
      "Precision: 0.96875 \n",
      "Recall: 0.5254237288135594 \n",
      "F1_Score: 0.6813186813186813 \n",
      "=========\n",
      "\n",
      "Cow \n",
      "Accuracy: 0.9963898916967509 \n",
      "Precision: 1.0 \n",
      "Recall: 0.9743589743589743 \n",
      "F1_Score: 0.9870129870129869 \n",
      "=========\n",
      "\n",
      "Dog \n",
      "Accuracy: 0.9909747292418772 \n",
      "Precision: 0.9402985074626866 \n",
      "Recall: 0.984375 \n",
      "F1_Score: 0.9618320610687023 \n",
      "=========\n",
      "\n",
      "Elephent \n",
      "Accuracy: 1.0 \n",
      "Precision: 1.0 \n",
      "Recall: 1.0 \n",
      "F1_Score: 1.0 \n",
      "=========\n",
      "\n",
      "Lion \n",
      "Accuracy: 0.9873646209386282 \n",
      "Precision: 0.9420289855072463 \n",
      "Recall: 0.9558823529411765 \n",
      "F1_Score: 0.9489051094890512 \n",
      "=========\n",
      "\n",
      "Panda \n",
      "Accuracy: 0.9458483754512635 \n",
      "Precision: 0.7227722772277227 \n",
      "Recall: 0.9733333333333334 \n",
      "F1_Score: 0.8295454545454545 \n",
      "=========\n",
      "\n",
      "Spider \n",
      "Accuracy: 0.9981949458483754 \n",
      "Precision: 0.9863013698630136 \n",
      "Recall: 1.0 \n",
      "F1_Score: 0.993103448275862 \n",
      "=========\n",
      "\n"
     ]
    }
   ],
   "source": [
    "for i in range(confusion_m1.shape[0]):\n",
    "    TP = confusion_m1.iloc[i,i]\n",
    "    FP = confusion_m1.iloc[i,:].sum() - TP\n",
    "    FN = confusion_m1.iloc[:,i].sum() - TP\n",
    "    TN = confusion_m1.sum().sum() - TP - FP - FN\n",
    "    Accuracy = (TP+TN) / confusion_m1.sum().sum()\n",
    "    Precision = TP/(TP+FP)\n",
    "    Recall = TP / (TP+FN)\n",
    "    F1_Score = (2 * Precision * Recall) / (Precision + Recall)\n",
    "    print(confusion_m1.index[i], '\\nAccuracy:', Accuracy, '\\nPrecision:', Precision, '\\nRecall:', Recall, '\\nF1_Score:', F1_Score, '\\n=========\\n')"
   ]
  },
  {
   "cell_type": "markdown",
   "id": "c99eea3d",
   "metadata": {},
   "source": [
    "## Using libraries"
   ]
  },
  {
   "cell_type": "code",
   "execution_count": 49,
   "id": "5c6c5421",
   "metadata": {},
   "outputs": [],
   "source": [
    "from sklearn.metrics import classification_report"
   ]
  },
  {
   "cell_type": "code",
   "execution_count": 52,
   "id": "816ad4de",
   "metadata": {},
   "outputs": [
    {
     "data": {
      "text/html": [
       "<div>\n",
       "<style scoped>\n",
       "    .dataframe tbody tr th:only-of-type {\n",
       "        vertical-align: middle;\n",
       "    }\n",
       "\n",
       "    .dataframe tbody tr th {\n",
       "        vertical-align: top;\n",
       "    }\n",
       "\n",
       "    .dataframe thead th {\n",
       "        text-align: right;\n",
       "    }\n",
       "</style>\n",
       "<table border=\"1\" class=\"dataframe\">\n",
       "  <thead>\n",
       "    <tr style=\"text-align: right;\">\n",
       "      <th></th>\n",
       "      <th>precision</th>\n",
       "      <th>recall</th>\n",
       "      <th>f1-score</th>\n",
       "      <th>support</th>\n",
       "    </tr>\n",
       "  </thead>\n",
       "  <tbody>\n",
       "    <tr>\n",
       "      <th>Cat</th>\n",
       "      <td>0.937500</td>\n",
       "      <td>0.909091</td>\n",
       "      <td>0.923077</td>\n",
       "      <td>66.000000</td>\n",
       "    </tr>\n",
       "    <tr>\n",
       "      <th>Chimpanzee</th>\n",
       "      <td>0.968750</td>\n",
       "      <td>0.525424</td>\n",
       "      <td>0.681319</td>\n",
       "      <td>59.000000</td>\n",
       "    </tr>\n",
       "    <tr>\n",
       "      <th>Cow</th>\n",
       "      <td>1.000000</td>\n",
       "      <td>0.974359</td>\n",
       "      <td>0.987013</td>\n",
       "      <td>78.000000</td>\n",
       "    </tr>\n",
       "    <tr>\n",
       "      <th>Dog</th>\n",
       "      <td>0.940299</td>\n",
       "      <td>0.984375</td>\n",
       "      <td>0.961832</td>\n",
       "      <td>64.000000</td>\n",
       "    </tr>\n",
       "    <tr>\n",
       "      <th>Elephent</th>\n",
       "      <td>1.000000</td>\n",
       "      <td>1.000000</td>\n",
       "      <td>1.000000</td>\n",
       "      <td>72.000000</td>\n",
       "    </tr>\n",
       "    <tr>\n",
       "      <th>Lion</th>\n",
       "      <td>0.942029</td>\n",
       "      <td>0.955882</td>\n",
       "      <td>0.948905</td>\n",
       "      <td>68.000000</td>\n",
       "    </tr>\n",
       "    <tr>\n",
       "      <th>Panda</th>\n",
       "      <td>0.722772</td>\n",
       "      <td>0.973333</td>\n",
       "      <td>0.829545</td>\n",
       "      <td>75.000000</td>\n",
       "    </tr>\n",
       "    <tr>\n",
       "      <th>Spider</th>\n",
       "      <td>0.986301</td>\n",
       "      <td>1.000000</td>\n",
       "      <td>0.993103</td>\n",
       "      <td>72.000000</td>\n",
       "    </tr>\n",
       "    <tr>\n",
       "      <th>accuracy</th>\n",
       "      <td>0.924188</td>\n",
       "      <td>0.924188</td>\n",
       "      <td>0.924188</td>\n",
       "      <td>0.924188</td>\n",
       "    </tr>\n",
       "    <tr>\n",
       "      <th>macro avg</th>\n",
       "      <td>0.937206</td>\n",
       "      <td>0.915308</td>\n",
       "      <td>0.915599</td>\n",
       "      <td>554.000000</td>\n",
       "    </tr>\n",
       "    <tr>\n",
       "      <th>weighted avg</th>\n",
       "      <td>0.935902</td>\n",
       "      <td>0.924188</td>\n",
       "      <td>0.920415</td>\n",
       "      <td>554.000000</td>\n",
       "    </tr>\n",
       "  </tbody>\n",
       "</table>\n",
       "</div>"
      ],
      "text/plain": [
       "              precision    recall  f1-score     support\n",
       "Cat            0.937500  0.909091  0.923077   66.000000\n",
       "Chimpanzee     0.968750  0.525424  0.681319   59.000000\n",
       "Cow            1.000000  0.974359  0.987013   78.000000\n",
       "Dog            0.940299  0.984375  0.961832   64.000000\n",
       "Elephent       1.000000  1.000000  1.000000   72.000000\n",
       "Lion           0.942029  0.955882  0.948905   68.000000\n",
       "Panda          0.722772  0.973333  0.829545   75.000000\n",
       "Spider         0.986301  1.000000  0.993103   72.000000\n",
       "accuracy       0.924188  0.924188  0.924188    0.924188\n",
       "macro avg      0.937206  0.915308  0.915599  554.000000\n",
       "weighted avg   0.935902  0.924188  0.920415  554.000000"
      ]
     },
     "execution_count": 52,
     "metadata": {},
     "output_type": "execute_result"
    }
   ],
   "source": [
    "pd.DataFrame(classification_report(model1_predict.Actual_class, model1_predict.Predicted_class, output_dict=True)).T"
   ]
  },
  {
   "cell_type": "code",
   "execution_count": 53,
   "id": "b320fa5e",
   "metadata": {},
   "outputs": [
    {
     "data": {
      "text/html": [
       "<div>\n",
       "<style scoped>\n",
       "    .dataframe tbody tr th:only-of-type {\n",
       "        vertical-align: middle;\n",
       "    }\n",
       "\n",
       "    .dataframe tbody tr th {\n",
       "        vertical-align: top;\n",
       "    }\n",
       "\n",
       "    .dataframe thead th {\n",
       "        text-align: right;\n",
       "    }\n",
       "</style>\n",
       "<table border=\"1\" class=\"dataframe\">\n",
       "  <thead>\n",
       "    <tr style=\"text-align: right;\">\n",
       "      <th></th>\n",
       "      <th>precision</th>\n",
       "      <th>recall</th>\n",
       "      <th>f1-score</th>\n",
       "      <th>support</th>\n",
       "    </tr>\n",
       "  </thead>\n",
       "  <tbody>\n",
       "    <tr>\n",
       "      <th>Cat</th>\n",
       "      <td>0.830769</td>\n",
       "      <td>0.818182</td>\n",
       "      <td>0.824427</td>\n",
       "      <td>66.000000</td>\n",
       "    </tr>\n",
       "    <tr>\n",
       "      <th>Chimpanzee</th>\n",
       "      <td>0.873016</td>\n",
       "      <td>0.932203</td>\n",
       "      <td>0.901639</td>\n",
       "      <td>59.000000</td>\n",
       "    </tr>\n",
       "    <tr>\n",
       "      <th>Cow</th>\n",
       "      <td>0.973333</td>\n",
       "      <td>0.935897</td>\n",
       "      <td>0.954248</td>\n",
       "      <td>78.000000</td>\n",
       "    </tr>\n",
       "    <tr>\n",
       "      <th>Dog</th>\n",
       "      <td>0.914894</td>\n",
       "      <td>0.671875</td>\n",
       "      <td>0.774775</td>\n",
       "      <td>64.000000</td>\n",
       "    </tr>\n",
       "    <tr>\n",
       "      <th>Elephent</th>\n",
       "      <td>0.906250</td>\n",
       "      <td>0.805556</td>\n",
       "      <td>0.852941</td>\n",
       "      <td>72.000000</td>\n",
       "    </tr>\n",
       "    <tr>\n",
       "      <th>Lion</th>\n",
       "      <td>0.813333</td>\n",
       "      <td>0.897059</td>\n",
       "      <td>0.853147</td>\n",
       "      <td>68.000000</td>\n",
       "    </tr>\n",
       "    <tr>\n",
       "      <th>Panda</th>\n",
       "      <td>0.793478</td>\n",
       "      <td>0.973333</td>\n",
       "      <td>0.874251</td>\n",
       "      <td>75.000000</td>\n",
       "    </tr>\n",
       "    <tr>\n",
       "      <th>Spider</th>\n",
       "      <td>0.986301</td>\n",
       "      <td>1.000000</td>\n",
       "      <td>0.993103</td>\n",
       "      <td>72.000000</td>\n",
       "    </tr>\n",
       "    <tr>\n",
       "      <th>accuracy</th>\n",
       "      <td>0.882671</td>\n",
       "      <td>0.882671</td>\n",
       "      <td>0.882671</td>\n",
       "      <td>0.882671</td>\n",
       "    </tr>\n",
       "    <tr>\n",
       "      <th>macro avg</th>\n",
       "      <td>0.886422</td>\n",
       "      <td>0.879263</td>\n",
       "      <td>0.878567</td>\n",
       "      <td>554.000000</td>\n",
       "    </tr>\n",
       "    <tr>\n",
       "      <th>weighted avg</th>\n",
       "      <td>0.887894</td>\n",
       "      <td>0.882671</td>\n",
       "      <td>0.881090</td>\n",
       "      <td>554.000000</td>\n",
       "    </tr>\n",
       "  </tbody>\n",
       "</table>\n",
       "</div>"
      ],
      "text/plain": [
       "              precision    recall  f1-score     support\n",
       "Cat            0.830769  0.818182  0.824427   66.000000\n",
       "Chimpanzee     0.873016  0.932203  0.901639   59.000000\n",
       "Cow            0.973333  0.935897  0.954248   78.000000\n",
       "Dog            0.914894  0.671875  0.774775   64.000000\n",
       "Elephent       0.906250  0.805556  0.852941   72.000000\n",
       "Lion           0.813333  0.897059  0.853147   68.000000\n",
       "Panda          0.793478  0.973333  0.874251   75.000000\n",
       "Spider         0.986301  1.000000  0.993103   72.000000\n",
       "accuracy       0.882671  0.882671  0.882671    0.882671\n",
       "macro avg      0.886422  0.879263  0.878567  554.000000\n",
       "weighted avg   0.887894  0.882671  0.881090  554.000000"
      ]
     },
     "execution_count": 53,
     "metadata": {},
     "output_type": "execute_result"
    }
   ],
   "source": [
    "pd.DataFrame(classification_report(model2_predict.Actual_class, model2_predict.Predicted_class, output_dict=True)).T"
   ]
  }
 ],
 "metadata": {
  "kernelspec": {
   "display_name": "Python 3",
   "language": "python",
   "name": "python3"
  },
  "language_info": {
   "codemirror_mode": {
    "name": "ipython",
    "version": 3
   },
   "file_extension": ".py",
   "mimetype": "text/x-python",
   "name": "python",
   "nbconvert_exporter": "python",
   "pygments_lexer": "ipython3",
   "version": "3.8.8"
  }
 },
 "nbformat": 4,
 "nbformat_minor": 5
}
