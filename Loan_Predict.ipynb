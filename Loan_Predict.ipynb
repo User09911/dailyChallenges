{
  "nbformat": 4,
  "nbformat_minor": 0,
  "metadata": {
    "colab": {
      "name": "Loan Predict.ipynb",
      "provenance": [],
      "collapsed_sections": [],
      "toc_visible": true,
      "authorship_tag": "ABX9TyNfKPhckBWWmhxEKolaOVeA",
      "include_colab_link": true
    },
    "kernelspec": {
      "name": "python3",
      "display_name": "Python 3"
    },
    "language_info": {
      "name": "python"
    },
    "accelerator": "GPU"
  },
  "cells": [
    {
      "cell_type": "markdown",
      "metadata": {
        "id": "view-in-github",
        "colab_type": "text"
      },
      "source": [
        "<a href=\"https://colab.research.google.com/github/theDreamer911/dailyChallenges/blob/master/Loan_Predict.ipynb\" target=\"_parent\"><img src=\"https://colab.research.google.com/assets/colab-badge.svg\" alt=\"Open In Colab\"/></a>"
      ]
    },
    {
      "cell_type": "code",
      "metadata": {
        "colab": {
          "resources": {
            "http://localhost:8080/nbextensions/google.colab/files.js": {
              "data": "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",
              "ok": true,
              "headers": [
                [
                  "content-type",
                  "application/javascript"
                ]
              ],
              "status": 200,
              "status_text": "OK"
            }
          },
          "base_uri": "https://localhost:8080/",
          "height": 77
        },
        "id": "oW0oR7GkAI4S",
        "outputId": "740ef14c-1f9a-4ef7-d43d-abdc5e69576e"
      },
      "source": [
        "# Upload file\n",
        "from google.colab import files\n",
        "uploaded = files.upload()"
      ],
      "execution_count": null,
      "outputs": [
        {
          "output_type": "display_data",
          "data": {
            "text/html": [
              "\n",
              "     <input type=\"file\" id=\"files-88ea21e2-7f48-45c9-98c2-4f0328f26a6b\" name=\"files[]\" multiple disabled\n",
              "        style=\"border:none\" />\n",
              "     <output id=\"result-88ea21e2-7f48-45c9-98c2-4f0328f26a6b\">\n",
              "      Upload widget is only available when the cell has been executed in the\n",
              "      current browser session. Please rerun this cell to enable.\n",
              "      </output>\n",
              "      <script src=\"/nbextensions/google.colab/files.js\"></script> "
            ],
            "text/plain": [
              "<IPython.core.display.HTML object>"
            ]
          },
          "metadata": {
            "tags": []
          }
        },
        {
          "output_type": "stream",
          "text": [
            "Saving nonperformanceloan.csv to nonperformanceloan.csv\n"
          ],
          "name": "stdout"
        }
      ]
    },
    {
      "cell_type": "code",
      "metadata": {
        "id": "zcp6UWkvBX3U"
      },
      "source": [
        "%matplotlib inline\n",
        "import pandas as pd\n",
        "import numpy as np\n",
        "import matplotlib.pyplot as plt\n",
        "\n",
        "import warnings\n",
        "warnings.filterwarnings('ignore')"
      ],
      "execution_count": null,
      "outputs": []
    },
    {
      "cell_type": "code",
      "metadata": {
        "id": "yKPgr1a6Csjw"
      },
      "source": [
        "kredit = pd.read_csv('nonperformanceloan.csv')"
      ],
      "execution_count": null,
      "outputs": []
    },
    {
      "cell_type": "code",
      "metadata": {
        "id": "c3rQbZDEC6nX"
      },
      "source": [
        "df = kredit.copy()"
      ],
      "execution_count": null,
      "outputs": []
    },
    {
      "cell_type": "code",
      "metadata": {
        "colab": {
          "base_uri": "https://localhost:8080/"
        },
        "id": "CtC9gVxAC8SP",
        "outputId": "f29e4a8a-ca1a-45e3-a00b-4c6393808aa9"
      },
      "source": [
        "df.shape"
      ],
      "execution_count": null,
      "outputs": [
        {
          "output_type": "execute_result",
          "data": {
            "text/plain": [
              "(12395, 23)"
            ]
          },
          "metadata": {
            "tags": []
          },
          "execution_count": 5
        }
      ]
    },
    {
      "cell_type": "code",
      "metadata": {
        "colab": {
          "base_uri": "https://localhost:8080/"
        },
        "id": "ifa4o-gbC_Qo",
        "outputId": "fc1657a7-8c75-454a-f78d-4ddfd943facc"
      },
      "source": [
        "df.info()"
      ],
      "execution_count": null,
      "outputs": [
        {
          "output_type": "stream",
          "text": [
            "<class 'pandas.core.frame.DataFrame'>\n",
            "RangeIndex: 12395 entries, 0 to 12394\n",
            "Data columns (total 23 columns):\n",
            " #   Column                               Non-Null Count  Dtype  \n",
            "---  ------                               --------------  -----  \n",
            " 0   jumlah_kartu                         12395 non-null  int64  \n",
            " 1   outstanding                          12395 non-null  int64  \n",
            " 2   limit_kredit                         12395 non-null  int64  \n",
            " 3   tagihan                              12395 non-null  int64  \n",
            " 4   total_pemakaian_tunai                12395 non-null  int64  \n",
            " 5   total_pemakaian_retail               12395 non-null  int64  \n",
            " 6   sisa_tagihan_tidak_terbayar          12395 non-null  int64  \n",
            " 7   kode_cabang                          12312 non-null  object \n",
            " 8   rasio_pembayaran                     12395 non-null  float64\n",
            " 9   persentasi_overlimit                 12395 non-null  float64\n",
            " 10  rasio_pembayaran_3bulan              12395 non-null  float64\n",
            " 11  rasio_pembayaran_6bulan              12395 non-null  float64\n",
            " 12  skor_delikuensi                      12395 non-null  int64  \n",
            " 13  flag_kredit_macet                    12395 non-null  int64  \n",
            " 14  jumlah_tahun_sejak_pembukaan_kredit  12395 non-null  float64\n",
            " 15  total_pemakaian                      12395 non-null  int64  \n",
            " 16  sisa_tagihan_per_jumlah_kartu        12395 non-null  float64\n",
            " 17  sisa_tagihan_per_limit               12395 non-null  float64\n",
            " 18  total_pemakaian_per_limit            12395 non-null  float64\n",
            " 19  pemakaian_3bln_per_limit             12395 non-null  float64\n",
            " 20  pemakaian_6bln_per_limit             12395 non-null  float64\n",
            " 21  utilisasi_3bulan                     12395 non-null  float64\n",
            " 22  utilisasi_6bulan                     12395 non-null  float64\n",
            "dtypes: float64(12), int64(10), object(1)\n",
            "memory usage: 2.2+ MB\n"
          ],
          "name": "stdout"
        }
      ]
    },
    {
      "cell_type": "code",
      "metadata": {
        "colab": {
          "base_uri": "https://localhost:8080/"
        },
        "id": "5IEccVYiDAQI",
        "outputId": "87183315-044f-4fec-b124-7242d9c53940"
      },
      "source": [
        "df.isnull().sum()"
      ],
      "execution_count": null,
      "outputs": [
        {
          "output_type": "execute_result",
          "data": {
            "text/plain": [
              "jumlah_kartu                            0\n",
              "outstanding                             0\n",
              "limit_kredit                            0\n",
              "tagihan                                 0\n",
              "total_pemakaian_tunai                   0\n",
              "total_pemakaian_retail                  0\n",
              "sisa_tagihan_tidak_terbayar             0\n",
              "kode_cabang                            83\n",
              "rasio_pembayaran                        0\n",
              "persentasi_overlimit                    0\n",
              "rasio_pembayaran_3bulan                 0\n",
              "rasio_pembayaran_6bulan                 0\n",
              "skor_delikuensi                         0\n",
              "flag_kredit_macet                       0\n",
              "jumlah_tahun_sejak_pembukaan_kredit     0\n",
              "total_pemakaian                         0\n",
              "sisa_tagihan_per_jumlah_kartu           0\n",
              "sisa_tagihan_per_limit                  0\n",
              "total_pemakaian_per_limit               0\n",
              "pemakaian_3bln_per_limit                0\n",
              "pemakaian_6bln_per_limit                0\n",
              "utilisasi_3bulan                        0\n",
              "utilisasi_6bulan                        0\n",
              "dtype: int64"
            ]
          },
          "metadata": {
            "tags": []
          },
          "execution_count": 7
        }
      ]
    },
    {
      "cell_type": "code",
      "metadata": {
        "id": "nx_4567dDD4P"
      },
      "source": [
        "df.rename(columns={'flag_kredit_macet':'target'}, inplace=True)"
      ],
      "execution_count": null,
      "outputs": []
    },
    {
      "cell_type": "code",
      "metadata": {
        "colab": {
          "base_uri": "https://localhost:8080/",
          "height": 320
        },
        "id": "FakaBIDKDPDn",
        "outputId": "fe2b0a00-3bc1-4c4b-e4b8-140a37b36181"
      },
      "source": [
        "df.describe()"
      ],
      "execution_count": null,
      "outputs": [
        {
          "output_type": "execute_result",
          "data": {
            "text/html": [
              "<div>\n",
              "<style scoped>\n",
              "    .dataframe tbody tr th:only-of-type {\n",
              "        vertical-align: middle;\n",
              "    }\n",
              "\n",
              "    .dataframe tbody tr th {\n",
              "        vertical-align: top;\n",
              "    }\n",
              "\n",
              "    .dataframe thead th {\n",
              "        text-align: right;\n",
              "    }\n",
              "</style>\n",
              "<table border=\"1\" class=\"dataframe\">\n",
              "  <thead>\n",
              "    <tr style=\"text-align: right;\">\n",
              "      <th></th>\n",
              "      <th>jumlah_kartu</th>\n",
              "      <th>outstanding</th>\n",
              "      <th>limit_kredit</th>\n",
              "      <th>tagihan</th>\n",
              "      <th>total_pemakaian_tunai</th>\n",
              "      <th>total_pemakaian_retail</th>\n",
              "      <th>sisa_tagihan_tidak_terbayar</th>\n",
              "      <th>rasio_pembayaran</th>\n",
              "      <th>persentasi_overlimit</th>\n",
              "      <th>rasio_pembayaran_3bulan</th>\n",
              "      <th>rasio_pembayaran_6bulan</th>\n",
              "      <th>skor_delikuensi</th>\n",
              "      <th>target</th>\n",
              "      <th>jumlah_tahun_sejak_pembukaan_kredit</th>\n",
              "      <th>total_pemakaian</th>\n",
              "      <th>sisa_tagihan_per_jumlah_kartu</th>\n",
              "      <th>sisa_tagihan_per_limit</th>\n",
              "      <th>total_pemakaian_per_limit</th>\n",
              "      <th>pemakaian_3bln_per_limit</th>\n",
              "      <th>pemakaian_6bln_per_limit</th>\n",
              "      <th>utilisasi_3bulan</th>\n",
              "      <th>utilisasi_6bulan</th>\n",
              "    </tr>\n",
              "  </thead>\n",
              "  <tbody>\n",
              "    <tr>\n",
              "      <th>count</th>\n",
              "      <td>12395.000000</td>\n",
              "      <td>1.239500e+04</td>\n",
              "      <td>1.239500e+04</td>\n",
              "      <td>1.239500e+04</td>\n",
              "      <td>1.239500e+04</td>\n",
              "      <td>1.239500e+04</td>\n",
              "      <td>1.239500e+04</td>\n",
              "      <td>12395.000000</td>\n",
              "      <td>12395.000000</td>\n",
              "      <td>12395.000000</td>\n",
              "      <td>12395.000000</td>\n",
              "      <td>12395.000000</td>\n",
              "      <td>12395.000000</td>\n",
              "      <td>12395.000000</td>\n",
              "      <td>1.239500e+04</td>\n",
              "      <td>1.239500e+04</td>\n",
              "      <td>12395.000000</td>\n",
              "      <td>12395.000000</td>\n",
              "      <td>12395.000000</td>\n",
              "      <td>12395.000000</td>\n",
              "      <td>12395.000000</td>\n",
              "      <td>12395.000000</td>\n",
              "    </tr>\n",
              "    <tr>\n",
              "      <th>mean</th>\n",
              "      <td>2.503913</td>\n",
              "      <td>1.153097e+07</td>\n",
              "      <td>2.072586e+07</td>\n",
              "      <td>8.026530e+06</td>\n",
              "      <td>7.757448e+04</td>\n",
              "      <td>2.047765e+06</td>\n",
              "      <td>8.054487e+06</td>\n",
              "      <td>66.985117</td>\n",
              "      <td>3.374362</td>\n",
              "      <td>42.278478</td>\n",
              "      <td>82.554313</td>\n",
              "      <td>0.004841</td>\n",
              "      <td>0.090359</td>\n",
              "      <td>6.639355</td>\n",
              "      <td>2.125378e+06</td>\n",
              "      <td>2.940093e+06</td>\n",
              "      <td>0.468935</td>\n",
              "      <td>0.109795</td>\n",
              "      <td>0.168175</td>\n",
              "      <td>0.203453</td>\n",
              "      <td>0.571154</td>\n",
              "      <td>0.534282</td>\n",
              "    </tr>\n",
              "    <tr>\n",
              "      <th>std</th>\n",
              "      <td>1.019361</td>\n",
              "      <td>2.446334e+07</td>\n",
              "      <td>2.909614e+07</td>\n",
              "      <td>1.726786e+07</td>\n",
              "      <td>6.471258e+05</td>\n",
              "      <td>8.057247e+06</td>\n",
              "      <td>1.944536e+07</td>\n",
              "      <td>878.528082</td>\n",
              "      <td>9.140777</td>\n",
              "      <td>1194.858851</td>\n",
              "      <td>1359.955375</td>\n",
              "      <td>0.112086</td>\n",
              "      <td>0.286707</td>\n",
              "      <td>4.675901</td>\n",
              "      <td>8.256547e+06</td>\n",
              "      <td>6.286651e+06</td>\n",
              "      <td>0.475384</td>\n",
              "      <td>0.200393</td>\n",
              "      <td>0.192297</td>\n",
              "      <td>0.278280</td>\n",
              "      <td>0.414411</td>\n",
              "      <td>0.437496</td>\n",
              "    </tr>\n",
              "    <tr>\n",
              "      <th>min</th>\n",
              "      <td>1.000000</td>\n",
              "      <td>0.000000e+00</td>\n",
              "      <td>3.000000e+06</td>\n",
              "      <td>2.004300e+04</td>\n",
              "      <td>0.000000e+00</td>\n",
              "      <td>-1.566720e+07</td>\n",
              "      <td>0.000000e+00</td>\n",
              "      <td>-18138.000000</td>\n",
              "      <td>0.000000</td>\n",
              "      <td>-57792.340000</td>\n",
              "      <td>-77056.000000</td>\n",
              "      <td>0.000000</td>\n",
              "      <td>0.000000</td>\n",
              "      <td>0.750000</td>\n",
              "      <td>-1.566720e+07</td>\n",
              "      <td>0.000000e+00</td>\n",
              "      <td>0.000000</td>\n",
              "      <td>-0.632000</td>\n",
              "      <td>-0.126000</td>\n",
              "      <td>-0.569000</td>\n",
              "      <td>0.000288</td>\n",
              "      <td>0.000000</td>\n",
              "    </tr>\n",
              "    <tr>\n",
              "      <th>25%</th>\n",
              "      <td>2.000000</td>\n",
              "      <td>1.989984e+06</td>\n",
              "      <td>5.000000e+06</td>\n",
              "      <td>8.111740e+05</td>\n",
              "      <td>0.000000e+00</td>\n",
              "      <td>0.000000e+00</td>\n",
              "      <td>0.000000e+00</td>\n",
              "      <td>0.000000</td>\n",
              "      <td>0.000000</td>\n",
              "      <td>20.500000</td>\n",
              "      <td>21.600000</td>\n",
              "      <td>0.000000</td>\n",
              "      <td>0.000000</td>\n",
              "      <td>2.920000</td>\n",
              "      <td>0.000000e+00</td>\n",
              "      <td>0.000000e+00</td>\n",
              "      <td>0.000000</td>\n",
              "      <td>0.000000</td>\n",
              "      <td>0.035150</td>\n",
              "      <td>0.032800</td>\n",
              "      <td>0.189000</td>\n",
              "      <td>0.155000</td>\n",
              "    </tr>\n",
              "    <tr>\n",
              "      <th>50%</th>\n",
              "      <td>2.000000</td>\n",
              "      <td>4.691569e+06</td>\n",
              "      <td>9.000000e+06</td>\n",
              "      <td>3.139425e+06</td>\n",
              "      <td>0.000000e+00</td>\n",
              "      <td>2.067400e+05</td>\n",
              "      <td>2.753848e+06</td>\n",
              "      <td>27.600000</td>\n",
              "      <td>0.000000</td>\n",
              "      <td>50.100000</td>\n",
              "      <td>65.700000</td>\n",
              "      <td>0.000000</td>\n",
              "      <td>0.000000</td>\n",
              "      <td>5.666667</td>\n",
              "      <td>2.547710e+05</td>\n",
              "      <td>1.213084e+06</td>\n",
              "      <td>0.332000</td>\n",
              "      <td>0.022900</td>\n",
              "      <td>0.109000</td>\n",
              "      <td>0.118000</td>\n",
              "      <td>0.574000</td>\n",
              "      <td>0.495955</td>\n",
              "    </tr>\n",
              "    <tr>\n",
              "      <th>75%</th>\n",
              "      <td>3.000000</td>\n",
              "      <td>1.052557e+07</td>\n",
              "      <td>2.200000e+07</td>\n",
              "      <td>7.337790e+06</td>\n",
              "      <td>0.000000e+00</td>\n",
              "      <td>1.384514e+06</td>\n",
              "      <td>7.061134e+06</td>\n",
              "      <td>100.000000</td>\n",
              "      <td>1.200000</td>\n",
              "      <td>92.850000</td>\n",
              "      <td>100.000000</td>\n",
              "      <td>0.000000</td>\n",
              "      <td>0.000000</td>\n",
              "      <td>9.330000</td>\n",
              "      <td>1.502294e+06</td>\n",
              "      <td>3.076559e+06</td>\n",
              "      <td>0.935000</td>\n",
              "      <td>0.128000</td>\n",
              "      <td>0.240000</td>\n",
              "      <td>0.286000</td>\n",
              "      <td>0.918000</td>\n",
              "      <td>0.865049</td>\n",
              "    </tr>\n",
              "    <tr>\n",
              "      <th>max</th>\n",
              "      <td>16.000000</td>\n",
              "      <td>7.980586e+08</td>\n",
              "      <td>1.000000e+09</td>\n",
              "      <td>4.190000e+08</td>\n",
              "      <td>2.884057e+07</td>\n",
              "      <td>2.850000e+08</td>\n",
              "      <td>4.440000e+08</td>\n",
              "      <td>68983.000000</td>\n",
              "      <td>190.000000</td>\n",
              "      <td>18306.000000</td>\n",
              "      <td>54899.000000</td>\n",
              "      <td>5.000000</td>\n",
              "      <td>1.000000</td>\n",
              "      <td>34.416667</td>\n",
              "      <td>3.140000e+08</td>\n",
              "      <td>1.480000e+08</td>\n",
              "      <td>7.240000</td>\n",
              "      <td>4.600000</td>\n",
              "      <td>3.490000</td>\n",
              "      <td>8.110000</td>\n",
              "      <td>8.125671</td>\n",
              "      <td>9.730000</td>\n",
              "    </tr>\n",
              "  </tbody>\n",
              "</table>\n",
              "</div>"
            ],
            "text/plain": [
              "       jumlah_kartu   outstanding  ...  utilisasi_3bulan  utilisasi_6bulan\n",
              "count  12395.000000  1.239500e+04  ...      12395.000000      12395.000000\n",
              "mean       2.503913  1.153097e+07  ...          0.571154          0.534282\n",
              "std        1.019361  2.446334e+07  ...          0.414411          0.437496\n",
              "min        1.000000  0.000000e+00  ...          0.000288          0.000000\n",
              "25%        2.000000  1.989984e+06  ...          0.189000          0.155000\n",
              "50%        2.000000  4.691569e+06  ...          0.574000          0.495955\n",
              "75%        3.000000  1.052557e+07  ...          0.918000          0.865049\n",
              "max       16.000000  7.980586e+08  ...          8.125671          9.730000\n",
              "\n",
              "[8 rows x 22 columns]"
            ]
          },
          "metadata": {
            "tags": []
          },
          "execution_count": 9
        }
      ]
    },
    {
      "cell_type": "markdown",
      "metadata": {
        "id": "OW-B_nQ7DWKK"
      },
      "source": [
        "Mengisi kode_cabang yang kosong dengan index[0] = A"
      ]
    },
    {
      "cell_type": "code",
      "metadata": {
        "id": "L3tbi9H2DQug"
      },
      "source": [
        "df['kode_cabang'].fillna(df['kode_cabang'].value_counts().index[0], inplace=True)"
      ],
      "execution_count": null,
      "outputs": []
    },
    {
      "cell_type": "code",
      "metadata": {
        "colab": {
          "base_uri": "https://localhost:8080/"
        },
        "id": "ExwOh9e_DmwH",
        "outputId": "9512595e-7ba3-407c-9cf9-0a7ef0353e5f"
      },
      "source": [
        "df.isnull().sum()"
      ],
      "execution_count": null,
      "outputs": [
        {
          "output_type": "execute_result",
          "data": {
            "text/plain": [
              "jumlah_kartu                           0\n",
              "outstanding                            0\n",
              "limit_kredit                           0\n",
              "tagihan                                0\n",
              "total_pemakaian_tunai                  0\n",
              "total_pemakaian_retail                 0\n",
              "sisa_tagihan_tidak_terbayar            0\n",
              "kode_cabang                            0\n",
              "rasio_pembayaran                       0\n",
              "persentasi_overlimit                   0\n",
              "rasio_pembayaran_3bulan                0\n",
              "rasio_pembayaran_6bulan                0\n",
              "skor_delikuensi                        0\n",
              "target                                 0\n",
              "jumlah_tahun_sejak_pembukaan_kredit    0\n",
              "total_pemakaian                        0\n",
              "sisa_tagihan_per_jumlah_kartu          0\n",
              "sisa_tagihan_per_limit                 0\n",
              "total_pemakaian_per_limit              0\n",
              "pemakaian_3bln_per_limit               0\n",
              "pemakaian_6bln_per_limit               0\n",
              "utilisasi_3bulan                       0\n",
              "utilisasi_6bulan                       0\n",
              "dtype: int64"
            ]
          },
          "metadata": {
            "tags": []
          },
          "execution_count": 11
        }
      ]
    },
    {
      "cell_type": "code",
      "metadata": {
        "colab": {
          "base_uri": "https://localhost:8080/"
        },
        "id": "8mtS_jrHDy3-",
        "outputId": "851760ac-4185-4aee-f2b5-223b61759c23"
      },
      "source": [
        "df['kode_cabang'].unique()"
      ],
      "execution_count": null,
      "outputs": [
        {
          "output_type": "execute_result",
          "data": {
            "text/plain": [
              "array(['I', 'A', 'B', 'E', 'G', 'K', 'F', 'C', 'J', 'H', 'D'],\n",
              "      dtype=object)"
            ]
          },
          "metadata": {
            "tags": []
          },
          "execution_count": 12
        }
      ]
    },
    {
      "cell_type": "markdown",
      "metadata": {
        "id": "WadSg1vKEGDm"
      },
      "source": [
        "### Memindahkan target ke columns terakhir"
      ]
    },
    {
      "cell_type": "code",
      "metadata": {
        "id": "dhhwXP2wD55w"
      },
      "source": [
        "cols = list(df.columns)\n",
        "cols.append(cols.pop(cols.index('target')))\n",
        "df = df[cols]"
      ],
      "execution_count": null,
      "outputs": []
    },
    {
      "cell_type": "code",
      "metadata": {
        "colab": {
          "base_uri": "https://localhost:8080/"
        },
        "id": "_Kdo9CdXEccn",
        "outputId": "770d02ec-edda-461e-9b62-0a2ef1ea2dc2"
      },
      "source": [
        "df.info()"
      ],
      "execution_count": null,
      "outputs": [
        {
          "output_type": "stream",
          "text": [
            "<class 'pandas.core.frame.DataFrame'>\n",
            "RangeIndex: 12395 entries, 0 to 12394\n",
            "Data columns (total 23 columns):\n",
            " #   Column                               Non-Null Count  Dtype  \n",
            "---  ------                               --------------  -----  \n",
            " 0   jumlah_kartu                         12395 non-null  int64  \n",
            " 1   outstanding                          12395 non-null  int64  \n",
            " 2   limit_kredit                         12395 non-null  int64  \n",
            " 3   tagihan                              12395 non-null  int64  \n",
            " 4   total_pemakaian_tunai                12395 non-null  int64  \n",
            " 5   total_pemakaian_retail               12395 non-null  int64  \n",
            " 6   sisa_tagihan_tidak_terbayar          12395 non-null  int64  \n",
            " 7   kode_cabang                          12395 non-null  object \n",
            " 8   rasio_pembayaran                     12395 non-null  float64\n",
            " 9   persentasi_overlimit                 12395 non-null  float64\n",
            " 10  rasio_pembayaran_3bulan              12395 non-null  float64\n",
            " 11  rasio_pembayaran_6bulan              12395 non-null  float64\n",
            " 12  skor_delikuensi                      12395 non-null  int64  \n",
            " 13  jumlah_tahun_sejak_pembukaan_kredit  12395 non-null  float64\n",
            " 14  total_pemakaian                      12395 non-null  int64  \n",
            " 15  sisa_tagihan_per_jumlah_kartu        12395 non-null  float64\n",
            " 16  sisa_tagihan_per_limit               12395 non-null  float64\n",
            " 17  total_pemakaian_per_limit            12395 non-null  float64\n",
            " 18  pemakaian_3bln_per_limit             12395 non-null  float64\n",
            " 19  pemakaian_6bln_per_limit             12395 non-null  float64\n",
            " 20  utilisasi_3bulan                     12395 non-null  float64\n",
            " 21  utilisasi_6bulan                     12395 non-null  float64\n",
            " 22  target                               12395 non-null  int64  \n",
            "dtypes: float64(12), int64(10), object(1)\n",
            "memory usage: 2.2+ MB\n"
          ],
          "name": "stdout"
        }
      ]
    },
    {
      "cell_type": "code",
      "metadata": {
        "colab": {
          "base_uri": "https://localhost:8080/",
          "height": 320
        },
        "id": "t4HPzTcGE8kM",
        "outputId": "37e1b11e-ff4c-4f4a-de0d-c4c617b7b857"
      },
      "source": [
        "df.describe()"
      ],
      "execution_count": null,
      "outputs": [
        {
          "output_type": "execute_result",
          "data": {
            "text/html": [
              "<div>\n",
              "<style scoped>\n",
              "    .dataframe tbody tr th:only-of-type {\n",
              "        vertical-align: middle;\n",
              "    }\n",
              "\n",
              "    .dataframe tbody tr th {\n",
              "        vertical-align: top;\n",
              "    }\n",
              "\n",
              "    .dataframe thead th {\n",
              "        text-align: right;\n",
              "    }\n",
              "</style>\n",
              "<table border=\"1\" class=\"dataframe\">\n",
              "  <thead>\n",
              "    <tr style=\"text-align: right;\">\n",
              "      <th></th>\n",
              "      <th>jumlah_kartu</th>\n",
              "      <th>outstanding</th>\n",
              "      <th>limit_kredit</th>\n",
              "      <th>tagihan</th>\n",
              "      <th>total_pemakaian_tunai</th>\n",
              "      <th>total_pemakaian_retail</th>\n",
              "      <th>sisa_tagihan_tidak_terbayar</th>\n",
              "      <th>rasio_pembayaran</th>\n",
              "      <th>persentasi_overlimit</th>\n",
              "      <th>rasio_pembayaran_3bulan</th>\n",
              "      <th>rasio_pembayaran_6bulan</th>\n",
              "      <th>skor_delikuensi</th>\n",
              "      <th>jumlah_tahun_sejak_pembukaan_kredit</th>\n",
              "      <th>total_pemakaian</th>\n",
              "      <th>sisa_tagihan_per_jumlah_kartu</th>\n",
              "      <th>sisa_tagihan_per_limit</th>\n",
              "      <th>total_pemakaian_per_limit</th>\n",
              "      <th>pemakaian_3bln_per_limit</th>\n",
              "      <th>pemakaian_6bln_per_limit</th>\n",
              "      <th>utilisasi_3bulan</th>\n",
              "      <th>utilisasi_6bulan</th>\n",
              "      <th>target</th>\n",
              "    </tr>\n",
              "  </thead>\n",
              "  <tbody>\n",
              "    <tr>\n",
              "      <th>count</th>\n",
              "      <td>12395.000000</td>\n",
              "      <td>1.239500e+04</td>\n",
              "      <td>1.239500e+04</td>\n",
              "      <td>1.239500e+04</td>\n",
              "      <td>1.239500e+04</td>\n",
              "      <td>1.239500e+04</td>\n",
              "      <td>1.239500e+04</td>\n",
              "      <td>12395.000000</td>\n",
              "      <td>12395.000000</td>\n",
              "      <td>12395.000000</td>\n",
              "      <td>12395.000000</td>\n",
              "      <td>12395.000000</td>\n",
              "      <td>12395.000000</td>\n",
              "      <td>1.239500e+04</td>\n",
              "      <td>1.239500e+04</td>\n",
              "      <td>12395.000000</td>\n",
              "      <td>12395.000000</td>\n",
              "      <td>12395.000000</td>\n",
              "      <td>12395.000000</td>\n",
              "      <td>12395.000000</td>\n",
              "      <td>12395.000000</td>\n",
              "      <td>12395.000000</td>\n",
              "    </tr>\n",
              "    <tr>\n",
              "      <th>mean</th>\n",
              "      <td>2.503913</td>\n",
              "      <td>1.153097e+07</td>\n",
              "      <td>2.072586e+07</td>\n",
              "      <td>8.026530e+06</td>\n",
              "      <td>7.757448e+04</td>\n",
              "      <td>2.047765e+06</td>\n",
              "      <td>8.054487e+06</td>\n",
              "      <td>66.985117</td>\n",
              "      <td>3.374362</td>\n",
              "      <td>42.278478</td>\n",
              "      <td>82.554313</td>\n",
              "      <td>0.004841</td>\n",
              "      <td>6.639355</td>\n",
              "      <td>2.125378e+06</td>\n",
              "      <td>2.940093e+06</td>\n",
              "      <td>0.468935</td>\n",
              "      <td>0.109795</td>\n",
              "      <td>0.168175</td>\n",
              "      <td>0.203453</td>\n",
              "      <td>0.571154</td>\n",
              "      <td>0.534282</td>\n",
              "      <td>0.090359</td>\n",
              "    </tr>\n",
              "    <tr>\n",
              "      <th>std</th>\n",
              "      <td>1.019361</td>\n",
              "      <td>2.446334e+07</td>\n",
              "      <td>2.909614e+07</td>\n",
              "      <td>1.726786e+07</td>\n",
              "      <td>6.471258e+05</td>\n",
              "      <td>8.057247e+06</td>\n",
              "      <td>1.944536e+07</td>\n",
              "      <td>878.528082</td>\n",
              "      <td>9.140777</td>\n",
              "      <td>1194.858851</td>\n",
              "      <td>1359.955375</td>\n",
              "      <td>0.112086</td>\n",
              "      <td>4.675901</td>\n",
              "      <td>8.256547e+06</td>\n",
              "      <td>6.286651e+06</td>\n",
              "      <td>0.475384</td>\n",
              "      <td>0.200393</td>\n",
              "      <td>0.192297</td>\n",
              "      <td>0.278280</td>\n",
              "      <td>0.414411</td>\n",
              "      <td>0.437496</td>\n",
              "      <td>0.286707</td>\n",
              "    </tr>\n",
              "    <tr>\n",
              "      <th>min</th>\n",
              "      <td>1.000000</td>\n",
              "      <td>0.000000e+00</td>\n",
              "      <td>3.000000e+06</td>\n",
              "      <td>2.004300e+04</td>\n",
              "      <td>0.000000e+00</td>\n",
              "      <td>-1.566720e+07</td>\n",
              "      <td>0.000000e+00</td>\n",
              "      <td>-18138.000000</td>\n",
              "      <td>0.000000</td>\n",
              "      <td>-57792.340000</td>\n",
              "      <td>-77056.000000</td>\n",
              "      <td>0.000000</td>\n",
              "      <td>0.750000</td>\n",
              "      <td>-1.566720e+07</td>\n",
              "      <td>0.000000e+00</td>\n",
              "      <td>0.000000</td>\n",
              "      <td>-0.632000</td>\n",
              "      <td>-0.126000</td>\n",
              "      <td>-0.569000</td>\n",
              "      <td>0.000288</td>\n",
              "      <td>0.000000</td>\n",
              "      <td>0.000000</td>\n",
              "    </tr>\n",
              "    <tr>\n",
              "      <th>25%</th>\n",
              "      <td>2.000000</td>\n",
              "      <td>1.989984e+06</td>\n",
              "      <td>5.000000e+06</td>\n",
              "      <td>8.111740e+05</td>\n",
              "      <td>0.000000e+00</td>\n",
              "      <td>0.000000e+00</td>\n",
              "      <td>0.000000e+00</td>\n",
              "      <td>0.000000</td>\n",
              "      <td>0.000000</td>\n",
              "      <td>20.500000</td>\n",
              "      <td>21.600000</td>\n",
              "      <td>0.000000</td>\n",
              "      <td>2.920000</td>\n",
              "      <td>0.000000e+00</td>\n",
              "      <td>0.000000e+00</td>\n",
              "      <td>0.000000</td>\n",
              "      <td>0.000000</td>\n",
              "      <td>0.035150</td>\n",
              "      <td>0.032800</td>\n",
              "      <td>0.189000</td>\n",
              "      <td>0.155000</td>\n",
              "      <td>0.000000</td>\n",
              "    </tr>\n",
              "    <tr>\n",
              "      <th>50%</th>\n",
              "      <td>2.000000</td>\n",
              "      <td>4.691569e+06</td>\n",
              "      <td>9.000000e+06</td>\n",
              "      <td>3.139425e+06</td>\n",
              "      <td>0.000000e+00</td>\n",
              "      <td>2.067400e+05</td>\n",
              "      <td>2.753848e+06</td>\n",
              "      <td>27.600000</td>\n",
              "      <td>0.000000</td>\n",
              "      <td>50.100000</td>\n",
              "      <td>65.700000</td>\n",
              "      <td>0.000000</td>\n",
              "      <td>5.666667</td>\n",
              "      <td>2.547710e+05</td>\n",
              "      <td>1.213084e+06</td>\n",
              "      <td>0.332000</td>\n",
              "      <td>0.022900</td>\n",
              "      <td>0.109000</td>\n",
              "      <td>0.118000</td>\n",
              "      <td>0.574000</td>\n",
              "      <td>0.495955</td>\n",
              "      <td>0.000000</td>\n",
              "    </tr>\n",
              "    <tr>\n",
              "      <th>75%</th>\n",
              "      <td>3.000000</td>\n",
              "      <td>1.052557e+07</td>\n",
              "      <td>2.200000e+07</td>\n",
              "      <td>7.337790e+06</td>\n",
              "      <td>0.000000e+00</td>\n",
              "      <td>1.384514e+06</td>\n",
              "      <td>7.061134e+06</td>\n",
              "      <td>100.000000</td>\n",
              "      <td>1.200000</td>\n",
              "      <td>92.850000</td>\n",
              "      <td>100.000000</td>\n",
              "      <td>0.000000</td>\n",
              "      <td>9.330000</td>\n",
              "      <td>1.502294e+06</td>\n",
              "      <td>3.076559e+06</td>\n",
              "      <td>0.935000</td>\n",
              "      <td>0.128000</td>\n",
              "      <td>0.240000</td>\n",
              "      <td>0.286000</td>\n",
              "      <td>0.918000</td>\n",
              "      <td>0.865049</td>\n",
              "      <td>0.000000</td>\n",
              "    </tr>\n",
              "    <tr>\n",
              "      <th>max</th>\n",
              "      <td>16.000000</td>\n",
              "      <td>7.980586e+08</td>\n",
              "      <td>1.000000e+09</td>\n",
              "      <td>4.190000e+08</td>\n",
              "      <td>2.884057e+07</td>\n",
              "      <td>2.850000e+08</td>\n",
              "      <td>4.440000e+08</td>\n",
              "      <td>68983.000000</td>\n",
              "      <td>190.000000</td>\n",
              "      <td>18306.000000</td>\n",
              "      <td>54899.000000</td>\n",
              "      <td>5.000000</td>\n",
              "      <td>34.416667</td>\n",
              "      <td>3.140000e+08</td>\n",
              "      <td>1.480000e+08</td>\n",
              "      <td>7.240000</td>\n",
              "      <td>4.600000</td>\n",
              "      <td>3.490000</td>\n",
              "      <td>8.110000</td>\n",
              "      <td>8.125671</td>\n",
              "      <td>9.730000</td>\n",
              "      <td>1.000000</td>\n",
              "    </tr>\n",
              "  </tbody>\n",
              "</table>\n",
              "</div>"
            ],
            "text/plain": [
              "       jumlah_kartu   outstanding  ...  utilisasi_6bulan        target\n",
              "count  12395.000000  1.239500e+04  ...      12395.000000  12395.000000\n",
              "mean       2.503913  1.153097e+07  ...          0.534282      0.090359\n",
              "std        1.019361  2.446334e+07  ...          0.437496      0.286707\n",
              "min        1.000000  0.000000e+00  ...          0.000000      0.000000\n",
              "25%        2.000000  1.989984e+06  ...          0.155000      0.000000\n",
              "50%        2.000000  4.691569e+06  ...          0.495955      0.000000\n",
              "75%        3.000000  1.052557e+07  ...          0.865049      0.000000\n",
              "max       16.000000  7.980586e+08  ...          9.730000      1.000000\n",
              "\n",
              "[8 rows x 22 columns]"
            ]
          },
          "metadata": {
            "tags": []
          },
          "execution_count": 15
        }
      ]
    },
    {
      "cell_type": "code",
      "metadata": {
        "id": "p0vFdR5CLbVo"
      },
      "source": [
        "import seaborn as sns"
      ],
      "execution_count": null,
      "outputs": []
    },
    {
      "cell_type": "code",
      "metadata": {
        "colab": {
          "base_uri": "https://localhost:8080/",
          "height": 387
        },
        "id": "hUV5UQWmFAjT",
        "outputId": "d5aa7cca-9f50-44bf-b762-6c04618f3fc2"
      },
      "source": [
        "sns.displot(df.total_pemakaian, kde=False)"
      ],
      "execution_count": null,
      "outputs": [
        {
          "output_type": "execute_result",
          "data": {
            "text/plain": [
              "<seaborn.axisgrid.FacetGrid at 0x7f1e339c1990>"
            ]
          },
          "metadata": {
            "tags": []
          },
          "execution_count": 17
        },
        {
          "output_type": "display_data",
          "data": {
            "image/png": "[encoded data removed]",
            "text/plain": [
              "<Figure size 360x360 with 1 Axes>"
            ]
          },
          "metadata": {
            "tags": [],
            "needs_background": "light"
          }
        }
      ]
    },
    {
      "cell_type": "code",
      "metadata": {
        "colab": {
          "base_uri": "https://localhost:8080/",
          "height": 309
        },
        "id": "96ciEmrJEeT_",
        "outputId": "8e826989-c9ba-4be8-9cbd-57af1660ccfb"
      },
      "source": [
        "sns.boxplot(x='jumlah_kartu', y='outstanding',data=df)"
      ],
      "execution_count": null,
      "outputs": [
        {
          "output_type": "execute_result",
          "data": {
            "text/plain": [
              "<matplotlib.axes._subplots.AxesSubplot at 0x7f1e2998ec90>"
            ]
          },
          "metadata": {
            "tags": []
          },
          "execution_count": 18
        },
        {
          "output_type": "display_data",
          "data": {
            "image/png": "[encoded data removed]",
            "text/plain": [
              "<Figure size 432x288 with 1 Axes>"
            ]
          },
          "metadata": {
            "tags": [],
            "needs_background": "light"
          }
        }
      ]
    },
    {
      "cell_type": "code",
      "metadata": {
        "colab": {
          "base_uri": "https://localhost:8080/",
          "height": 298
        },
        "id": "x3fXbzcVM_Vu",
        "outputId": "804bb735-0a14-4427-eed5-1e893fb47b5c"
      },
      "source": [
        "sns.boxplot(x='jumlah_kartu', y='persentasi_overlimit',data=df)"
      ],
      "execution_count": null,
      "outputs": [
        {
          "output_type": "execute_result",
          "data": {
            "text/plain": [
              "<matplotlib.axes._subplots.AxesSubplot at 0x7f1e29f00310>"
            ]
          },
          "metadata": {
            "tags": []
          },
          "execution_count": 19
        },
        {
          "output_type": "display_data",
          "data": {
            "image/png": "[encoded data removed]",
            "text/plain": [
              "<Figure size 432x288 with 1 Axes>"
            ]
          },
          "metadata": {
            "tags": [],
            "needs_background": "light"
          }
        }
      ]
    },
    {
      "cell_type": "code",
      "metadata": {
        "id": "VIxLgO27M5_f",
        "colab": {
          "base_uri": "https://localhost:8080/",
          "height": 309
        },
        "outputId": "bd66c296-be50-442f-f48d-b549d0dd354c"
      },
      "source": [
        "sns.boxplot(x='jumlah_kartu', y='total_pemakaian',data=df)"
      ],
      "execution_count": null,
      "outputs": [
        {
          "output_type": "execute_result",
          "data": {
            "text/plain": [
              "<matplotlib.axes._subplots.AxesSubplot at 0x7f1e2823ec50>"
            ]
          },
          "metadata": {
            "tags": []
          },
          "execution_count": 20
        },
        {
          "output_type": "display_data",
          "data": {
            "image/png": "[encoded data removed]",
            "text/plain": [
              "<Figure size 432x288 with 1 Axes>"
            ]
          },
          "metadata": {
            "tags": [],
            "needs_background": "light"
          }
        }
      ]
    },
    {
      "cell_type": "code",
      "metadata": {
        "colab": {
          "base_uri": "https://localhost:8080/",
          "height": 309
        },
        "id": "kbriVcFnMg4K",
        "outputId": "66d0b44d-1763-4228-8802-c6a6a4e5dfcc"
      },
      "source": [
        "sns.boxplot(x='skor_delikuensi', y='total_pemakaian',data=df)"
      ],
      "execution_count": null,
      "outputs": [
        {
          "output_type": "execute_result",
          "data": {
            "text/plain": [
              "<matplotlib.axes._subplots.AxesSubplot at 0x7f1e277fd750>"
            ]
          },
          "metadata": {
            "tags": []
          },
          "execution_count": 21
        },
        {
          "output_type": "display_data",
          "data": {
            "image/png": "[encoded data removed]",
            "text/plain": [
              "<Figure size 432x288 with 1 Axes>"
            ]
          },
          "metadata": {
            "tags": [],
            "needs_background": "light"
          }
        }
      ]
    },
    {
      "cell_type": "markdown",
      "metadata": {
        "id": "U_q9oCryElLy"
      },
      "source": [
        "## Data Normalization\n",
        "\n",
        "> Ini gagal, lewati blok yang ini, lanjut ke blok 'Labeling'\n",
        "\n"
      ]
    },
    {
      "cell_type": "code",
      "metadata": {
        "colab": {
          "base_uri": "https://localhost:8080/"
        },
        "id": "qChLe7LG9ASF",
        "outputId": "377c588f-fa6a-4727-9ee1-05a1f129d703"
      },
      "source": [
        "df.info()"
      ],
      "execution_count": null,
      "outputs": [
        {
          "output_type": "stream",
          "text": [
            "<class 'pandas.core.frame.DataFrame'>\n",
            "RangeIndex: 12395 entries, 0 to 12394\n",
            "Data columns (total 23 columns):\n",
            " #   Column                               Non-Null Count  Dtype  \n",
            "---  ------                               --------------  -----  \n",
            " 0   jumlah_kartu                         12395 non-null  int64  \n",
            " 1   outstanding                          12395 non-null  int64  \n",
            " 2   limit_kredit                         12395 non-null  int64  \n",
            " 3   tagihan                              12395 non-null  int64  \n",
            " 4   total_pemakaian_tunai                12395 non-null  int64  \n",
            " 5   total_pemakaian_retail               12395 non-null  int64  \n",
            " 6   sisa_tagihan_tidak_terbayar          12395 non-null  int64  \n",
            " 7   kode_cabang                          12395 non-null  object \n",
            " 8   rasio_pembayaran                     12395 non-null  float64\n",
            " 9   persentasi_overlimit                 12395 non-null  float64\n",
            " 10  rasio_pembayaran_3bulan              12395 non-null  float64\n",
            " 11  rasio_pembayaran_6bulan              12395 non-null  float64\n",
            " 12  skor_delikuensi                      12395 non-null  int64  \n",
            " 13  jumlah_tahun_sejak_pembukaan_kredit  12395 non-null  float64\n",
            " 14  total_pemakaian                      12395 non-null  int64  \n",
            " 15  sisa_tagihan_per_jumlah_kartu        12395 non-null  float64\n",
            " 16  sisa_tagihan_per_limit               12395 non-null  float64\n",
            " 17  total_pemakaian_per_limit            12395 non-null  float64\n",
            " 18  pemakaian_3bln_per_limit             12395 non-null  float64\n",
            " 19  pemakaian_6bln_per_limit             12395 non-null  float64\n",
            " 20  utilisasi_3bulan                     12395 non-null  float64\n",
            " 21  utilisasi_6bulan                     12395 non-null  float64\n",
            " 22  target                               12395 non-null  int64  \n",
            "dtypes: float64(12), int64(10), object(1)\n",
            "memory usage: 2.2+ MB\n"
          ],
          "name": "stdout"
        }
      ]
    },
    {
      "cell_type": "code",
      "metadata": {
        "colab": {
          "base_uri": "https://localhost:8080/"
        },
        "id": "XJrcqfcE-g9h",
        "outputId": "57e075a8-37ba-4a10-ce22-b26011587671"
      },
      "source": [
        "df['target'].dtype"
      ],
      "execution_count": null,
      "outputs": [
        {
          "output_type": "execute_result",
          "data": {
            "text/plain": [
              "dtype('int64')"
            ]
          },
          "metadata": {
            "tags": []
          },
          "execution_count": 35
        }
      ]
    },
    {
      "cell_type": "code",
      "metadata": {
        "colab": {
          "base_uri": "https://localhost:8080/"
        },
        "id": "y1L4dptk-uXk",
        "outputId": "afbe4e47-4a0a-4c84-a91b-dcdeacb56e9f"
      },
      "source": [
        "df.select_dtypes"
      ],
      "execution_count": null,
      "outputs": [
        {
          "output_type": "execute_result",
          "data": {
            "text/plain": [
              "<bound method DataFrame.select_dtypes of        jumlah_kartu  outstanding  ...  utilisasi_6bulan  target\n",
              "0                 2        36158  ...          0.021949       0\n",
              "1                 2       268691  ...          0.000300       0\n",
              "2                 3      6769149  ...          0.267853       0\n",
              "3                 2      9402085  ...          0.336571       0\n",
              "4                 2      6227439  ...          0.181863       0\n",
              "...             ...          ...  ...               ...     ...\n",
              "12390             2      4827850  ...          0.125000       0\n",
              "12391             2      2940400  ...          0.805000       1\n",
              "12392             2        62162  ...          0.113000       0\n",
              "12393             3       264597  ...          0.647000       0\n",
              "12394             2      4067271  ...          1.050000       0\n",
              "\n",
              "[12395 rows x 23 columns]>"
            ]
          },
          "metadata": {
            "tags": []
          },
          "execution_count": 40
        }
      ]
    },
    {
      "cell_type": "code",
      "metadata": {
        "colab": {
          "base_uri": "https://localhost:8080/",
          "height": 340
        },
        "id": "gAb_hci193yl",
        "outputId": "61097440-b86b-4f20-faf1-4ff809ae190a"
      },
      "source": [
        "for column in df.dtype:\n",
        "  print(column)"
      ],
      "execution_count": null,
      "outputs": [
        {
          "output_type": "error",
          "ename": "AttributeError",
          "evalue": "ignored",
          "traceback": [
            "\u001b[0;31m---------------------------------------------------------------------------\u001b[0m",
            "\u001b[0;31mAttributeError\u001b[0m                            Traceback (most recent call last)",
            "\u001b[0;32m<ipython-input-38-2c6bac66e43d>\u001b[0m in \u001b[0;36m<module>\u001b[0;34m()\u001b[0m\n\u001b[0;32m----> 1\u001b[0;31m \u001b[0;32mfor\u001b[0m \u001b[0mcolumn\u001b[0m \u001b[0;32min\u001b[0m \u001b[0mdf\u001b[0m\u001b[0;34m.\u001b[0m\u001b[0mdtype\u001b[0m\u001b[0;34m:\u001b[0m\u001b[0;34m\u001b[0m\u001b[0;34m\u001b[0m\u001b[0m\n\u001b[0m\u001b[1;32m      2\u001b[0m   \u001b[0mprint\u001b[0m\u001b[0;34m(\u001b[0m\u001b[0mcolumn\u001b[0m\u001b[0;34m)\u001b[0m\u001b[0;34m\u001b[0m\u001b[0;34m\u001b[0m\u001b[0m\n",
            "\u001b[0;32m/usr/local/lib/python3.7/dist-packages/pandas/core/generic.py\u001b[0m in \u001b[0;36m__getattr__\u001b[0;34m(self, name)\u001b[0m\n\u001b[1;32m   5139\u001b[0m             \u001b[0;32mif\u001b[0m \u001b[0mself\u001b[0m\u001b[0;34m.\u001b[0m\u001b[0m_info_axis\u001b[0m\u001b[0;34m.\u001b[0m\u001b[0m_can_hold_identifiers_and_holds_name\u001b[0m\u001b[0;34m(\u001b[0m\u001b[0mname\u001b[0m\u001b[0;34m)\u001b[0m\u001b[0;34m:\u001b[0m\u001b[0;34m\u001b[0m\u001b[0;34m\u001b[0m\u001b[0m\n\u001b[1;32m   5140\u001b[0m                 \u001b[0;32mreturn\u001b[0m \u001b[0mself\u001b[0m\u001b[0;34m[\u001b[0m\u001b[0mname\u001b[0m\u001b[0;34m]\u001b[0m\u001b[0;34m\u001b[0m\u001b[0;34m\u001b[0m\u001b[0m\n\u001b[0;32m-> 5141\u001b[0;31m             \u001b[0;32mreturn\u001b[0m \u001b[0mobject\u001b[0m\u001b[0;34m.\u001b[0m\u001b[0m__getattribute__\u001b[0m\u001b[0;34m(\u001b[0m\u001b[0mself\u001b[0m\u001b[0;34m,\u001b[0m \u001b[0mname\u001b[0m\u001b[0;34m)\u001b[0m\u001b[0;34m\u001b[0m\u001b[0;34m\u001b[0m\u001b[0m\n\u001b[0m\u001b[1;32m   5142\u001b[0m \u001b[0;34m\u001b[0m\u001b[0m\n\u001b[1;32m   5143\u001b[0m     \u001b[0;32mdef\u001b[0m \u001b[0m__setattr__\u001b[0m\u001b[0;34m(\u001b[0m\u001b[0mself\u001b[0m\u001b[0;34m,\u001b[0m \u001b[0mname\u001b[0m\u001b[0;34m:\u001b[0m \u001b[0mstr\u001b[0m\u001b[0;34m,\u001b[0m \u001b[0mvalue\u001b[0m\u001b[0;34m)\u001b[0m \u001b[0;34m->\u001b[0m \u001b[0;32mNone\u001b[0m\u001b[0;34m:\u001b[0m\u001b[0;34m\u001b[0m\u001b[0;34m\u001b[0m\u001b[0m\n",
            "\u001b[0;31mAttributeError\u001b[0m: 'DataFrame' object has no attribute 'dtype'"
          ]
        }
      ]
    },
    {
      "cell_type": "code",
      "metadata": {
        "colab": {
          "base_uri": "https://localhost:8080/",
          "height": 419
        },
        "id": "cjIqFqGv8oU9",
        "outputId": "559754ae-4877-4078-caa9-2f14e73b4015"
      },
      "source": [
        "from sklearn.preprocessing import MinMaxScaler\n",
        "\n",
        "scaler = MinMaxScaler()\n",
        "\n",
        "df_norm = pd.DataFrame(scaler.fit_transform(df), columns=df.columns)\n",
        "\n",
        "df_norm"
      ],
      "execution_count": null,
      "outputs": [
        {
          "output_type": "error",
          "ename": "ValueError",
          "evalue": "ignored",
          "traceback": [
            "\u001b[0;31m---------------------------------------------------------------------------\u001b[0m",
            "\u001b[0;31mValueError\u001b[0m                                Traceback (most recent call last)",
            "\u001b[0;32m<ipython-input-22-902739eae60c>\u001b[0m in \u001b[0;36m<module>\u001b[0;34m()\u001b[0m\n\u001b[1;32m      3\u001b[0m \u001b[0mscaler\u001b[0m \u001b[0;34m=\u001b[0m \u001b[0mMinMaxScaler\u001b[0m\u001b[0;34m(\u001b[0m\u001b[0;34m)\u001b[0m\u001b[0;34m\u001b[0m\u001b[0;34m\u001b[0m\u001b[0m\n\u001b[1;32m      4\u001b[0m \u001b[0;34m\u001b[0m\u001b[0m\n\u001b[0;32m----> 5\u001b[0;31m \u001b[0mdf_norm\u001b[0m \u001b[0;34m=\u001b[0m \u001b[0mpd\u001b[0m\u001b[0;34m.\u001b[0m\u001b[0mDataFrame\u001b[0m\u001b[0;34m(\u001b[0m\u001b[0mscaler\u001b[0m\u001b[0;34m.\u001b[0m\u001b[0mfit_transform\u001b[0m\u001b[0;34m(\u001b[0m\u001b[0mdf\u001b[0m\u001b[0;34m)\u001b[0m\u001b[0;34m,\u001b[0m \u001b[0mcolumns\u001b[0m\u001b[0;34m=\u001b[0m\u001b[0mdf\u001b[0m\u001b[0;34m.\u001b[0m\u001b[0mcolumns\u001b[0m\u001b[0;34m)\u001b[0m\u001b[0;34m\u001b[0m\u001b[0;34m\u001b[0m\u001b[0m\n\u001b[0m\u001b[1;32m      6\u001b[0m \u001b[0;34m\u001b[0m\u001b[0m\n\u001b[1;32m      7\u001b[0m \u001b[0mdf_norm\u001b[0m\u001b[0;34m\u001b[0m\u001b[0;34m\u001b[0m\u001b[0m\n",
            "\u001b[0;32m/usr/local/lib/python3.7/dist-packages/sklearn/base.py\u001b[0m in \u001b[0;36mfit_transform\u001b[0;34m(self, X, y, **fit_params)\u001b[0m\n\u001b[1;32m    569\u001b[0m         \u001b[0;32mif\u001b[0m \u001b[0my\u001b[0m \u001b[0;32mis\u001b[0m \u001b[0;32mNone\u001b[0m\u001b[0;34m:\u001b[0m\u001b[0;34m\u001b[0m\u001b[0;34m\u001b[0m\u001b[0m\n\u001b[1;32m    570\u001b[0m             \u001b[0;31m# fit method of arity 1 (unsupervised transformation)\u001b[0m\u001b[0;34m\u001b[0m\u001b[0;34m\u001b[0m\u001b[0;34m\u001b[0m\u001b[0m\n\u001b[0;32m--> 571\u001b[0;31m             \u001b[0;32mreturn\u001b[0m \u001b[0mself\u001b[0m\u001b[0;34m.\u001b[0m\u001b[0mfit\u001b[0m\u001b[0;34m(\u001b[0m\u001b[0mX\u001b[0m\u001b[0;34m,\u001b[0m \u001b[0;34m**\u001b[0m\u001b[0mfit_params\u001b[0m\u001b[0;34m)\u001b[0m\u001b[0;34m.\u001b[0m\u001b[0mtransform\u001b[0m\u001b[0;34m(\u001b[0m\u001b[0mX\u001b[0m\u001b[0;34m)\u001b[0m\u001b[0;34m\u001b[0m\u001b[0;34m\u001b[0m\u001b[0m\n\u001b[0m\u001b[1;32m    572\u001b[0m         \u001b[0;32melse\u001b[0m\u001b[0;34m:\u001b[0m\u001b[0;34m\u001b[0m\u001b[0;34m\u001b[0m\u001b[0m\n\u001b[1;32m    573\u001b[0m             \u001b[0;31m# fit method of arity 2 (supervised transformation)\u001b[0m\u001b[0;34m\u001b[0m\u001b[0;34m\u001b[0m\u001b[0;34m\u001b[0m\u001b[0m\n",
            "\u001b[0;32m/usr/local/lib/python3.7/dist-packages/sklearn/preprocessing/_data.py\u001b[0m in \u001b[0;36mfit\u001b[0;34m(self, X, y)\u001b[0m\n\u001b[1;32m    337\u001b[0m         \u001b[0;31m# Reset internal state before fitting\u001b[0m\u001b[0;34m\u001b[0m\u001b[0;34m\u001b[0m\u001b[0;34m\u001b[0m\u001b[0m\n\u001b[1;32m    338\u001b[0m         \u001b[0mself\u001b[0m\u001b[0;34m.\u001b[0m\u001b[0m_reset\u001b[0m\u001b[0;34m(\u001b[0m\u001b[0;34m)\u001b[0m\u001b[0;34m\u001b[0m\u001b[0;34m\u001b[0m\u001b[0m\n\u001b[0;32m--> 339\u001b[0;31m         \u001b[0;32mreturn\u001b[0m \u001b[0mself\u001b[0m\u001b[0;34m.\u001b[0m\u001b[0mpartial_fit\u001b[0m\u001b[0;34m(\u001b[0m\u001b[0mX\u001b[0m\u001b[0;34m,\u001b[0m \u001b[0my\u001b[0m\u001b[0;34m)\u001b[0m\u001b[0;34m\u001b[0m\u001b[0;34m\u001b[0m\u001b[0m\n\u001b[0m\u001b[1;32m    340\u001b[0m \u001b[0;34m\u001b[0m\u001b[0m\n\u001b[1;32m    341\u001b[0m     \u001b[0;32mdef\u001b[0m \u001b[0mpartial_fit\u001b[0m\u001b[0;34m(\u001b[0m\u001b[0mself\u001b[0m\u001b[0;34m,\u001b[0m \u001b[0mX\u001b[0m\u001b[0;34m,\u001b[0m \u001b[0my\u001b[0m\u001b[0;34m=\u001b[0m\u001b[0;32mNone\u001b[0m\u001b[0;34m)\u001b[0m\u001b[0;34m:\u001b[0m\u001b[0;34m\u001b[0m\u001b[0;34m\u001b[0m\u001b[0m\n",
            "\u001b[0;32m/usr/local/lib/python3.7/dist-packages/sklearn/preprocessing/_data.py\u001b[0m in \u001b[0;36mpartial_fit\u001b[0;34m(self, X, y)\u001b[0m\n\u001b[1;32m    371\u001b[0m         X = check_array(X,\n\u001b[1;32m    372\u001b[0m                         \u001b[0mestimator\u001b[0m\u001b[0;34m=\u001b[0m\u001b[0mself\u001b[0m\u001b[0;34m,\u001b[0m \u001b[0mdtype\u001b[0m\u001b[0;34m=\u001b[0m\u001b[0mFLOAT_DTYPES\u001b[0m\u001b[0;34m,\u001b[0m\u001b[0;34m\u001b[0m\u001b[0;34m\u001b[0m\u001b[0m\n\u001b[0;32m--> 373\u001b[0;31m                         force_all_finite=\"allow-nan\")\n\u001b[0m\u001b[1;32m    374\u001b[0m \u001b[0;34m\u001b[0m\u001b[0m\n\u001b[1;32m    375\u001b[0m         \u001b[0mdata_min\u001b[0m \u001b[0;34m=\u001b[0m \u001b[0mnp\u001b[0m\u001b[0;34m.\u001b[0m\u001b[0mnanmin\u001b[0m\u001b[0;34m(\u001b[0m\u001b[0mX\u001b[0m\u001b[0;34m,\u001b[0m \u001b[0maxis\u001b[0m\u001b[0;34m=\u001b[0m\u001b[0;36m0\u001b[0m\u001b[0;34m)\u001b[0m\u001b[0;34m\u001b[0m\u001b[0;34m\u001b[0m\u001b[0m\n",
            "\u001b[0;32m/usr/local/lib/python3.7/dist-packages/sklearn/utils/validation.py\u001b[0m in \u001b[0;36mcheck_array\u001b[0;34m(array, accept_sparse, accept_large_sparse, dtype, order, copy, force_all_finite, ensure_2d, allow_nd, ensure_min_samples, ensure_min_features, warn_on_dtype, estimator)\u001b[0m\n\u001b[1;32m    529\u001b[0m                     \u001b[0marray\u001b[0m \u001b[0;34m=\u001b[0m \u001b[0marray\u001b[0m\u001b[0;34m.\u001b[0m\u001b[0mastype\u001b[0m\u001b[0;34m(\u001b[0m\u001b[0mdtype\u001b[0m\u001b[0;34m,\u001b[0m \u001b[0mcasting\u001b[0m\u001b[0;34m=\u001b[0m\u001b[0;34m\"unsafe\"\u001b[0m\u001b[0;34m,\u001b[0m \u001b[0mcopy\u001b[0m\u001b[0;34m=\u001b[0m\u001b[0;32mFalse\u001b[0m\u001b[0;34m)\u001b[0m\u001b[0;34m\u001b[0m\u001b[0;34m\u001b[0m\u001b[0m\n\u001b[1;32m    530\u001b[0m                 \u001b[0;32melse\u001b[0m\u001b[0;34m:\u001b[0m\u001b[0;34m\u001b[0m\u001b[0;34m\u001b[0m\u001b[0m\n\u001b[0;32m--> 531\u001b[0;31m                     \u001b[0marray\u001b[0m \u001b[0;34m=\u001b[0m \u001b[0mnp\u001b[0m\u001b[0;34m.\u001b[0m\u001b[0masarray\u001b[0m\u001b[0;34m(\u001b[0m\u001b[0marray\u001b[0m\u001b[0;34m,\u001b[0m \u001b[0morder\u001b[0m\u001b[0;34m=\u001b[0m\u001b[0morder\u001b[0m\u001b[0;34m,\u001b[0m \u001b[0mdtype\u001b[0m\u001b[0;34m=\u001b[0m\u001b[0mdtype\u001b[0m\u001b[0;34m)\u001b[0m\u001b[0;34m\u001b[0m\u001b[0;34m\u001b[0m\u001b[0m\n\u001b[0m\u001b[1;32m    532\u001b[0m             \u001b[0;32mexcept\u001b[0m \u001b[0mComplexWarning\u001b[0m\u001b[0;34m:\u001b[0m\u001b[0;34m\u001b[0m\u001b[0;34m\u001b[0m\u001b[0m\n\u001b[1;32m    533\u001b[0m                 raise ValueError(\"Complex data not supported\\n\"\n",
            "\u001b[0;32m/usr/local/lib/python3.7/dist-packages/numpy/core/_asarray.py\u001b[0m in \u001b[0;36masarray\u001b[0;34m(a, dtype, order)\u001b[0m\n\u001b[1;32m     81\u001b[0m \u001b[0;34m\u001b[0m\u001b[0m\n\u001b[1;32m     82\u001b[0m     \"\"\"\n\u001b[0;32m---> 83\u001b[0;31m     \u001b[0;32mreturn\u001b[0m \u001b[0marray\u001b[0m\u001b[0;34m(\u001b[0m\u001b[0ma\u001b[0m\u001b[0;34m,\u001b[0m \u001b[0mdtype\u001b[0m\u001b[0;34m,\u001b[0m \u001b[0mcopy\u001b[0m\u001b[0;34m=\u001b[0m\u001b[0;32mFalse\u001b[0m\u001b[0;34m,\u001b[0m \u001b[0morder\u001b[0m\u001b[0;34m=\u001b[0m\u001b[0morder\u001b[0m\u001b[0;34m)\u001b[0m\u001b[0;34m\u001b[0m\u001b[0;34m\u001b[0m\u001b[0m\n\u001b[0m\u001b[1;32m     84\u001b[0m \u001b[0;34m\u001b[0m\u001b[0m\n\u001b[1;32m     85\u001b[0m \u001b[0;34m\u001b[0m\u001b[0m\n",
            "\u001b[0;32m/usr/local/lib/python3.7/dist-packages/pandas/core/generic.py\u001b[0m in \u001b[0;36m__array__\u001b[0;34m(self, dtype)\u001b[0m\n\u001b[1;32m   1779\u001b[0m \u001b[0;34m\u001b[0m\u001b[0m\n\u001b[1;32m   1780\u001b[0m     \u001b[0;32mdef\u001b[0m \u001b[0m__array__\u001b[0m\u001b[0;34m(\u001b[0m\u001b[0mself\u001b[0m\u001b[0;34m,\u001b[0m \u001b[0mdtype\u001b[0m\u001b[0;34m=\u001b[0m\u001b[0;32mNone\u001b[0m\u001b[0;34m)\u001b[0m \u001b[0;34m->\u001b[0m \u001b[0mnp\u001b[0m\u001b[0;34m.\u001b[0m\u001b[0mndarray\u001b[0m\u001b[0;34m:\u001b[0m\u001b[0;34m\u001b[0m\u001b[0;34m\u001b[0m\u001b[0m\n\u001b[0;32m-> 1781\u001b[0;31m         \u001b[0;32mreturn\u001b[0m \u001b[0mnp\u001b[0m\u001b[0;34m.\u001b[0m\u001b[0masarray\u001b[0m\u001b[0;34m(\u001b[0m\u001b[0mself\u001b[0m\u001b[0;34m.\u001b[0m\u001b[0m_values\u001b[0m\u001b[0;34m,\u001b[0m \u001b[0mdtype\u001b[0m\u001b[0;34m=\u001b[0m\u001b[0mdtype\u001b[0m\u001b[0;34m)\u001b[0m\u001b[0;34m\u001b[0m\u001b[0;34m\u001b[0m\u001b[0m\n\u001b[0m\u001b[1;32m   1782\u001b[0m \u001b[0;34m\u001b[0m\u001b[0m\n\u001b[1;32m   1783\u001b[0m     \u001b[0;32mdef\u001b[0m \u001b[0m__array_wrap__\u001b[0m\u001b[0;34m(\u001b[0m\u001b[0mself\u001b[0m\u001b[0;34m,\u001b[0m \u001b[0mresult\u001b[0m\u001b[0;34m,\u001b[0m \u001b[0mcontext\u001b[0m\u001b[0;34m=\u001b[0m\u001b[0;32mNone\u001b[0m\u001b[0;34m)\u001b[0m\u001b[0;34m:\u001b[0m\u001b[0;34m\u001b[0m\u001b[0;34m\u001b[0m\u001b[0m\n",
            "\u001b[0;32m/usr/local/lib/python3.7/dist-packages/numpy/core/_asarray.py\u001b[0m in \u001b[0;36masarray\u001b[0;34m(a, dtype, order)\u001b[0m\n\u001b[1;32m     81\u001b[0m \u001b[0;34m\u001b[0m\u001b[0m\n\u001b[1;32m     82\u001b[0m     \"\"\"\n\u001b[0;32m---> 83\u001b[0;31m     \u001b[0;32mreturn\u001b[0m \u001b[0marray\u001b[0m\u001b[0;34m(\u001b[0m\u001b[0ma\u001b[0m\u001b[0;34m,\u001b[0m \u001b[0mdtype\u001b[0m\u001b[0;34m,\u001b[0m \u001b[0mcopy\u001b[0m\u001b[0;34m=\u001b[0m\u001b[0;32mFalse\u001b[0m\u001b[0;34m,\u001b[0m \u001b[0morder\u001b[0m\u001b[0;34m=\u001b[0m\u001b[0morder\u001b[0m\u001b[0;34m)\u001b[0m\u001b[0;34m\u001b[0m\u001b[0;34m\u001b[0m\u001b[0m\n\u001b[0m\u001b[1;32m     84\u001b[0m \u001b[0;34m\u001b[0m\u001b[0m\n\u001b[1;32m     85\u001b[0m \u001b[0;34m\u001b[0m\u001b[0m\n",
            "\u001b[0;31mValueError\u001b[0m: could not convert string to float: 'I'"
          ]
        }
      ]
    },
    {
      "cell_type": "markdown",
      "metadata": {
        "id": "RYvsxazICmb5"
      },
      "source": [
        "## Labeling "
      ]
    },
    {
      "cell_type": "code",
      "metadata": {
        "id": "zdDZghbA88XG"
      },
      "source": [
        "from sklearn.preprocessing import LabelEncoder\n",
        "\n",
        "le = LabelEncoder()\n",
        "\n",
        "df['kode_cabang'] = le.fit_transform(df['kode_cabang'])"
      ],
      "execution_count": null,
      "outputs": []
    },
    {
      "cell_type": "code",
      "metadata": {
        "colab": {
          "base_uri": "https://localhost:8080/"
        },
        "id": "B4-_Zn0bCx5M",
        "outputId": "2bfda993-47ad-4c05-bfe7-c13c26d17ce8"
      },
      "source": [
        "df.info()"
      ],
      "execution_count": null,
      "outputs": [
        {
          "output_type": "stream",
          "text": [
            "<class 'pandas.core.frame.DataFrame'>\n",
            "RangeIndex: 12395 entries, 0 to 12394\n",
            "Data columns (total 23 columns):\n",
            " #   Column                               Non-Null Count  Dtype  \n",
            "---  ------                               --------------  -----  \n",
            " 0   jumlah_kartu                         12395 non-null  int64  \n",
            " 1   outstanding                          12395 non-null  int64  \n",
            " 2   limit_kredit                         12395 non-null  int64  \n",
            " 3   tagihan                              12395 non-null  int64  \n",
            " 4   total_pemakaian_tunai                12395 non-null  int64  \n",
            " 5   total_pemakaian_retail               12395 non-null  int64  \n",
            " 6   sisa_tagihan_tidak_terbayar          12395 non-null  int64  \n",
            " 7   kode_cabang                          12395 non-null  int64  \n",
            " 8   rasio_pembayaran                     12395 non-null  float64\n",
            " 9   persentasi_overlimit                 12395 non-null  float64\n",
            " 10  rasio_pembayaran_3bulan              12395 non-null  float64\n",
            " 11  rasio_pembayaran_6bulan              12395 non-null  float64\n",
            " 12  skor_delikuensi                      12395 non-null  int64  \n",
            " 13  jumlah_tahun_sejak_pembukaan_kredit  12395 non-null  float64\n",
            " 14  total_pemakaian                      12395 non-null  int64  \n",
            " 15  sisa_tagihan_per_jumlah_kartu        12395 non-null  float64\n",
            " 16  sisa_tagihan_per_limit               12395 non-null  float64\n",
            " 17  total_pemakaian_per_limit            12395 non-null  float64\n",
            " 18  pemakaian_3bln_per_limit             12395 non-null  float64\n",
            " 19  pemakaian_6bln_per_limit             12395 non-null  float64\n",
            " 20  utilisasi_3bulan                     12395 non-null  float64\n",
            " 21  utilisasi_6bulan                     12395 non-null  float64\n",
            " 22  target                               12395 non-null  int64  \n",
            "dtypes: float64(12), int64(11)\n",
            "memory usage: 2.2 MB\n"
          ],
          "name": "stdout"
        }
      ]
    },
    {
      "cell_type": "markdown",
      "metadata": {
        "id": "iZBAvQulC2a4"
      },
      "source": [
        "## Normalization"
      ]
    },
    {
      "cell_type": "code",
      "metadata": {
        "colab": {
          "base_uri": "https://localhost:8080/",
          "height": 444
        },
        "id": "FVaJZyvoCy18",
        "outputId": "15d997d4-b910-43b0-b064-9d868120f2f1"
      },
      "source": [
        "from sklearn.preprocessing import MinMaxScaler\n",
        "\n",
        "scaler = MinMaxScaler()\n",
        "\n",
        "df_norm = pd.DataFrame(scaler.fit_transform(df), columns=df.columns)\n",
        "\n",
        "df_norm"
      ],
      "execution_count": null,
      "outputs": [
        {
          "output_type": "execute_result",
          "data": {
            "text/html": [
              "<div>\n",
              "<style scoped>\n",
              "    .dataframe tbody tr th:only-of-type {\n",
              "        vertical-align: middle;\n",
              "    }\n",
              "\n",
              "    .dataframe tbody tr th {\n",
              "        vertical-align: top;\n",
              "    }\n",
              "\n",
              "    .dataframe thead th {\n",
              "        text-align: right;\n",
              "    }\n",
              "</style>\n",
              "<table border=\"1\" class=\"dataframe\">\n",
              "  <thead>\n",
              "    <tr style=\"text-align: right;\">\n",
              "      <th></th>\n",
              "      <th>jumlah_kartu</th>\n",
              "      <th>outstanding</th>\n",
              "      <th>limit_kredit</th>\n",
              "      <th>tagihan</th>\n",
              "      <th>total_pemakaian_tunai</th>\n",
              "      <th>total_pemakaian_retail</th>\n",
              "      <th>sisa_tagihan_tidak_terbayar</th>\n",
              "      <th>kode_cabang</th>\n",
              "      <th>rasio_pembayaran</th>\n",
              "      <th>persentasi_overlimit</th>\n",
              "      <th>rasio_pembayaran_3bulan</th>\n",
              "      <th>rasio_pembayaran_6bulan</th>\n",
              "      <th>skor_delikuensi</th>\n",
              "      <th>jumlah_tahun_sejak_pembukaan_kredit</th>\n",
              "      <th>total_pemakaian</th>\n",
              "      <th>sisa_tagihan_per_jumlah_kartu</th>\n",
              "      <th>sisa_tagihan_per_limit</th>\n",
              "      <th>total_pemakaian_per_limit</th>\n",
              "      <th>pemakaian_3bln_per_limit</th>\n",
              "      <th>pemakaian_6bln_per_limit</th>\n",
              "      <th>utilisasi_3bulan</th>\n",
              "      <th>utilisasi_6bulan</th>\n",
              "      <th>target</th>\n",
              "    </tr>\n",
              "  </thead>\n",
              "  <tbody>\n",
              "    <tr>\n",
              "      <th>0</th>\n",
              "      <td>0.066667</td>\n",
              "      <td>0.000045</td>\n",
              "      <td>0.004012</td>\n",
              "      <td>0.000008</td>\n",
              "      <td>0.0</td>\n",
              "      <td>0.052108</td>\n",
              "      <td>0.000059</td>\n",
              "      <td>0.8</td>\n",
              "      <td>0.209366</td>\n",
              "      <td>0.0</td>\n",
              "      <td>0.760426</td>\n",
              "      <td>0.584714</td>\n",
              "      <td>0.0</td>\n",
              "      <td>0.435644</td>\n",
              "      <td>0.047525</td>\n",
              "      <td>0.000089</td>\n",
              "      <td>0.000519</td>\n",
              "      <td>0.120798</td>\n",
              "      <td>0.038086</td>\n",
              "      <td>0.067613</td>\n",
              "      <td>0.001593</td>\n",
              "      <td>0.002256</td>\n",
              "      <td>0.0</td>\n",
              "    </tr>\n",
              "    <tr>\n",
              "      <th>1</th>\n",
              "      <td>0.066667</td>\n",
              "      <td>0.000337</td>\n",
              "      <td>0.007021</td>\n",
              "      <td>0.000560</td>\n",
              "      <td>0.0</td>\n",
              "      <td>0.052111</td>\n",
              "      <td>0.000000</td>\n",
              "      <td>0.0</td>\n",
              "      <td>0.208193</td>\n",
              "      <td>0.0</td>\n",
              "      <td>0.759443</td>\n",
              "      <td>0.583957</td>\n",
              "      <td>0.0</td>\n",
              "      <td>0.000000</td>\n",
              "      <td>0.047527</td>\n",
              "      <td>0.000000</td>\n",
              "      <td>0.000000</td>\n",
              "      <td>0.120814</td>\n",
              "      <td>0.034845</td>\n",
              "      <td>0.065561</td>\n",
              "      <td>0.000485</td>\n",
              "      <td>0.000031</td>\n",
              "      <td>0.0</td>\n",
              "    </tr>\n",
              "    <tr>\n",
              "      <th>2</th>\n",
              "      <td>0.133333</td>\n",
              "      <td>0.008482</td>\n",
              "      <td>0.025075</td>\n",
              "      <td>0.009881</td>\n",
              "      <td>0.0</td>\n",
              "      <td>0.052108</td>\n",
              "      <td>0.000000</td>\n",
              "      <td>0.0</td>\n",
              "      <td>0.209341</td>\n",
              "      <td>0.0</td>\n",
              "      <td>0.760757</td>\n",
              "      <td>0.584721</td>\n",
              "      <td>0.0</td>\n",
              "      <td>0.297030</td>\n",
              "      <td>0.047524</td>\n",
              "      <td>0.000000</td>\n",
              "      <td>0.000000</td>\n",
              "      <td>0.120795</td>\n",
              "      <td>0.046050</td>\n",
              "      <td>0.071057</td>\n",
              "      <td>0.030657</td>\n",
              "      <td>0.027529</td>\n",
              "      <td>0.0</td>\n",
              "    </tr>\n",
              "    <tr>\n",
              "      <th>3</th>\n",
              "      <td>0.066667</td>\n",
              "      <td>0.011781</td>\n",
              "      <td>0.007021</td>\n",
              "      <td>0.014510</td>\n",
              "      <td>0.0</td>\n",
              "      <td>0.060977</td>\n",
              "      <td>0.013405</td>\n",
              "      <td>0.0</td>\n",
              "      <td>0.209295</td>\n",
              "      <td>0.0</td>\n",
              "      <td>0.760724</td>\n",
              "      <td>0.584713</td>\n",
              "      <td>0.0</td>\n",
              "      <td>0.027228</td>\n",
              "      <td>0.055613</td>\n",
              "      <td>0.020108</td>\n",
              "      <td>0.082208</td>\n",
              "      <td>0.171761</td>\n",
              "      <td>0.124178</td>\n",
              "      <td>0.080673</td>\n",
              "      <td>0.087082</td>\n",
              "      <td>0.034591</td>\n",
              "      <td>0.0</td>\n",
              "    </tr>\n",
              "    <tr>\n",
              "      <th>4</th>\n",
              "      <td>0.066667</td>\n",
              "      <td>0.007803</td>\n",
              "      <td>0.077232</td>\n",
              "      <td>0.004920</td>\n",
              "      <td>0.0</td>\n",
              "      <td>0.064382</td>\n",
              "      <td>0.010391</td>\n",
              "      <td>0.0</td>\n",
              "      <td>0.208193</td>\n",
              "      <td>0.0</td>\n",
              "      <td>0.759817</td>\n",
              "      <td>0.584275</td>\n",
              "      <td>0.0</td>\n",
              "      <td>0.282178</td>\n",
              "      <td>0.058718</td>\n",
              "      <td>0.015586</td>\n",
              "      <td>0.007965</td>\n",
              "      <td>0.129612</td>\n",
              "      <td>0.039597</td>\n",
              "      <td>0.079100</td>\n",
              "      <td>0.004760</td>\n",
              "      <td>0.018691</td>\n",
              "      <td>0.0</td>\n",
              "    </tr>\n",
              "    <tr>\n",
              "      <th>...</th>\n",
              "      <td>...</td>\n",
              "      <td>...</td>\n",
              "      <td>...</td>\n",
              "      <td>...</td>\n",
              "      <td>...</td>\n",
              "      <td>...</td>\n",
              "      <td>...</td>\n",
              "      <td>...</td>\n",
              "      <td>...</td>\n",
              "      <td>...</td>\n",
              "      <td>...</td>\n",
              "      <td>...</td>\n",
              "      <td>...</td>\n",
              "      <td>...</td>\n",
              "      <td>...</td>\n",
              "      <td>...</td>\n",
              "      <td>...</td>\n",
              "      <td>...</td>\n",
              "      <td>...</td>\n",
              "      <td>...</td>\n",
              "      <td>...</td>\n",
              "      <td>...</td>\n",
              "      <td>...</td>\n",
              "    </tr>\n",
              "    <tr>\n",
              "      <th>12390</th>\n",
              "      <td>0.066667</td>\n",
              "      <td>0.006049</td>\n",
              "      <td>0.046138</td>\n",
              "      <td>0.003205</td>\n",
              "      <td>0.0</td>\n",
              "      <td>0.058022</td>\n",
              "      <td>0.000000</td>\n",
              "      <td>0.0</td>\n",
              "      <td>0.209333</td>\n",
              "      <td>0.0</td>\n",
              "      <td>0.760849</td>\n",
              "      <td>0.584586</td>\n",
              "      <td>0.0</td>\n",
              "      <td>0.061782</td>\n",
              "      <td>0.052918</td>\n",
              "      <td>0.000000</td>\n",
              "      <td>0.000000</td>\n",
              "      <td>0.127733</td>\n",
              "      <td>0.049585</td>\n",
              "      <td>0.070331</td>\n",
              "      <td>0.013379</td>\n",
              "      <td>0.012847</td>\n",
              "      <td>0.0</td>\n",
              "    </tr>\n",
              "    <tr>\n",
              "      <th>12391</th>\n",
              "      <td>0.066667</td>\n",
              "      <td>0.003684</td>\n",
              "      <td>0.000000</td>\n",
              "      <td>0.006801</td>\n",
              "      <td>0.0</td>\n",
              "      <td>0.052108</td>\n",
              "      <td>0.006496</td>\n",
              "      <td>0.0</td>\n",
              "      <td>0.208326</td>\n",
              "      <td>0.0</td>\n",
              "      <td>0.759554</td>\n",
              "      <td>0.584041</td>\n",
              "      <td>0.0</td>\n",
              "      <td>0.027327</td>\n",
              "      <td>0.047524</td>\n",
              "      <td>0.009744</td>\n",
              "      <td>0.132735</td>\n",
              "      <td>0.120795</td>\n",
              "      <td>0.065819</td>\n",
              "      <td>0.065561</td>\n",
              "      <td>0.109375</td>\n",
              "      <td>0.082734</td>\n",
              "      <td>1.0</td>\n",
              "    </tr>\n",
              "    <tr>\n",
              "      <th>12392</th>\n",
              "      <td>0.066667</td>\n",
              "      <td>0.000078</td>\n",
              "      <td>0.003009</td>\n",
              "      <td>0.000050</td>\n",
              "      <td>0.0</td>\n",
              "      <td>0.052109</td>\n",
              "      <td>0.000000</td>\n",
              "      <td>0.0</td>\n",
              "      <td>0.209341</td>\n",
              "      <td>0.0</td>\n",
              "      <td>0.760757</td>\n",
              "      <td>0.584965</td>\n",
              "      <td>0.0</td>\n",
              "      <td>0.037129</td>\n",
              "      <td>0.047525</td>\n",
              "      <td>0.000000</td>\n",
              "      <td>0.000000</td>\n",
              "      <td>0.120803</td>\n",
              "      <td>0.034845</td>\n",
              "      <td>0.104275</td>\n",
              "      <td>0.001244</td>\n",
              "      <td>0.011614</td>\n",
              "      <td>0.0</td>\n",
              "    </tr>\n",
              "    <tr>\n",
              "      <th>12393</th>\n",
              "      <td>0.133333</td>\n",
              "      <td>0.000332</td>\n",
              "      <td>0.001003</td>\n",
              "      <td>0.000556</td>\n",
              "      <td>0.0</td>\n",
              "      <td>0.052111</td>\n",
              "      <td>0.000555</td>\n",
              "      <td>0.8</td>\n",
              "      <td>0.209364</td>\n",
              "      <td>0.0</td>\n",
              "      <td>0.760263</td>\n",
              "      <td>0.584008</td>\n",
              "      <td>0.0</td>\n",
              "      <td>0.091485</td>\n",
              "      <td>0.047527</td>\n",
              "      <td>0.000555</td>\n",
              "      <td>0.008508</td>\n",
              "      <td>0.120844</td>\n",
              "      <td>0.034845</td>\n",
              "      <td>0.096440</td>\n",
              "      <td>0.040209</td>\n",
              "      <td>0.066495</td>\n",
              "      <td>0.0</td>\n",
              "    </tr>\n",
              "    <tr>\n",
              "      <th>12394</th>\n",
              "      <td>0.066667</td>\n",
              "      <td>0.005096</td>\n",
              "      <td>0.002006</td>\n",
              "      <td>0.009356</td>\n",
              "      <td>0.0</td>\n",
              "      <td>0.052108</td>\n",
              "      <td>0.009150</td>\n",
              "      <td>0.5</td>\n",
              "      <td>0.209292</td>\n",
              "      <td>0.0</td>\n",
              "      <td>0.759842</td>\n",
              "      <td>0.584222</td>\n",
              "      <td>0.0</td>\n",
              "      <td>0.044554</td>\n",
              "      <td>0.047524</td>\n",
              "      <td>0.013724</td>\n",
              "      <td>0.112155</td>\n",
              "      <td>0.120795</td>\n",
              "      <td>0.103982</td>\n",
              "      <td>0.103929</td>\n",
              "      <td>0.130420</td>\n",
              "      <td>0.107914</td>\n",
              "      <td>0.0</td>\n",
              "    </tr>\n",
              "  </tbody>\n",
              "</table>\n",
              "<p>12395 rows × 23 columns</p>\n",
              "</div>"
            ],
            "text/plain": [
              "       jumlah_kartu  outstanding  ...  utilisasi_6bulan  target\n",
              "0          0.066667     0.000045  ...          0.002256     0.0\n",
              "1          0.066667     0.000337  ...          0.000031     0.0\n",
              "2          0.133333     0.008482  ...          0.027529     0.0\n",
              "3          0.066667     0.011781  ...          0.034591     0.0\n",
              "4          0.066667     0.007803  ...          0.018691     0.0\n",
              "...             ...          ...  ...               ...     ...\n",
              "12390      0.066667     0.006049  ...          0.012847     0.0\n",
              "12391      0.066667     0.003684  ...          0.082734     1.0\n",
              "12392      0.066667     0.000078  ...          0.011614     0.0\n",
              "12393      0.133333     0.000332  ...          0.066495     0.0\n",
              "12394      0.066667     0.005096  ...          0.107914     0.0\n",
              "\n",
              "[12395 rows x 23 columns]"
            ]
          },
          "metadata": {
            "tags": []
          },
          "execution_count": 24
        }
      ]
    },
    {
      "cell_type": "code",
      "metadata": {
        "colab": {
          "base_uri": "https://localhost:8080/"
        },
        "id": "nFsdUjtyC4JE",
        "outputId": "6bb4b70c-b037-49e5-9f07-a7239eee2022"
      },
      "source": [
        "df_norm['kode_cabang'].unique()"
      ],
      "execution_count": null,
      "outputs": [
        {
          "output_type": "execute_result",
          "data": {
            "text/plain": [
              "array([0.8, 0. , 0.1, 0.4, 0.6, 1. , 0.5, 0.2, 0.9, 0.7, 0.3])"
            ]
          },
          "metadata": {
            "tags": []
          },
          "execution_count": 25
        }
      ]
    },
    {
      "cell_type": "code",
      "metadata": {
        "colab": {
          "base_uri": "https://localhost:8080/"
        },
        "id": "PQShysqZDBP8",
        "outputId": "84aed8d7-a9e5-4d7d-8347-8db6875a8ccc"
      },
      "source": [
        "df_norm.isnull().sum()"
      ],
      "execution_count": null,
      "outputs": [
        {
          "output_type": "execute_result",
          "data": {
            "text/plain": [
              "jumlah_kartu                           0\n",
              "outstanding                            0\n",
              "limit_kredit                           0\n",
              "tagihan                                0\n",
              "total_pemakaian_tunai                  0\n",
              "total_pemakaian_retail                 0\n",
              "sisa_tagihan_tidak_terbayar            0\n",
              "kode_cabang                            0\n",
              "rasio_pembayaran                       0\n",
              "persentasi_overlimit                   0\n",
              "rasio_pembayaran_3bulan                0\n",
              "rasio_pembayaran_6bulan                0\n",
              "skor_delikuensi                        0\n",
              "jumlah_tahun_sejak_pembukaan_kredit    0\n",
              "total_pemakaian                        0\n",
              "sisa_tagihan_per_jumlah_kartu          0\n",
              "sisa_tagihan_per_limit                 0\n",
              "total_pemakaian_per_limit              0\n",
              "pemakaian_3bln_per_limit               0\n",
              "pemakaian_6bln_per_limit               0\n",
              "utilisasi_3bulan                       0\n",
              "utilisasi_6bulan                       0\n",
              "target                                 0\n",
              "dtype: int64"
            ]
          },
          "metadata": {
            "tags": []
          },
          "execution_count": 26
        }
      ]
    },
    {
      "cell_type": "code",
      "metadata": {
        "colab": {
          "base_uri": "https://localhost:8080/",
          "height": 320
        },
        "id": "wpqP50uxDFPc",
        "outputId": "1bd642d2-c4b6-4643-83d2-7556a7b39cd1"
      },
      "source": [
        "df_norm.describe()"
      ],
      "execution_count": null,
      "outputs": [
        {
          "output_type": "execute_result",
          "data": {
            "text/html": [
              "<div>\n",
              "<style scoped>\n",
              "    .dataframe tbody tr th:only-of-type {\n",
              "        vertical-align: middle;\n",
              "    }\n",
              "\n",
              "    .dataframe tbody tr th {\n",
              "        vertical-align: top;\n",
              "    }\n",
              "\n",
              "    .dataframe thead th {\n",
              "        text-align: right;\n",
              "    }\n",
              "</style>\n",
              "<table border=\"1\" class=\"dataframe\">\n",
              "  <thead>\n",
              "    <tr style=\"text-align: right;\">\n",
              "      <th></th>\n",
              "      <th>jumlah_kartu</th>\n",
              "      <th>outstanding</th>\n",
              "      <th>limit_kredit</th>\n",
              "      <th>tagihan</th>\n",
              "      <th>total_pemakaian_tunai</th>\n",
              "      <th>total_pemakaian_retail</th>\n",
              "      <th>sisa_tagihan_tidak_terbayar</th>\n",
              "      <th>kode_cabang</th>\n",
              "      <th>rasio_pembayaran</th>\n",
              "      <th>persentasi_overlimit</th>\n",
              "      <th>rasio_pembayaran_3bulan</th>\n",
              "      <th>rasio_pembayaran_6bulan</th>\n",
              "      <th>skor_delikuensi</th>\n",
              "      <th>jumlah_tahun_sejak_pembukaan_kredit</th>\n",
              "      <th>total_pemakaian</th>\n",
              "      <th>sisa_tagihan_per_jumlah_kartu</th>\n",
              "      <th>sisa_tagihan_per_limit</th>\n",
              "      <th>total_pemakaian_per_limit</th>\n",
              "      <th>pemakaian_3bln_per_limit</th>\n",
              "      <th>pemakaian_6bln_per_limit</th>\n",
              "      <th>utilisasi_3bulan</th>\n",
              "      <th>utilisasi_6bulan</th>\n",
              "      <th>target</th>\n",
              "    </tr>\n",
              "  </thead>\n",
              "  <tbody>\n",
              "    <tr>\n",
              "      <th>count</th>\n",
              "      <td>12395.000000</td>\n",
              "      <td>12395.000000</td>\n",
              "      <td>12395.000000</td>\n",
              "      <td>12395.000000</td>\n",
              "      <td>12395.000000</td>\n",
              "      <td>12395.000000</td>\n",
              "      <td>12395.000000</td>\n",
              "      <td>12395.000000</td>\n",
              "      <td>12395.000000</td>\n",
              "      <td>12395.000000</td>\n",
              "      <td>12395.000000</td>\n",
              "      <td>12395.000000</td>\n",
              "      <td>12395.000000</td>\n",
              "      <td>12395.000000</td>\n",
              "      <td>12395.000000</td>\n",
              "      <td>12395.000000</td>\n",
              "      <td>12395.000000</td>\n",
              "      <td>12395.000000</td>\n",
              "      <td>12395.000000</td>\n",
              "      <td>12395.000000</td>\n",
              "      <td>12395.000000</td>\n",
              "      <td>12395.000000</td>\n",
              "      <td>12395.000000</td>\n",
              "    </tr>\n",
              "    <tr>\n",
              "      <th>mean</th>\n",
              "      <td>0.100261</td>\n",
              "      <td>0.014449</td>\n",
              "      <td>0.017779</td>\n",
              "      <td>0.019109</td>\n",
              "      <td>0.002690</td>\n",
              "      <td>0.058919</td>\n",
              "      <td>0.018141</td>\n",
              "      <td>0.211747</td>\n",
              "      <td>0.208962</td>\n",
              "      <td>0.017760</td>\n",
              "      <td>0.759998</td>\n",
              "      <td>0.584582</td>\n",
              "      <td>0.000968</td>\n",
              "      <td>0.174931</td>\n",
              "      <td>0.053971</td>\n",
              "      <td>0.019865</td>\n",
              "      <td>0.064770</td>\n",
              "      <td>0.141780</td>\n",
              "      <td>0.081354</td>\n",
              "      <td>0.089003</td>\n",
              "      <td>0.070257</td>\n",
              "      <td>0.054911</td>\n",
              "      <td>0.090359</td>\n",
              "    </tr>\n",
              "    <tr>\n",
              "      <th>std</th>\n",
              "      <td>0.067957</td>\n",
              "      <td>0.030654</td>\n",
              "      <td>0.029184</td>\n",
              "      <td>0.041214</td>\n",
              "      <td>0.022438</td>\n",
              "      <td>0.026798</td>\n",
              "      <td>0.043796</td>\n",
              "      <td>0.299269</td>\n",
              "      <td>0.010084</td>\n",
              "      <td>0.048109</td>\n",
              "      <td>0.015702</td>\n",
              "      <td>0.010306</td>\n",
              "      <td>0.022417</td>\n",
              "      <td>0.138888</td>\n",
              "      <td>0.025045</td>\n",
              "      <td>0.042477</td>\n",
              "      <td>0.065661</td>\n",
              "      <td>0.038301</td>\n",
              "      <td>0.053180</td>\n",
              "      <td>0.032064</td>\n",
              "      <td>0.051002</td>\n",
              "      <td>0.044964</td>\n",
              "      <td>0.286707</td>\n",
              "    </tr>\n",
              "    <tr>\n",
              "      <th>min</th>\n",
              "      <td>0.000000</td>\n",
              "      <td>0.000000</td>\n",
              "      <td>0.000000</td>\n",
              "      <td>0.000000</td>\n",
              "      <td>0.000000</td>\n",
              "      <td>0.000000</td>\n",
              "      <td>0.000000</td>\n",
              "      <td>0.000000</td>\n",
              "      <td>0.000000</td>\n",
              "      <td>0.000000</td>\n",
              "      <td>0.000000</td>\n",
              "      <td>0.000000</td>\n",
              "      <td>0.000000</td>\n",
              "      <td>0.000000</td>\n",
              "      <td>0.000000</td>\n",
              "      <td>0.000000</td>\n",
              "      <td>0.000000</td>\n",
              "      <td>0.000000</td>\n",
              "      <td>0.000000</td>\n",
              "      <td>0.000000</td>\n",
              "      <td>0.000000</td>\n",
              "      <td>0.000000</td>\n",
              "      <td>0.000000</td>\n",
              "    </tr>\n",
              "    <tr>\n",
              "      <th>25%</th>\n",
              "      <td>0.066667</td>\n",
              "      <td>0.002494</td>\n",
              "      <td>0.002006</td>\n",
              "      <td>0.001888</td>\n",
              "      <td>0.000000</td>\n",
              "      <td>0.052108</td>\n",
              "      <td>0.000000</td>\n",
              "      <td>0.000000</td>\n",
              "      <td>0.208193</td>\n",
              "      <td>0.000000</td>\n",
              "      <td>0.759712</td>\n",
              "      <td>0.584120</td>\n",
              "      <td>0.000000</td>\n",
              "      <td>0.064455</td>\n",
              "      <td>0.047524</td>\n",
              "      <td>0.000000</td>\n",
              "      <td>0.000000</td>\n",
              "      <td>0.120795</td>\n",
              "      <td>0.044566</td>\n",
              "      <td>0.069340</td>\n",
              "      <td>0.023225</td>\n",
              "      <td>0.015930</td>\n",
              "      <td>0.000000</td>\n",
              "    </tr>\n",
              "    <tr>\n",
              "      <th>50%</th>\n",
              "      <td>0.066667</td>\n",
              "      <td>0.005879</td>\n",
              "      <td>0.006018</td>\n",
              "      <td>0.007445</td>\n",
              "      <td>0.000000</td>\n",
              "      <td>0.052796</td>\n",
              "      <td>0.006202</td>\n",
              "      <td>0.000000</td>\n",
              "      <td>0.208510</td>\n",
              "      <td>0.000000</td>\n",
              "      <td>0.760101</td>\n",
              "      <td>0.584455</td>\n",
              "      <td>0.000000</td>\n",
              "      <td>0.146040</td>\n",
              "      <td>0.048297</td>\n",
              "      <td>0.008197</td>\n",
              "      <td>0.045856</td>\n",
              "      <td>0.125172</td>\n",
              "      <td>0.064989</td>\n",
              "      <td>0.079157</td>\n",
              "      <td>0.070607</td>\n",
              "      <td>0.050972</td>\n",
              "      <td>0.000000</td>\n",
              "    </tr>\n",
              "    <tr>\n",
              "      <th>75%</th>\n",
              "      <td>0.133333</td>\n",
              "      <td>0.013189</td>\n",
              "      <td>0.019057</td>\n",
              "      <td>0.017466</td>\n",
              "      <td>0.000000</td>\n",
              "      <td>0.056713</td>\n",
              "      <td>0.015903</td>\n",
              "      <td>0.500000</td>\n",
              "      <td>0.209341</td>\n",
              "      <td>0.006316</td>\n",
              "      <td>0.760663</td>\n",
              "      <td>0.584714</td>\n",
              "      <td>0.000000</td>\n",
              "      <td>0.254851</td>\n",
              "      <td>0.052081</td>\n",
              "      <td>0.020788</td>\n",
              "      <td>0.129144</td>\n",
              "      <td>0.145260</td>\n",
              "      <td>0.101217</td>\n",
              "      <td>0.098514</td>\n",
              "      <td>0.112944</td>\n",
              "      <td>0.088905</td>\n",
              "      <td>0.000000</td>\n",
              "    </tr>\n",
              "    <tr>\n",
              "      <th>max</th>\n",
              "      <td>1.000000</td>\n",
              "      <td>1.000000</td>\n",
              "      <td>1.000000</td>\n",
              "      <td>1.000000</td>\n",
              "      <td>1.000000</td>\n",
              "      <td>1.000000</td>\n",
              "      <td>1.000000</td>\n",
              "      <td>1.000000</td>\n",
              "      <td>1.000000</td>\n",
              "      <td>1.000000</td>\n",
              "      <td>1.000000</td>\n",
              "      <td>1.000000</td>\n",
              "      <td>1.000000</td>\n",
              "      <td>1.000000</td>\n",
              "      <td>1.000000</td>\n",
              "      <td>1.000000</td>\n",
              "      <td>1.000000</td>\n",
              "      <td>1.000000</td>\n",
              "      <td>1.000000</td>\n",
              "      <td>1.000000</td>\n",
              "      <td>1.000000</td>\n",
              "      <td>1.000000</td>\n",
              "      <td>1.000000</td>\n",
              "    </tr>\n",
              "  </tbody>\n",
              "</table>\n",
              "</div>"
            ],
            "text/plain": [
              "       jumlah_kartu   outstanding  ...  utilisasi_6bulan        target\n",
              "count  12395.000000  12395.000000  ...      12395.000000  12395.000000\n",
              "mean       0.100261      0.014449  ...          0.054911      0.090359\n",
              "std        0.067957      0.030654  ...          0.044964      0.286707\n",
              "min        0.000000      0.000000  ...          0.000000      0.000000\n",
              "25%        0.066667      0.002494  ...          0.015930      0.000000\n",
              "50%        0.066667      0.005879  ...          0.050972      0.000000\n",
              "75%        0.133333      0.013189  ...          0.088905      0.000000\n",
              "max        1.000000      1.000000  ...          1.000000      1.000000\n",
              "\n",
              "[8 rows x 23 columns]"
            ]
          },
          "metadata": {
            "tags": []
          },
          "execution_count": 27
        }
      ]
    },
    {
      "cell_type": "code",
      "metadata": {
        "colab": {
          "base_uri": "https://localhost:8080/"
        },
        "id": "t6E4R8MSDJc0",
        "outputId": "b8fe331f-6fdb-4a5e-b79f-809c5237b575"
      },
      "source": [
        "df.shape"
      ],
      "execution_count": null,
      "outputs": [
        {
          "output_type": "execute_result",
          "data": {
            "text/plain": [
              "(12395, 23)"
            ]
          },
          "metadata": {
            "tags": []
          },
          "execution_count": 28
        }
      ]
    },
    {
      "cell_type": "markdown",
      "metadata": {
        "id": "TFb0alArFVkU"
      },
      "source": [
        "## Penyederhanaan Nama"
      ]
    },
    {
      "cell_type": "code",
      "metadata": {
        "id": "vqE4eQwlFVX8"
      },
      "source": [
        "df_norm.rename(columns={'jumlah_tahun_sejak_pembukaan_kredit':'tahun_buka',\n",
        "                        'rasio_pembayaran_3bulan':'bayar_3',\n",
        "                        'rasio_pembayaran_6bulan':'bayar_6',\n",
        "                        'pemakaian_3bln_per_limit':'pakai_3',\n",
        "                        'pemakaian_6bln_per_limit':'pakai_6',\n",
        "                        'utilisasi_3bulan':'util_3',\n",
        "                        'utilisasi_6bulan':'util_6'\n",
        "                        }, inplace=True)"
      ],
      "execution_count": null,
      "outputs": []
    },
    {
      "cell_type": "markdown",
      "metadata": {
        "id": "092pZIZRHllL"
      },
      "source": [
        "### Update df_norm yang terbaru"
      ]
    },
    {
      "cell_type": "code",
      "metadata": {
        "colab": {
          "base_uri": "https://localhost:8080/"
        },
        "id": "qjEPqtQ7FUq8",
        "outputId": "4208799d-181c-48f4-d634-b628aae4624a"
      },
      "source": [
        "df_norm.info()"
      ],
      "execution_count": null,
      "outputs": [
        {
          "output_type": "stream",
          "text": [
            "<class 'pandas.core.frame.DataFrame'>\n",
            "RangeIndex: 12395 entries, 0 to 12394\n",
            "Data columns (total 23 columns):\n",
            " #   Column                         Non-Null Count  Dtype  \n",
            "---  ------                         --------------  -----  \n",
            " 0   jumlah_kartu                   12395 non-null  float64\n",
            " 1   outstanding                    12395 non-null  float64\n",
            " 2   limit_kredit                   12395 non-null  float64\n",
            " 3   tagihan                        12395 non-null  float64\n",
            " 4   total_pemakaian_tunai          12395 non-null  float64\n",
            " 5   total_pemakaian_retail         12395 non-null  float64\n",
            " 6   sisa_tagihan_tidak_terbayar    12395 non-null  float64\n",
            " 7   kode_cabang                    12395 non-null  float64\n",
            " 8   rasio_pembayaran               12395 non-null  float64\n",
            " 9   persentasi_overlimit           12395 non-null  float64\n",
            " 10  bayar_3                        12395 non-null  float64\n",
            " 11  bayar_6                        12395 non-null  float64\n",
            " 12  skor_delikuensi                12395 non-null  float64\n",
            " 13  tahun_buka                     12395 non-null  float64\n",
            " 14  total_pemakaian                12395 non-null  float64\n",
            " 15  sisa_tagihan_per_jumlah_kartu  12395 non-null  float64\n",
            " 16  sisa_tagihan_per_limit         12395 non-null  float64\n",
            " 17  total_pemakaian_per_limit      12395 non-null  float64\n",
            " 18  pakai_3                        12395 non-null  float64\n",
            " 19  pakai_6                        12395 non-null  float64\n",
            " 20  util_3                         12395 non-null  float64\n",
            " 21  util_6                         12395 non-null  float64\n",
            " 22  target                         12395 non-null  float64\n",
            "dtypes: float64(23)\n",
            "memory usage: 2.2 MB\n"
          ],
          "name": "stdout"
        }
      ]
    },
    {
      "cell_type": "markdown",
      "metadata": {
        "id": "nPEPoFcWa5NM"
      },
      "source": [
        "### Plot tabel sns"
      ]
    },
    {
      "cell_type": "code",
      "metadata": {
        "colab": {
          "base_uri": "https://localhost:8080/",
          "height": 298
        },
        "id": "eoxzbHfta42Y",
        "outputId": "525fab8b-f844-4943-893d-9a3563042dc3"
      },
      "source": [
        "sns.boxplot(x='jumlah_kartu', y='limit_kredit',data=df_norm)"
      ],
      "execution_count": null,
      "outputs": [
        {
          "output_type": "execute_result",
          "data": {
            "text/plain": [
              "<matplotlib.axes._subplots.AxesSubplot at 0x7f1e26685ed0>"
            ]
          },
          "metadata": {
            "tags": []
          },
          "execution_count": 31
        },
        {
          "output_type": "display_data",
          "data": {
            "image/png": "[encoded data removed]",
            "text/plain": [
              "<Figure size 432x288 with 1 Axes>"
            ]
          },
          "metadata": {
            "tags": [],
            "needs_background": "light"
          }
        }
      ]
    },
    {
      "cell_type": "markdown",
      "metadata": {
        "id": "eHXLuCi-DwLv"
      },
      "source": [
        "## EDA - Kontinue"
      ]
    },
    {
      "cell_type": "code",
      "metadata": {
        "colab": {
          "base_uri": "https://localhost:8080/",
          "height": 336
        },
        "id": "b7NmdUUaDh_0",
        "outputId": "1d86f940-2a1c-4b14-ecff-e589f2f80261"
      },
      "source": [
        "plt.figure(figsize=(10,5))\n",
        "plt.subplot(121)\n",
        "df_norm['tahun_buka'].plot.hist(bins=50, title='Tahun Pembukaan')\n",
        "plt.subplot(122)\n",
        "df_norm['limit_kredit'].plot.hist(bins=50, title=\"Batas Kredit\")\n",
        "plt.show()"
      ],
      "execution_count": null,
      "outputs": [
        {
          "output_type": "display_data",
          "data": {
            "image/png": "[encoded data removed]",
            "text/plain": [
              "<Figure size 720x360 with 2 Axes>"
            ]
          },
          "metadata": {
            "tags": [],
            "needs_background": "light"
          }
        }
      ]
    },
    {
      "cell_type": "code",
      "metadata": {
        "colab": {
          "base_uri": "https://localhost:8080/",
          "height": 499
        },
        "id": "DMBArzIgDsd0",
        "outputId": "e496c533-ea25-4085-a2ad-412617c5b530"
      },
      "source": [
        "plt.figure(figsize=(15,8))\n",
        "plt.subplot(131)\n",
        "df_norm['pakai_3'].plot.hist(bins=50, title='Pakai 3 Bulan')\n",
        "plt.subplot(132)\n",
        "df_norm['bayar_3'].plot.hist(bins=50, title='Bayar 3 Bulan')\n",
        "plt.subplot(133)\n",
        "df_norm['util_3'].plot.hist(bins=50, title='Util 3 Bulan')\n",
        "plt.show()"
      ],
      "execution_count": null,
      "outputs": [
        {
          "output_type": "display_data",
          "data": {
            "image/png": "[encoded data removed]",
            "text/plain": [
              "<Figure size 1080x576 with 3 Axes>"
            ]
          },
          "metadata": {
            "tags": [],
            "needs_background": "light"
          }
        }
      ]
    },
    {
      "cell_type": "code",
      "metadata": {
        "colab": {
          "base_uri": "https://localhost:8080/",
          "height": 974
        },
        "id": "Cr3FJdwPjBkd",
        "outputId": "16eaf87b-4feb-45a2-f268-942a5af18a96"
      },
      "source": [
        "plt.figure(figsize=(12,5))\n",
        "plt.subplot(121)\n",
        "df_norm['pakai_3'].apply(np.cbrt).plot.hist(bins=15, title='Pakai 3 Bulan')\n",
        "plt.subplot(122)\n",
        "df_norm['pakai_6'].apply(np.cbrt).plot.hist(bins=15, title='Pakai 6 Bulan')\n",
        "plt.show()\n",
        "\n",
        "plt.figure(figsize=(12,5))\n",
        "plt.subplot(121)\n",
        "df_norm['bayar_3'].apply(np.cbrt).plot.hist(bins=15, title='Bayar 3 Bulan')\n",
        "plt.subplot(122)\n",
        "df_norm['bayar_6'].apply(np.cbrt).plot.hist(bins=15, title='Bayar 6 Bulan')\n",
        "plt.show()\n",
        "\n",
        "plt.figure(figsize=(12,5))\n",
        "plt.subplot(121)\n",
        "df_norm['util_3'].apply(np.cbrt).plot.hist(bins=15, title='Util 3 Bulan')\n",
        "plt.subplot(122)\n",
        "df_norm['util_6'].apply(np.cbrt).plot.hist(bins=15, title='Util 6 Bulan')\n",
        "plt.show()"
      ],
      "execution_count": null,
      "outputs": [
        {
          "output_type": "display_data",
          "data": {
            "image/png": "[encoded data removed]",
            "text/plain": [
              "<Figure size 864x360 with 2 Axes>"
            ]
          },
          "metadata": {
            "tags": [],
            "needs_background": "light"
          }
        },
        {
          "output_type": "display_data",
          "data": {
            "image/png": "[encoded data removed]",
            "text/plain": [
              "<Figure size 864x360 with 2 Axes>"
            ]
          },
          "metadata": {
            "tags": [],
            "needs_background": "light"
          }
        },
        {
          "output_type": "display_data",
          "data": {
            "image/png": "[encoded data removed]",
            "text/plain": [
              "<Figure size 864x360 with 2 Axes>"
            ]
          },
          "metadata": {
            "tags": [],
            "needs_background": "light"
          }
        }
      ]
    },
    {
      "cell_type": "code",
      "metadata": {
        "colab": {
          "base_uri": "https://localhost:8080/",
          "height": 321
        },
        "id": "QVl01EDjkIs7",
        "outputId": "392a9a35-a9ed-4bda-ac38-1328b63be506"
      },
      "source": [
        "numvar_list = ['tahun_buka', 'limit_kredit', 'pakai_3', 'pakai_6', 'bayar_3', 'bayar_6', 'util_3', 'util_6']\n",
        "dfnum = df_norm[df_norm.columns[df_norm.columns.isin(numvar_list)]]\n",
        "plt.figure(figsize=(10,5))\n",
        "dfnum.boxplot(sym='r*', grid=False)\n",
        "plt.show()"
      ],
      "execution_count": null,
      "outputs": [
        {
          "output_type": "display_data",
          "data": {
            "image/png": "[encoded data removed]",
            "text/plain": [
              "<Figure size 720x360 with 1 Axes>"
            ]
          },
          "metadata": {
            "tags": [],
            "needs_background": "light"
          }
        }
      ]
    },
    {
      "cell_type": "markdown",
      "metadata": {
        "id": "JbMKnkySlbg4"
      },
      "source": [
        "## Multivar Exploratory"
      ]
    },
    {
      "cell_type": "code",
      "metadata": {
        "colab": {
          "base_uri": "https://localhost:8080/",
          "height": 344
        },
        "id": "mmbdnlQKk_zb",
        "outputId": "e5b7dd76-91a3-48bd-ea5b-852d05d44834"
      },
      "source": [
        "import seaborn as sns\n",
        "\n",
        "plt.figure(figsize=(15,5))\n",
        "plt.subplot(121)\n",
        "\n",
        "sns.boxplot(x='target', y='limit_kredit',\n",
        "            palette=['m', 'g'],\n",
        "            data=df_norm)\n",
        "sns.despine(offset=10, trim=True)\n",
        "\n",
        "\n",
        "plt.subplot(122)\n",
        "\n",
        "sns.boxplot(x='target', y='tahun_buka',\n",
        "            palette=['m', 'g'],\n",
        "            data=df_norm)\n",
        "sns.despine(offset=10, trim=True)\n",
        "\n",
        "plt.show()"
      ],
      "execution_count": null,
      "outputs": [
        {
          "output_type": "display_data",
          "data": {
            "image/png": "[encoded data removed]",
            "text/plain": [
              "<Figure size 1080x360 with 2 Axes>"
            ]
          },
          "metadata": {
            "tags": [],
            "needs_background": "light"
          }
        }
      ]
    },
    {
      "cell_type": "markdown",
      "metadata": {
        "id": "8S84YZ1jmi2B"
      },
      "source": [
        "## EDA Kategorik"
      ]
    },
    {
      "cell_type": "code",
      "metadata": {
        "colab": {
          "base_uri": "https://localhost:8080/",
          "height": 320
        },
        "id": "ARwCFxcSnqP6",
        "outputId": "4557f85c-3090-4935-cc65-d2a3d3804b8b"
      },
      "source": [
        "df_norm.describe()"
      ],
      "execution_count": null,
      "outputs": [
        {
          "output_type": "execute_result",
          "data": {
            "text/html": [
              "<div>\n",
              "<style scoped>\n",
              "    .dataframe tbody tr th:only-of-type {\n",
              "        vertical-align: middle;\n",
              "    }\n",
              "\n",
              "    .dataframe tbody tr th {\n",
              "        vertical-align: top;\n",
              "    }\n",
              "\n",
              "    .dataframe thead th {\n",
              "        text-align: right;\n",
              "    }\n",
              "</style>\n",
              "<table border=\"1\" class=\"dataframe\">\n",
              "  <thead>\n",
              "    <tr style=\"text-align: right;\">\n",
              "      <th></th>\n",
              "      <th>jumlah_kartu</th>\n",
              "      <th>outstanding</th>\n",
              "      <th>limit_kredit</th>\n",
              "      <th>tagihan</th>\n",
              "      <th>total_pemakaian_tunai</th>\n",
              "      <th>total_pemakaian_retail</th>\n",
              "      <th>sisa_tagihan_tidak_terbayar</th>\n",
              "      <th>kode_cabang</th>\n",
              "      <th>rasio_pembayaran</th>\n",
              "      <th>persentasi_overlimit</th>\n",
              "      <th>bayar_3</th>\n",
              "      <th>bayar_6</th>\n",
              "      <th>skor_delikuensi</th>\n",
              "      <th>tahun_buka</th>\n",
              "      <th>total_pemakaian</th>\n",
              "      <th>sisa_tagihan_per_jumlah_kartu</th>\n",
              "      <th>sisa_tagihan_per_limit</th>\n",
              "      <th>total_pemakaian_per_limit</th>\n",
              "      <th>pakai_3</th>\n",
              "      <th>pakai_6</th>\n",
              "      <th>util_3</th>\n",
              "      <th>util_6</th>\n",
              "      <th>target</th>\n",
              "    </tr>\n",
              "  </thead>\n",
              "  <tbody>\n",
              "    <tr>\n",
              "      <th>count</th>\n",
              "      <td>12395.000000</td>\n",
              "      <td>12395.000000</td>\n",
              "      <td>12395.000000</td>\n",
              "      <td>12395.000000</td>\n",
              "      <td>12395.000000</td>\n",
              "      <td>12395.000000</td>\n",
              "      <td>12395.000000</td>\n",
              "      <td>12395.000000</td>\n",
              "      <td>12395.000000</td>\n",
              "      <td>12395.000000</td>\n",
              "      <td>12395.000000</td>\n",
              "      <td>12395.000000</td>\n",
              "      <td>12395.000000</td>\n",
              "      <td>12395.000000</td>\n",
              "      <td>12395.000000</td>\n",
              "      <td>12395.000000</td>\n",
              "      <td>12395.000000</td>\n",
              "      <td>12395.000000</td>\n",
              "      <td>12395.000000</td>\n",
              "      <td>12395.000000</td>\n",
              "      <td>12395.000000</td>\n",
              "      <td>12395.000000</td>\n",
              "      <td>12395.000000</td>\n",
              "    </tr>\n",
              "    <tr>\n",
              "      <th>mean</th>\n",
              "      <td>0.100261</td>\n",
              "      <td>0.014449</td>\n",
              "      <td>0.017779</td>\n",
              "      <td>0.019109</td>\n",
              "      <td>0.002690</td>\n",
              "      <td>0.058919</td>\n",
              "      <td>0.018141</td>\n",
              "      <td>0.211747</td>\n",
              "      <td>0.208962</td>\n",
              "      <td>0.017760</td>\n",
              "      <td>0.759998</td>\n",
              "      <td>0.584582</td>\n",
              "      <td>0.000968</td>\n",
              "      <td>0.174931</td>\n",
              "      <td>0.053971</td>\n",
              "      <td>0.019865</td>\n",
              "      <td>0.064770</td>\n",
              "      <td>0.141780</td>\n",
              "      <td>0.081354</td>\n",
              "      <td>0.089003</td>\n",
              "      <td>0.070257</td>\n",
              "      <td>0.054911</td>\n",
              "      <td>0.090359</td>\n",
              "    </tr>\n",
              "    <tr>\n",
              "      <th>std</th>\n",
              "      <td>0.067957</td>\n",
              "      <td>0.030654</td>\n",
              "      <td>0.029184</td>\n",
              "      <td>0.041214</td>\n",
              "      <td>0.022438</td>\n",
              "      <td>0.026798</td>\n",
              "      <td>0.043796</td>\n",
              "      <td>0.299269</td>\n",
              "      <td>0.010084</td>\n",
              "      <td>0.048109</td>\n",
              "      <td>0.015702</td>\n",
              "      <td>0.010306</td>\n",
              "      <td>0.022417</td>\n",
              "      <td>0.138888</td>\n",
              "      <td>0.025045</td>\n",
              "      <td>0.042477</td>\n",
              "      <td>0.065661</td>\n",
              "      <td>0.038301</td>\n",
              "      <td>0.053180</td>\n",
              "      <td>0.032064</td>\n",
              "      <td>0.051002</td>\n",
              "      <td>0.044964</td>\n",
              "      <td>0.286707</td>\n",
              "    </tr>\n",
              "    <tr>\n",
              "      <th>min</th>\n",
              "      <td>0.000000</td>\n",
              "      <td>0.000000</td>\n",
              "      <td>0.000000</td>\n",
              "      <td>0.000000</td>\n",
              "      <td>0.000000</td>\n",
              "      <td>0.000000</td>\n",
              "      <td>0.000000</td>\n",
              "      <td>0.000000</td>\n",
              "      <td>0.000000</td>\n",
              "      <td>0.000000</td>\n",
              "      <td>0.000000</td>\n",
              "      <td>0.000000</td>\n",
              "      <td>0.000000</td>\n",
              "      <td>0.000000</td>\n",
              "      <td>0.000000</td>\n",
              "      <td>0.000000</td>\n",
              "      <td>0.000000</td>\n",
              "      <td>0.000000</td>\n",
              "      <td>0.000000</td>\n",
              "      <td>0.000000</td>\n",
              "      <td>0.000000</td>\n",
              "      <td>0.000000</td>\n",
              "      <td>0.000000</td>\n",
              "    </tr>\n",
              "    <tr>\n",
              "      <th>25%</th>\n",
              "      <td>0.066667</td>\n",
              "      <td>0.002494</td>\n",
              "      <td>0.002006</td>\n",
              "      <td>0.001888</td>\n",
              "      <td>0.000000</td>\n",
              "      <td>0.052108</td>\n",
              "      <td>0.000000</td>\n",
              "      <td>0.000000</td>\n",
              "      <td>0.208193</td>\n",
              "      <td>0.000000</td>\n",
              "      <td>0.759712</td>\n",
              "      <td>0.584120</td>\n",
              "      <td>0.000000</td>\n",
              "      <td>0.064455</td>\n",
              "      <td>0.047524</td>\n",
              "      <td>0.000000</td>\n",
              "      <td>0.000000</td>\n",
              "      <td>0.120795</td>\n",
              "      <td>0.044566</td>\n",
              "      <td>0.069340</td>\n",
              "      <td>0.023225</td>\n",
              "      <td>0.015930</td>\n",
              "      <td>0.000000</td>\n",
              "    </tr>\n",
              "    <tr>\n",
              "      <th>50%</th>\n",
              "      <td>0.066667</td>\n",
              "      <td>0.005879</td>\n",
              "      <td>0.006018</td>\n",
              "      <td>0.007445</td>\n",
              "      <td>0.000000</td>\n",
              "      <td>0.052796</td>\n",
              "      <td>0.006202</td>\n",
              "      <td>0.000000</td>\n",
              "      <td>0.208510</td>\n",
              "      <td>0.000000</td>\n",
              "      <td>0.760101</td>\n",
              "      <td>0.584455</td>\n",
              "      <td>0.000000</td>\n",
              "      <td>0.146040</td>\n",
              "      <td>0.048297</td>\n",
              "      <td>0.008197</td>\n",
              "      <td>0.045856</td>\n",
              "      <td>0.125172</td>\n",
              "      <td>0.064989</td>\n",
              "      <td>0.079157</td>\n",
              "      <td>0.070607</td>\n",
              "      <td>0.050972</td>\n",
              "      <td>0.000000</td>\n",
              "    </tr>\n",
              "    <tr>\n",
              "      <th>75%</th>\n",
              "      <td>0.133333</td>\n",
              "      <td>0.013189</td>\n",
              "      <td>0.019057</td>\n",
              "      <td>0.017466</td>\n",
              "      <td>0.000000</td>\n",
              "      <td>0.056713</td>\n",
              "      <td>0.015903</td>\n",
              "      <td>0.500000</td>\n",
              "      <td>0.209341</td>\n",
              "      <td>0.006316</td>\n",
              "      <td>0.760663</td>\n",
              "      <td>0.584714</td>\n",
              "      <td>0.000000</td>\n",
              "      <td>0.254851</td>\n",
              "      <td>0.052081</td>\n",
              "      <td>0.020788</td>\n",
              "      <td>0.129144</td>\n",
              "      <td>0.145260</td>\n",
              "      <td>0.101217</td>\n",
              "      <td>0.098514</td>\n",
              "      <td>0.112944</td>\n",
              "      <td>0.088905</td>\n",
              "      <td>0.000000</td>\n",
              "    </tr>\n",
              "    <tr>\n",
              "      <th>max</th>\n",
              "      <td>1.000000</td>\n",
              "      <td>1.000000</td>\n",
              "      <td>1.000000</td>\n",
              "      <td>1.000000</td>\n",
              "      <td>1.000000</td>\n",
              "      <td>1.000000</td>\n",
              "      <td>1.000000</td>\n",
              "      <td>1.000000</td>\n",
              "      <td>1.000000</td>\n",
              "      <td>1.000000</td>\n",
              "      <td>1.000000</td>\n",
              "      <td>1.000000</td>\n",
              "      <td>1.000000</td>\n",
              "      <td>1.000000</td>\n",
              "      <td>1.000000</td>\n",
              "      <td>1.000000</td>\n",
              "      <td>1.000000</td>\n",
              "      <td>1.000000</td>\n",
              "      <td>1.000000</td>\n",
              "      <td>1.000000</td>\n",
              "      <td>1.000000</td>\n",
              "      <td>1.000000</td>\n",
              "      <td>1.000000</td>\n",
              "    </tr>\n",
              "  </tbody>\n",
              "</table>\n",
              "</div>"
            ],
            "text/plain": [
              "       jumlah_kartu   outstanding  ...        util_6        target\n",
              "count  12395.000000  12395.000000  ...  12395.000000  12395.000000\n",
              "mean       0.100261      0.014449  ...      0.054911      0.090359\n",
              "std        0.067957      0.030654  ...      0.044964      0.286707\n",
              "min        0.000000      0.000000  ...      0.000000      0.000000\n",
              "25%        0.066667      0.002494  ...      0.015930      0.000000\n",
              "50%        0.066667      0.005879  ...      0.050972      0.000000\n",
              "75%        0.133333      0.013189  ...      0.088905      0.000000\n",
              "max        1.000000      1.000000  ...      1.000000      1.000000\n",
              "\n",
              "[8 rows x 23 columns]"
            ]
          },
          "metadata": {
            "tags": []
          },
          "execution_count": 37
        }
      ]
    },
    {
      "cell_type": "code",
      "metadata": {
        "colab": {
          "base_uri": "https://localhost:8080/",
          "height": 353
        },
        "id": "QtmiszE-mFNr",
        "outputId": "8e7bf99b-f170-4c10-bd06-42e8cac4841d"
      },
      "source": [
        "plt.figure(figsize=(14,5))\n",
        "plt.subplot(121)\n",
        "sns.countplot(x='jumlah_kartu', data=df_norm, hue='target', palette='muted')\n",
        "plt.subplot(122)\n",
        "sns.countplot(x='skor_delikuensi', data=df_norm, hue='target', palette='muted')"
      ],
      "execution_count": null,
      "outputs": [
        {
          "output_type": "execute_result",
          "data": {
            "text/plain": [
              "<matplotlib.axes._subplots.AxesSubplot at 0x7f1e25c93c50>"
            ]
          },
          "metadata": {
            "tags": []
          },
          "execution_count": 38
        },
        {
          "output_type": "display_data",
          "data": {
            "image/png": "[encoded data removed]",
            "text/plain": [
              "<Figure size 1008x360 with 2 Axes>"
            ]
          },
          "metadata": {
            "tags": [],
            "needs_background": "light"
          }
        }
      ]
    },
    {
      "cell_type": "code",
      "metadata": {
        "colab": {
          "base_uri": "https://localhost:8080/",
          "height": 271
        },
        "id": "XWr5ZXqYoDBj",
        "outputId": "bd2d2f48-7397-48c7-ef05-07866c654812"
      },
      "source": [
        "plt.figure(figsize=(16,4))\n",
        "plt.subplot(161)\n",
        "sns.countplot(x='pakai_3', data=df_norm, hue='target', palette='muted')\n",
        "\n",
        "plt.subplot(162)\n",
        "sns.countplot(x='pakai_6', data=df_norm, hue='target', palette='muted')\n",
        "\n",
        "plt.subplot(163)\n",
        "sns.countplot(x='bayar_3', data=df_norm, hue='target', palette='muted')\n",
        "\n",
        "plt.subplot(164)\n",
        "sns.countplot(x='pakai_6', data=df_norm, hue='target', palette='muted')\n",
        "\n",
        "plt.subplot(165)\n",
        "sns.countplot(x='util_3', data=df_norm, hue='target', palette='muted')\n",
        "\n",
        "plt.subplot(166)\n",
        "sns.countplot(x='util_6', data=df_norm, hue='target', palette='muted')"
      ],
      "execution_count": null,
      "outputs": [
        {
          "output_type": "execute_result",
          "data": {
            "text/plain": [
              "<matplotlib.axes._subplots.AxesSubplot at 0x7f1e0ef31a50>"
            ]
          },
          "metadata": {
            "tags": []
          },
          "execution_count": 39
        },
        {
          "output_type": "display_data",
          "data": {
            "image/png": "[encoded data removed]",
            "text/plain": [
              "<Figure size 1152x288 with 6 Axes>"
            ]
          },
          "metadata": {
            "tags": [],
            "needs_background": "light"
          }
        }
      ]
    },
    {
      "cell_type": "markdown",
      "metadata": {
        "id": "1CTCfoOMotoH"
      },
      "source": [
        "## Feature Engineering"
      ]
    },
    {
      "cell_type": "code",
      "metadata": {
        "id": "RHo7X_ROolgK"
      },
      "source": [
        "X = df_norm.drop(['target'],axis=1)\n",
        "Y = df_norm['target']"
      ],
      "execution_count": null,
      "outputs": []
    },
    {
      "cell_type": "code",
      "metadata": {
        "colab": {
          "base_uri": "https://localhost:8080/",
          "height": 655
        },
        "id": "I_4idcVEo-xq",
        "outputId": "c00233bd-cec9-4d23-ab8d-39e6b38244b6"
      },
      "source": [
        "X['limit_kredit'] = np.cbrt(df_norm.limit_kredit)\n",
        "X['tahun_buka'] = np.cbrt(df_norm['tahun_buka'])\n",
        "\n",
        "plt.figure(figsize=(10,5))\n",
        "plt.subplot(121)\n",
        "df_norm['limit_kredit'].plot.hist(bins=10, title='limit_kredit before')\n",
        "plt.subplot(122)\n",
        "X['limit_kredit'].plot.hist(bins=10, title='limit_kredit after')\n",
        "plt.show()\n",
        "\n",
        "plt.figure(figsize=(10,5))\n",
        "plt.subplot(121)\n",
        "df_norm['tahun_buka'].plot.hist(bins=10, title='tahun_buka before')\n",
        "plt.subplot(122)\n",
        "X['tahun_buka'].plot.hist(bins=10, title='tahun_buka after')\n",
        "plt.show()"
      ],
      "execution_count": null,
      "outputs": [
        {
          "output_type": "display_data",
          "data": {
            "image/png": "[encoded data removed]",
            "text/plain": [
              "<Figure size 720x360 with 2 Axes>"
            ]
          },
          "metadata": {
            "tags": [],
            "needs_background": "light"
          }
        },
        {
          "output_type": "display_data",
          "data": {
            "image/png": "[encoded data removed]",
            "text/plain": [
              "<Figure size 720x360 with 2 Axes>"
            ]
          },
          "metadata": {
            "tags": [],
            "needs_background": "light"
          }
        }
      ]
    },
    {
      "cell_type": "code",
      "metadata": {
        "id": "v1Hm7ObpqSVS"
      },
      "source": [
        "# Transform cbrt\n",
        "X['pakai_3'] = np.cbrt(df_norm['pakai_3'])\n",
        "X['pakai_6'] = np.cbrt(df_norm['pakai_6'])\n",
        "X['bayar_3'] = np.cbrt(df_norm['bayar_3'])\n",
        "X['bayar_6'] = np.cbrt(df_norm['bayar_6'])\n",
        "X['util_3'] = np.cbrt(df_norm['util_3'])\n",
        "X['util_6'] = np.cbrt(df_norm['util_6'])"
      ],
      "execution_count": null,
      "outputs": []
    },
    {
      "cell_type": "code",
      "metadata": {
        "colab": {
          "base_uri": "https://localhost:8080/",
          "height": 336
        },
        "id": "F-dyoxaSr21Z",
        "outputId": "2786351f-c62d-4c2d-ab69-19857bc12c2d"
      },
      "source": [
        "plt.figure(figsize=(10,5))\n",
        "plt.subplot(121)\n",
        "df_norm['tahun_buka'].plot.hist(bins=10, title='tahun buka sebelum')\n",
        "plt.subplot(122)\n",
        "X['tahun_buka'].plot.hist(bins=10, title='tahun buka setelah')\n",
        "plt.show()"
      ],
      "execution_count": null,
      "outputs": [
        {
          "output_type": "display_data",
          "data": {
            "image/png": "[encoded data removed]",
            "text/plain": [
              "<Figure size 720x360 with 2 Axes>"
            ]
          },
          "metadata": {
            "tags": [],
            "needs_background": "light"
          }
        }
      ]
    },
    {
      "cell_type": "code",
      "metadata": {
        "colab": {
          "base_uri": "https://localhost:8080/"
        },
        "id": "to1OuAe6sbiC",
        "outputId": "b233f399-1c16-472c-80e6-22952130d1cc"
      },
      "source": [
        "X.jumlah_kartu.value_counts()"
      ],
      "execution_count": null,
      "outputs": [
        {
          "output_type": "execute_result",
          "data": {
            "text/plain": [
              "0.066667    8614\n",
              "0.133333    2220\n",
              "0.200000     894\n",
              "0.266667     354\n",
              "0.333333     126\n",
              "0.000000      67\n",
              "0.400000      64\n",
              "0.466667      25\n",
              "0.533333      12\n",
              "0.600000       6\n",
              "0.666667       6\n",
              "0.800000       2\n",
              "0.733333       2\n",
              "1.000000       2\n",
              "0.933333       1\n",
              "Name: jumlah_kartu, dtype: int64"
            ]
          },
          "metadata": {
            "tags": []
          },
          "execution_count": 44
        }
      ]
    },
    {
      "cell_type": "code",
      "metadata": {
        "colab": {
          "base_uri": "https://localhost:8080/"
        },
        "id": "FBLFMMpdsmwS",
        "outputId": "4dbe707d-77c6-4392-c408-cf8997d668ca"
      },
      "source": [
        "fill = (X.jumlah_kartu >= 0.1)\n",
        "fills = (X.jumlah_kartu <= 0.1)\n",
        "\n",
        "X.loc[fill,'jumlah_kartu']=0.133333\n",
        "X.loc[fills,'jumlah_kartu']=0.066667\n",
        "\n",
        "X.jumlah_kartu.value_counts()"
      ],
      "execution_count": null,
      "outputs": [
        {
          "output_type": "execute_result",
          "data": {
            "text/plain": [
              "0.066667    8681\n",
              "0.133333    3714\n",
              "Name: jumlah_kartu, dtype: int64"
            ]
          },
          "metadata": {
            "tags": []
          },
          "execution_count": 45
        }
      ]
    },
    {
      "cell_type": "code",
      "metadata": {
        "colab": {
          "base_uri": "https://localhost:8080/"
        },
        "id": "JQM0UEXStTry",
        "outputId": "29ff408a-ef21-4af9-c47a-c2370f1c9597"
      },
      "source": [
        "X.skor_delikuensi.value_counts()"
      ],
      "execution_count": null,
      "outputs": [
        {
          "output_type": "execute_result",
          "data": {
            "text/plain": [
              "0.0    12360\n",
              "0.2       24\n",
              "0.4        4\n",
              "0.8        3\n",
              "0.6        2\n",
              "1.0        2\n",
              "Name: skor_delikuensi, dtype: int64"
            ]
          },
          "metadata": {
            "tags": []
          },
          "execution_count": 46
        }
      ]
    },
    {
      "cell_type": "markdown",
      "metadata": {
        "id": "q6jjaVBnuPfF"
      },
      "source": [
        "## OneHot Encoding"
      ]
    },
    {
      "cell_type": "code",
      "metadata": {
        "id": "Q5nwFLw_tkKy",
        "colab": {
          "base_uri": "https://localhost:8080/",
          "height": 226
        },
        "outputId": "84da0778-1a26-4d90-f35a-f6bf792895e0"
      },
      "source": [
        "X['jumlah_kartu'] = X['jumlah_kartu'].astype('category')\n",
        "X['skor_delikuensi'] = X['skor_delikuensi'].astype('category')\n",
        "\n",
        "X = pd.concat([pd.get_dummies(X['jumlah_kartu'], prefix='jumlah_kartu'),\n",
        "               pd.get_dummies(X['skor_delikuensi'], prefix='skor_delikuensi'),\n",
        "               X], axis=1)\n",
        "\n",
        "X.drop(['jumlah_kartu'], axis=1, inplace=True)\n",
        "X.drop(['skor_delikuensi'], axis=1, inplace=True)\n",
        "X.head()"
      ],
      "execution_count": null,
      "outputs": [
        {
          "output_type": "execute_result",
          "data": {
            "text/html": [
              "<div>\n",
              "<style scoped>\n",
              "    .dataframe tbody tr th:only-of-type {\n",
              "        vertical-align: middle;\n",
              "    }\n",
              "\n",
              "    .dataframe tbody tr th {\n",
              "        vertical-align: top;\n",
              "    }\n",
              "\n",
              "    .dataframe thead th {\n",
              "        text-align: right;\n",
              "    }\n",
              "</style>\n",
              "<table border=\"1\" class=\"dataframe\">\n",
              "  <thead>\n",
              "    <tr style=\"text-align: right;\">\n",
              "      <th></th>\n",
              "      <th>jumlah_kartu_0.066667</th>\n",
              "      <th>jumlah_kartu_0.133333</th>\n",
              "      <th>skor_delikuensi_0.0</th>\n",
              "      <th>skor_delikuensi_0.2</th>\n",
              "      <th>skor_delikuensi_0.4</th>\n",
              "      <th>skor_delikuensi_0.6000000000000001</th>\n",
              "      <th>skor_delikuensi_0.8</th>\n",
              "      <th>skor_delikuensi_1.0</th>\n",
              "      <th>outstanding</th>\n",
              "      <th>limit_kredit</th>\n",
              "      <th>tagihan</th>\n",
              "      <th>total_pemakaian_tunai</th>\n",
              "      <th>total_pemakaian_retail</th>\n",
              "      <th>sisa_tagihan_tidak_terbayar</th>\n",
              "      <th>kode_cabang</th>\n",
              "      <th>rasio_pembayaran</th>\n",
              "      <th>persentasi_overlimit</th>\n",
              "      <th>bayar_3</th>\n",
              "      <th>bayar_6</th>\n",
              "      <th>tahun_buka</th>\n",
              "      <th>total_pemakaian</th>\n",
              "      <th>sisa_tagihan_per_jumlah_kartu</th>\n",
              "      <th>sisa_tagihan_per_limit</th>\n",
              "      <th>total_pemakaian_per_limit</th>\n",
              "      <th>pakai_3</th>\n",
              "      <th>pakai_6</th>\n",
              "      <th>util_3</th>\n",
              "      <th>util_6</th>\n",
              "    </tr>\n",
              "  </thead>\n",
              "  <tbody>\n",
              "    <tr>\n",
              "      <th>0</th>\n",
              "      <td>1</td>\n",
              "      <td>0</td>\n",
              "      <td>1</td>\n",
              "      <td>0</td>\n",
              "      <td>0</td>\n",
              "      <td>0</td>\n",
              "      <td>0</td>\n",
              "      <td>0</td>\n",
              "      <td>0.000045</td>\n",
              "      <td>0.158899</td>\n",
              "      <td>0.000008</td>\n",
              "      <td>0.0</td>\n",
              "      <td>0.052108</td>\n",
              "      <td>0.000059</td>\n",
              "      <td>0.8</td>\n",
              "      <td>0.209366</td>\n",
              "      <td>0.0</td>\n",
              "      <td>0.912751</td>\n",
              "      <td>0.836209</td>\n",
              "      <td>0.758072</td>\n",
              "      <td>0.047525</td>\n",
              "      <td>0.000089</td>\n",
              "      <td>0.000519</td>\n",
              "      <td>0.120798</td>\n",
              "      <td>0.336451</td>\n",
              "      <td>0.407389</td>\n",
              "      <td>0.116779</td>\n",
              "      <td>0.131150</td>\n",
              "    </tr>\n",
              "    <tr>\n",
              "      <th>1</th>\n",
              "      <td>1</td>\n",
              "      <td>0</td>\n",
              "      <td>1</td>\n",
              "      <td>0</td>\n",
              "      <td>0</td>\n",
              "      <td>0</td>\n",
              "      <td>0</td>\n",
              "      <td>0</td>\n",
              "      <td>0.000337</td>\n",
              "      <td>0.191485</td>\n",
              "      <td>0.000560</td>\n",
              "      <td>0.0</td>\n",
              "      <td>0.052111</td>\n",
              "      <td>0.000000</td>\n",
              "      <td>0.0</td>\n",
              "      <td>0.208193</td>\n",
              "      <td>0.0</td>\n",
              "      <td>0.912357</td>\n",
              "      <td>0.835847</td>\n",
              "      <td>0.000000</td>\n",
              "      <td>0.047527</td>\n",
              "      <td>0.000000</td>\n",
              "      <td>0.000000</td>\n",
              "      <td>0.120814</td>\n",
              "      <td>0.326623</td>\n",
              "      <td>0.403225</td>\n",
              "      <td>0.078587</td>\n",
              "      <td>0.031357</td>\n",
              "    </tr>\n",
              "    <tr>\n",
              "      <th>2</th>\n",
              "      <td>0</td>\n",
              "      <td>1</td>\n",
              "      <td>1</td>\n",
              "      <td>0</td>\n",
              "      <td>0</td>\n",
              "      <td>0</td>\n",
              "      <td>0</td>\n",
              "      <td>0</td>\n",
              "      <td>0.008482</td>\n",
              "      <td>0.292695</td>\n",
              "      <td>0.009881</td>\n",
              "      <td>0.0</td>\n",
              "      <td>0.052108</td>\n",
              "      <td>0.000000</td>\n",
              "      <td>0.0</td>\n",
              "      <td>0.209341</td>\n",
              "      <td>0.0</td>\n",
              "      <td>0.912883</td>\n",
              "      <td>0.836212</td>\n",
              "      <td>0.667216</td>\n",
              "      <td>0.047524</td>\n",
              "      <td>0.000000</td>\n",
              "      <td>0.000000</td>\n",
              "      <td>0.120795</td>\n",
              "      <td>0.358435</td>\n",
              "      <td>0.414192</td>\n",
              "      <td>0.312976</td>\n",
              "      <td>0.301945</td>\n",
              "    </tr>\n",
              "    <tr>\n",
              "      <th>3</th>\n",
              "      <td>1</td>\n",
              "      <td>0</td>\n",
              "      <td>1</td>\n",
              "      <td>0</td>\n",
              "      <td>0</td>\n",
              "      <td>0</td>\n",
              "      <td>0</td>\n",
              "      <td>0</td>\n",
              "      <td>0.011781</td>\n",
              "      <td>0.191485</td>\n",
              "      <td>0.014510</td>\n",
              "      <td>0.0</td>\n",
              "      <td>0.060977</td>\n",
              "      <td>0.013405</td>\n",
              "      <td>0.0</td>\n",
              "      <td>0.209295</td>\n",
              "      <td>0.0</td>\n",
              "      <td>0.912870</td>\n",
              "      <td>0.836208</td>\n",
              "      <td>0.300841</td>\n",
              "      <td>0.055613</td>\n",
              "      <td>0.020108</td>\n",
              "      <td>0.082208</td>\n",
              "      <td>0.171761</td>\n",
              "      <td>0.498901</td>\n",
              "      <td>0.432092</td>\n",
              "      <td>0.443244</td>\n",
              "      <td>0.325828</td>\n",
              "    </tr>\n",
              "    <tr>\n",
              "      <th>4</th>\n",
              "      <td>1</td>\n",
              "      <td>0</td>\n",
              "      <td>1</td>\n",
              "      <td>0</td>\n",
              "      <td>0</td>\n",
              "      <td>0</td>\n",
              "      <td>0</td>\n",
              "      <td>0</td>\n",
              "      <td>0.007803</td>\n",
              "      <td>0.425858</td>\n",
              "      <td>0.004920</td>\n",
              "      <td>0.0</td>\n",
              "      <td>0.064382</td>\n",
              "      <td>0.010391</td>\n",
              "      <td>0.0</td>\n",
              "      <td>0.208193</td>\n",
              "      <td>0.0</td>\n",
              "      <td>0.912507</td>\n",
              "      <td>0.835999</td>\n",
              "      <td>0.655905</td>\n",
              "      <td>0.058718</td>\n",
              "      <td>0.015586</td>\n",
              "      <td>0.007965</td>\n",
              "      <td>0.129612</td>\n",
              "      <td>0.340844</td>\n",
              "      <td>0.429266</td>\n",
              "      <td>0.168215</td>\n",
              "      <td>0.265386</td>\n",
              "    </tr>\n",
              "  </tbody>\n",
              "</table>\n",
              "</div>"
            ],
            "text/plain": [
              "   jumlah_kartu_0.066667  jumlah_kartu_0.133333  ...    util_3    util_6\n",
              "0                      1                      0  ...  0.116779  0.131150\n",
              "1                      1                      0  ...  0.078587  0.031357\n",
              "2                      0                      1  ...  0.312976  0.301945\n",
              "3                      1                      0  ...  0.443244  0.325828\n",
              "4                      1                      0  ...  0.168215  0.265386\n",
              "\n",
              "[5 rows x 28 columns]"
            ]
          },
          "metadata": {
            "tags": []
          },
          "execution_count": 47
        }
      ]
    },
    {
      "cell_type": "code",
      "metadata": {
        "id": "QC9bDZ_F9ZiT"
      },
      "source": [
        "fill = (X.jumlah_kartu_0.066667)"
      ],
      "execution_count": null,
      "outputs": []
    },
    {
      "cell_type": "code",
      "metadata": {
        "colab": {
          "base_uri": "https://localhost:8080/"
        },
        "id": "07dANOZ2_SVv",
        "outputId": "501120f5-f2a4-4686-a48b-7cd104e8bfcf"
      },
      "source": [
        "X[\"jumlah_kartu_0.066667\"].value_counts()"
      ],
      "execution_count": null,
      "outputs": [
        {
          "output_type": "execute_result",
          "data": {
            "text/plain": [
              "1    8681\n",
              "0    3714\n",
              "Name: jumlah_kartu_0.066667, dtype: int64"
            ]
          },
          "metadata": {
            "tags": []
          },
          "execution_count": 50
        }
      ]
    },
    {
      "cell_type": "code",
      "metadata": {
        "colab": {
          "base_uri": "https://localhost:8080/",
          "height": 795
        },
        "id": "0NIw9NOm_WVv",
        "outputId": "0c4cc475-d9c8-47de-ac43-6d387590036f"
      },
      "source": [
        "correlation = X.corr()\n",
        "plt.subplots(figsize=(30,10))\n",
        "sns.heatmap(correlation, square=True, annot=True, fmt=\".1f\")"
      ],
      "execution_count": null,
      "outputs": [
        {
          "output_type": "execute_result",
          "data": {
            "text/plain": [
              "<matplotlib.axes._subplots.AxesSubplot at 0x7f1df4dead90>"
            ]
          },
          "metadata": {
            "tags": []
          },
          "execution_count": 51
        },
        {
          "output_type": "display_data",
          "data": {
            "image/png": "[encoded data removed]",
            "text/plain": [
              "<Figure size 2160x720 with 2 Axes>"
            ]
          },
          "metadata": {
            "tags": [],
            "needs_background": "light"
          }
        }
      ]
    },
    {
      "cell_type": "markdown",
      "metadata": {
        "id": "796Fswm3G2PO"
      },
      "source": [
        "## Modeling"
      ]
    },
    {
      "cell_type": "code",
      "metadata": {
        "id": "Xav3k9Ai_0wX"
      },
      "source": [
        "from sklearn.model_selection import train_test_split, cross_val_score"
      ],
      "execution_count": null,
      "outputs": []
    },
    {
      "cell_type": "code",
      "metadata": {
        "colab": {
          "base_uri": "https://localhost:8080/"
        },
        "id": "fpCmQdy1AGSm",
        "outputId": "bdea46e5-4db3-458b-adca-e5b01f88e9f7"
      },
      "source": [
        "df_norm.shape"
      ],
      "execution_count": null,
      "outputs": [
        {
          "output_type": "execute_result",
          "data": {
            "text/plain": [
              "(12395, 23)"
            ]
          },
          "metadata": {
            "tags": []
          },
          "execution_count": 53
        }
      ]
    },
    {
      "cell_type": "code",
      "metadata": {
        "colab": {
          "base_uri": "https://localhost:8080/"
        },
        "id": "sVLNVrc7Agev",
        "outputId": "0a47ec8c-59f2-4abf-8854-240924f27e9d"
      },
      "source": [
        "df_norm.info()"
      ],
      "execution_count": null,
      "outputs": [
        {
          "output_type": "stream",
          "text": [
            "<class 'pandas.core.frame.DataFrame'>\n",
            "RangeIndex: 12395 entries, 0 to 12394\n",
            "Data columns (total 23 columns):\n",
            " #   Column                         Non-Null Count  Dtype  \n",
            "---  ------                         --------------  -----  \n",
            " 0   jumlah_kartu                   12395 non-null  float64\n",
            " 1   outstanding                    12395 non-null  float64\n",
            " 2   limit_kredit                   12395 non-null  float64\n",
            " 3   tagihan                        12395 non-null  float64\n",
            " 4   total_pemakaian_tunai          12395 non-null  float64\n",
            " 5   total_pemakaian_retail         12395 non-null  float64\n",
            " 6   sisa_tagihan_tidak_terbayar    12395 non-null  float64\n",
            " 7   kode_cabang                    12395 non-null  float64\n",
            " 8   rasio_pembayaran               12395 non-null  float64\n",
            " 9   persentasi_overlimit           12395 non-null  float64\n",
            " 10  bayar_3                        12395 non-null  float64\n",
            " 11  bayar_6                        12395 non-null  float64\n",
            " 12  skor_delikuensi                12395 non-null  float64\n",
            " 13  tahun_buka                     12395 non-null  float64\n",
            " 14  total_pemakaian                12395 non-null  float64\n",
            " 15  sisa_tagihan_per_jumlah_kartu  12395 non-null  float64\n",
            " 16  sisa_tagihan_per_limit         12395 non-null  float64\n",
            " 17  total_pemakaian_per_limit      12395 non-null  float64\n",
            " 18  pakai_3                        12395 non-null  float64\n",
            " 19  pakai_6                        12395 non-null  float64\n",
            " 20  util_3                         12395 non-null  float64\n",
            " 21  util_6                         12395 non-null  float64\n",
            " 22  target                         12395 non-null  float64\n",
            "dtypes: float64(23)\n",
            "memory usage: 2.2 MB\n"
          ],
          "name": "stdout"
        }
      ]
    },
    {
      "cell_type": "code",
      "metadata": {
        "id": "RiPLrieHAImW"
      },
      "source": [
        "# raw data\n",
        "array = df_norm.values\n",
        "X_raw = array[:,1:22]\n",
        "Y_raw = array[:, 22]"
      ],
      "execution_count": null,
      "outputs": []
    },
    {
      "cell_type": "code",
      "metadata": {
        "colab": {
          "base_uri": "https://localhost:8080/"
        },
        "id": "cjW8hxmWAUY2",
        "outputId": "2ff463fd-3483-46d8-fffd-c7e3c24d8a1f"
      },
      "source": [
        "X_train, X_test, Y_train, Y_test = train_test_split(X_raw, Y_raw, test_size=0.2,\n",
        "                                                    random_state = 111)\n",
        "\n",
        "# Cek Shape\n",
        "print(f\"X_train: {X_train.shape}\")\n",
        "print(f\"X_test: {X_test.shape}\")\n",
        "print(f\"Y_train: {Y_train.shape}\")\n",
        "print(f\"Y_test: {Y_test.shape}\")"
      ],
      "execution_count": null,
      "outputs": [
        {
          "output_type": "stream",
          "text": [
            "X_train: (9916, 21)\n",
            "X_test: (2479, 21)\n",
            "Y_train: (9916,)\n",
            "Y_test: (2479,)\n"
          ],
          "name": "stdout"
        }
      ]
    },
    {
      "cell_type": "code",
      "metadata": {
        "colab": {
          "base_uri": "https://localhost:8080/"
        },
        "id": "dt5BmNtWA9jn",
        "outputId": "adca169b-c3e2-4d29-e213-3091b0af6e8c"
      },
      "source": [
        "a = Y_train.sum()\n",
        "b = Y_test.sum()\n",
        "\n",
        "print(\"train:\", (a/len(Y_train))*100)\n",
        "print(\"test:\", (a/len(Y_test))*100)"
      ],
      "execution_count": null,
      "outputs": [
        {
          "output_type": "stream",
          "text": [
            "train: 9.308188785800727\n",
            "test: 37.23275514320291\n"
          ],
          "name": "stdout"
        }
      ]
    },
    {
      "cell_type": "code",
      "metadata": {
        "id": "XPd87uf_BdAe"
      },
      "source": [
        "from sklearn.linear_model import LogisticRegression\n",
        "from sklearn.tree import DecisionTreeClassifier,export_graphviz\n",
        "from sklearn.metrics import confusion_matrix, classification_report"
      ],
      "execution_count": null,
      "outputs": []
    },
    {
      "cell_type": "code",
      "metadata": {
        "colab": {
          "base_uri": "https://localhost:8080/"
        },
        "id": "M95Sdge4BhTH",
        "outputId": "49f0d4d8-1630-4ef2-ef9b-73650acc89cb"
      },
      "source": [
        "#%% Linear Regression\n",
        "logreg = LogisticRegression(random_state = 123)\n",
        "results = cross_val_score(logreg, X_train, Y_train, cv=10)\n",
        "results.mean()"
      ],
      "execution_count": null,
      "outputs": [
        {
          "output_type": "execute_result",
          "data": {
            "text/plain": [
              "0.9064140775039876"
            ]
          },
          "metadata": {
            "tags": []
          },
          "execution_count": 77
        }
      ]
    },
    {
      "cell_type": "code",
      "metadata": {
        "colab": {
          "base_uri": "https://localhost:8080/"
        },
        "id": "eO7EOjXeBjtn",
        "outputId": "893b96e9-f876-48e1-f767-8fbc839ae74c"
      },
      "source": [
        "#%% Decision Tree\n",
        "dtree = DecisionTreeClassifier(random_state = 123)\n",
        "results = cross_val_score(dtree, X_train, Y_train, cv=10)\n",
        "results.mean()"
      ],
      "execution_count": null,
      "outputs": [
        {
          "output_type": "execute_result",
          "data": {
            "text/plain": [
              "0.8645638366264119"
            ]
          },
          "metadata": {
            "tags": []
          },
          "execution_count": 78
        }
      ]
    },
    {
      "cell_type": "code",
      "metadata": {
        "colab": {
          "base_uri": "https://localhost:8080/"
        },
        "id": "VRaoCVB3Bl3-",
        "outputId": "9f3b3840-2527-4909-b154-11c550f6d015"
      },
      "source": [
        "log = logreg.fit(X_train, Y_train)\n",
        "lrpred = log.predict(X_test)\n",
        "confumat = confusion_matrix(Y_test, lrpred)\n",
        "print(confumat)\n",
        "report = classification_report(Y_test, lrpred)\n",
        "print(report)"
      ],
      "execution_count": null,
      "outputs": [
        {
          "output_type": "stream",
          "text": [
            "[[2280    2]\n",
            " [ 197    0]]\n",
            "              precision    recall  f1-score   support\n",
            "\n",
            "         0.0       0.92      1.00      0.96      2282\n",
            "         1.0       0.00      0.00      0.00       197\n",
            "\n",
            "    accuracy                           0.92      2479\n",
            "   macro avg       0.46      0.50      0.48      2479\n",
            "weighted avg       0.85      0.92      0.88      2479\n",
            "\n"
          ],
          "name": "stdout"
        }
      ]
    },
    {
      "cell_type": "code",
      "metadata": {
        "colab": {
          "base_uri": "https://localhost:8080/"
        },
        "id": "kh4fFs_4BonH",
        "outputId": "0b12d673-50db-4bc7-ba6e-d799a00d0b64"
      },
      "source": [
        "dtree.fit(X_train, Y_train)\n",
        "dtpred = dtree.predict(X_test)\n",
        "confumat = confusion_matrix(Y_test, dtpred)\n",
        "print(confumat)\n",
        "report = classification_report(Y_test, dtpred)\n",
        "print(report)"
      ],
      "execution_count": null,
      "outputs": [
        {
          "output_type": "stream",
          "text": [
            "[[2089  193]\n",
            " [ 126   71]]\n",
            "              precision    recall  f1-score   support\n",
            "\n",
            "         0.0       0.94      0.92      0.93      2282\n",
            "         1.0       0.27      0.36      0.31       197\n",
            "\n",
            "    accuracy                           0.87      2479\n",
            "   macro avg       0.61      0.64      0.62      2479\n",
            "weighted avg       0.89      0.87      0.88      2479\n",
            "\n"
          ],
          "name": "stdout"
        }
      ]
    },
    {
      "cell_type": "markdown",
      "metadata": {
        "id": "-biaM3lcGtxE"
      },
      "source": [
        "## Modeling with FE"
      ]
    },
    {
      "cell_type": "code",
      "metadata": {
        "colab": {
          "base_uri": "https://localhost:8080/",
          "height": 226
        },
        "id": "Xq9HC5ZXBrC3",
        "outputId": "0e0711b2-6ccc-4044-ea6e-d49c9b1d4ea3"
      },
      "source": [
        "X.head()"
      ],
      "execution_count": null,
      "outputs": [
        {
          "output_type": "execute_result",
          "data": {
            "text/html": [
              "<div>\n",
              "<style scoped>\n",
              "    .dataframe tbody tr th:only-of-type {\n",
              "        vertical-align: middle;\n",
              "    }\n",
              "\n",
              "    .dataframe tbody tr th {\n",
              "        vertical-align: top;\n",
              "    }\n",
              "\n",
              "    .dataframe thead th {\n",
              "        text-align: right;\n",
              "    }\n",
              "</style>\n",
              "<table border=\"1\" class=\"dataframe\">\n",
              "  <thead>\n",
              "    <tr style=\"text-align: right;\">\n",
              "      <th></th>\n",
              "      <th>jumlah_kartu_0.066667</th>\n",
              "      <th>jumlah_kartu_0.133333</th>\n",
              "      <th>skor_delikuensi_0.0</th>\n",
              "      <th>skor_delikuensi_0.2</th>\n",
              "      <th>skor_delikuensi_0.4</th>\n",
              "      <th>skor_delikuensi_0.6000000000000001</th>\n",
              "      <th>skor_delikuensi_0.8</th>\n",
              "      <th>skor_delikuensi_1.0</th>\n",
              "      <th>outstanding</th>\n",
              "      <th>limit_kredit</th>\n",
              "      <th>tagihan</th>\n",
              "      <th>total_pemakaian_tunai</th>\n",
              "      <th>total_pemakaian_retail</th>\n",
              "      <th>sisa_tagihan_tidak_terbayar</th>\n",
              "      <th>kode_cabang</th>\n",
              "      <th>rasio_pembayaran</th>\n",
              "      <th>persentasi_overlimit</th>\n",
              "      <th>bayar_3</th>\n",
              "      <th>bayar_6</th>\n",
              "      <th>tahun_buka</th>\n",
              "      <th>total_pemakaian</th>\n",
              "      <th>sisa_tagihan_per_jumlah_kartu</th>\n",
              "      <th>sisa_tagihan_per_limit</th>\n",
              "      <th>total_pemakaian_per_limit</th>\n",
              "      <th>pakai_3</th>\n",
              "      <th>pakai_6</th>\n",
              "      <th>util_3</th>\n",
              "      <th>util_6</th>\n",
              "    </tr>\n",
              "  </thead>\n",
              "  <tbody>\n",
              "    <tr>\n",
              "      <th>0</th>\n",
              "      <td>1</td>\n",
              "      <td>0</td>\n",
              "      <td>1</td>\n",
              "      <td>0</td>\n",
              "      <td>0</td>\n",
              "      <td>0</td>\n",
              "      <td>0</td>\n",
              "      <td>0</td>\n",
              "      <td>0.000045</td>\n",
              "      <td>0.158899</td>\n",
              "      <td>0.000008</td>\n",
              "      <td>0.0</td>\n",
              "      <td>0.052108</td>\n",
              "      <td>0.000059</td>\n",
              "      <td>0.8</td>\n",
              "      <td>0.209366</td>\n",
              "      <td>0.0</td>\n",
              "      <td>0.912751</td>\n",
              "      <td>0.836209</td>\n",
              "      <td>0.758072</td>\n",
              "      <td>0.047525</td>\n",
              "      <td>0.000089</td>\n",
              "      <td>0.000519</td>\n",
              "      <td>0.120798</td>\n",
              "      <td>0.336451</td>\n",
              "      <td>0.407389</td>\n",
              "      <td>0.116779</td>\n",
              "      <td>0.131150</td>\n",
              "    </tr>\n",
              "    <tr>\n",
              "      <th>1</th>\n",
              "      <td>1</td>\n",
              "      <td>0</td>\n",
              "      <td>1</td>\n",
              "      <td>0</td>\n",
              "      <td>0</td>\n",
              "      <td>0</td>\n",
              "      <td>0</td>\n",
              "      <td>0</td>\n",
              "      <td>0.000337</td>\n",
              "      <td>0.191485</td>\n",
              "      <td>0.000560</td>\n",
              "      <td>0.0</td>\n",
              "      <td>0.052111</td>\n",
              "      <td>0.000000</td>\n",
              "      <td>0.0</td>\n",
              "      <td>0.208193</td>\n",
              "      <td>0.0</td>\n",
              "      <td>0.912357</td>\n",
              "      <td>0.835847</td>\n",
              "      <td>0.000000</td>\n",
              "      <td>0.047527</td>\n",
              "      <td>0.000000</td>\n",
              "      <td>0.000000</td>\n",
              "      <td>0.120814</td>\n",
              "      <td>0.326623</td>\n",
              "      <td>0.403225</td>\n",
              "      <td>0.078587</td>\n",
              "      <td>0.031357</td>\n",
              "    </tr>\n",
              "    <tr>\n",
              "      <th>2</th>\n",
              "      <td>0</td>\n",
              "      <td>1</td>\n",
              "      <td>1</td>\n",
              "      <td>0</td>\n",
              "      <td>0</td>\n",
              "      <td>0</td>\n",
              "      <td>0</td>\n",
              "      <td>0</td>\n",
              "      <td>0.008482</td>\n",
              "      <td>0.292695</td>\n",
              "      <td>0.009881</td>\n",
              "      <td>0.0</td>\n",
              "      <td>0.052108</td>\n",
              "      <td>0.000000</td>\n",
              "      <td>0.0</td>\n",
              "      <td>0.209341</td>\n",
              "      <td>0.0</td>\n",
              "      <td>0.912883</td>\n",
              "      <td>0.836212</td>\n",
              "      <td>0.667216</td>\n",
              "      <td>0.047524</td>\n",
              "      <td>0.000000</td>\n",
              "      <td>0.000000</td>\n",
              "      <td>0.120795</td>\n",
              "      <td>0.358435</td>\n",
              "      <td>0.414192</td>\n",
              "      <td>0.312976</td>\n",
              "      <td>0.301945</td>\n",
              "    </tr>\n",
              "    <tr>\n",
              "      <th>3</th>\n",
              "      <td>1</td>\n",
              "      <td>0</td>\n",
              "      <td>1</td>\n",
              "      <td>0</td>\n",
              "      <td>0</td>\n",
              "      <td>0</td>\n",
              "      <td>0</td>\n",
              "      <td>0</td>\n",
              "      <td>0.011781</td>\n",
              "      <td>0.191485</td>\n",
              "      <td>0.014510</td>\n",
              "      <td>0.0</td>\n",
              "      <td>0.060977</td>\n",
              "      <td>0.013405</td>\n",
              "      <td>0.0</td>\n",
              "      <td>0.209295</td>\n",
              "      <td>0.0</td>\n",
              "      <td>0.912870</td>\n",
              "      <td>0.836208</td>\n",
              "      <td>0.300841</td>\n",
              "      <td>0.055613</td>\n",
              "      <td>0.020108</td>\n",
              "      <td>0.082208</td>\n",
              "      <td>0.171761</td>\n",
              "      <td>0.498901</td>\n",
              "      <td>0.432092</td>\n",
              "      <td>0.443244</td>\n",
              "      <td>0.325828</td>\n",
              "    </tr>\n",
              "    <tr>\n",
              "      <th>4</th>\n",
              "      <td>1</td>\n",
              "      <td>0</td>\n",
              "      <td>1</td>\n",
              "      <td>0</td>\n",
              "      <td>0</td>\n",
              "      <td>0</td>\n",
              "      <td>0</td>\n",
              "      <td>0</td>\n",
              "      <td>0.007803</td>\n",
              "      <td>0.425858</td>\n",
              "      <td>0.004920</td>\n",
              "      <td>0.0</td>\n",
              "      <td>0.064382</td>\n",
              "      <td>0.010391</td>\n",
              "      <td>0.0</td>\n",
              "      <td>0.208193</td>\n",
              "      <td>0.0</td>\n",
              "      <td>0.912507</td>\n",
              "      <td>0.835999</td>\n",
              "      <td>0.655905</td>\n",
              "      <td>0.058718</td>\n",
              "      <td>0.015586</td>\n",
              "      <td>0.007965</td>\n",
              "      <td>0.129612</td>\n",
              "      <td>0.340844</td>\n",
              "      <td>0.429266</td>\n",
              "      <td>0.168215</td>\n",
              "      <td>0.265386</td>\n",
              "    </tr>\n",
              "  </tbody>\n",
              "</table>\n",
              "</div>"
            ],
            "text/plain": [
              "   jumlah_kartu_0.066667  jumlah_kartu_0.133333  ...    util_3    util_6\n",
              "0                      1                      0  ...  0.116779  0.131150\n",
              "1                      1                      0  ...  0.078587  0.031357\n",
              "2                      0                      1  ...  0.312976  0.301945\n",
              "3                      1                      0  ...  0.443244  0.325828\n",
              "4                      1                      0  ...  0.168215  0.265386\n",
              "\n",
              "[5 rows x 28 columns]"
            ]
          },
          "metadata": {
            "tags": []
          },
          "execution_count": 81
        }
      ]
    },
    {
      "cell_type": "code",
      "metadata": {
        "id": "oWj6sHj3GwBe"
      },
      "source": [
        "X = X.drop(['jumlah_kartu_0.133333', 'skor_delikuensi_1.0'],1)"
      ],
      "execution_count": null,
      "outputs": []
    },
    {
      "cell_type": "code",
      "metadata": {
        "colab": {
          "base_uri": "https://localhost:8080/",
          "height": 226
        },
        "id": "OGHQTiuuILnl",
        "outputId": "01cc5fb7-4674-4a3a-a77c-a775f4247e18"
      },
      "source": [
        "X.head()"
      ],
      "execution_count": null,
      "outputs": [
        {
          "output_type": "execute_result",
          "data": {
            "text/html": [
              "<div>\n",
              "<style scoped>\n",
              "    .dataframe tbody tr th:only-of-type {\n",
              "        vertical-align: middle;\n",
              "    }\n",
              "\n",
              "    .dataframe tbody tr th {\n",
              "        vertical-align: top;\n",
              "    }\n",
              "\n",
              "    .dataframe thead th {\n",
              "        text-align: right;\n",
              "    }\n",
              "</style>\n",
              "<table border=\"1\" class=\"dataframe\">\n",
              "  <thead>\n",
              "    <tr style=\"text-align: right;\">\n",
              "      <th></th>\n",
              "      <th>jumlah_kartu_0.066667</th>\n",
              "      <th>skor_delikuensi_0.0</th>\n",
              "      <th>skor_delikuensi_0.2</th>\n",
              "      <th>skor_delikuensi_0.4</th>\n",
              "      <th>skor_delikuensi_0.6000000000000001</th>\n",
              "      <th>skor_delikuensi_0.8</th>\n",
              "      <th>outstanding</th>\n",
              "      <th>limit_kredit</th>\n",
              "      <th>tagihan</th>\n",
              "      <th>total_pemakaian_tunai</th>\n",
              "      <th>total_pemakaian_retail</th>\n",
              "      <th>sisa_tagihan_tidak_terbayar</th>\n",
              "      <th>kode_cabang</th>\n",
              "      <th>rasio_pembayaran</th>\n",
              "      <th>persentasi_overlimit</th>\n",
              "      <th>bayar_3</th>\n",
              "      <th>bayar_6</th>\n",
              "      <th>tahun_buka</th>\n",
              "      <th>total_pemakaian</th>\n",
              "      <th>sisa_tagihan_per_jumlah_kartu</th>\n",
              "      <th>sisa_tagihan_per_limit</th>\n",
              "      <th>total_pemakaian_per_limit</th>\n",
              "      <th>pakai_3</th>\n",
              "      <th>pakai_6</th>\n",
              "      <th>util_3</th>\n",
              "      <th>util_6</th>\n",
              "    </tr>\n",
              "  </thead>\n",
              "  <tbody>\n",
              "    <tr>\n",
              "      <th>0</th>\n",
              "      <td>1</td>\n",
              "      <td>1</td>\n",
              "      <td>0</td>\n",
              "      <td>0</td>\n",
              "      <td>0</td>\n",
              "      <td>0</td>\n",
              "      <td>0.000045</td>\n",
              "      <td>0.158899</td>\n",
              "      <td>0.000008</td>\n",
              "      <td>0.0</td>\n",
              "      <td>0.052108</td>\n",
              "      <td>0.000059</td>\n",
              "      <td>0.8</td>\n",
              "      <td>0.209366</td>\n",
              "      <td>0.0</td>\n",
              "      <td>0.912751</td>\n",
              "      <td>0.836209</td>\n",
              "      <td>0.758072</td>\n",
              "      <td>0.047525</td>\n",
              "      <td>0.000089</td>\n",
              "      <td>0.000519</td>\n",
              "      <td>0.120798</td>\n",
              "      <td>0.336451</td>\n",
              "      <td>0.407389</td>\n",
              "      <td>0.116779</td>\n",
              "      <td>0.131150</td>\n",
              "    </tr>\n",
              "    <tr>\n",
              "      <th>1</th>\n",
              "      <td>1</td>\n",
              "      <td>1</td>\n",
              "      <td>0</td>\n",
              "      <td>0</td>\n",
              "      <td>0</td>\n",
              "      <td>0</td>\n",
              "      <td>0.000337</td>\n",
              "      <td>0.191485</td>\n",
              "      <td>0.000560</td>\n",
              "      <td>0.0</td>\n",
              "      <td>0.052111</td>\n",
              "      <td>0.000000</td>\n",
              "      <td>0.0</td>\n",
              "      <td>0.208193</td>\n",
              "      <td>0.0</td>\n",
              "      <td>0.912357</td>\n",
              "      <td>0.835847</td>\n",
              "      <td>0.000000</td>\n",
              "      <td>0.047527</td>\n",
              "      <td>0.000000</td>\n",
              "      <td>0.000000</td>\n",
              "      <td>0.120814</td>\n",
              "      <td>0.326623</td>\n",
              "      <td>0.403225</td>\n",
              "      <td>0.078587</td>\n",
              "      <td>0.031357</td>\n",
              "    </tr>\n",
              "    <tr>\n",
              "      <th>2</th>\n",
              "      <td>0</td>\n",
              "      <td>1</td>\n",
              "      <td>0</td>\n",
              "      <td>0</td>\n",
              "      <td>0</td>\n",
              "      <td>0</td>\n",
              "      <td>0.008482</td>\n",
              "      <td>0.292695</td>\n",
              "      <td>0.009881</td>\n",
              "      <td>0.0</td>\n",
              "      <td>0.052108</td>\n",
              "      <td>0.000000</td>\n",
              "      <td>0.0</td>\n",
              "      <td>0.209341</td>\n",
              "      <td>0.0</td>\n",
              "      <td>0.912883</td>\n",
              "      <td>0.836212</td>\n",
              "      <td>0.667216</td>\n",
              "      <td>0.047524</td>\n",
              "      <td>0.000000</td>\n",
              "      <td>0.000000</td>\n",
              "      <td>0.120795</td>\n",
              "      <td>0.358435</td>\n",
              "      <td>0.414192</td>\n",
              "      <td>0.312976</td>\n",
              "      <td>0.301945</td>\n",
              "    </tr>\n",
              "    <tr>\n",
              "      <th>3</th>\n",
              "      <td>1</td>\n",
              "      <td>1</td>\n",
              "      <td>0</td>\n",
              "      <td>0</td>\n",
              "      <td>0</td>\n",
              "      <td>0</td>\n",
              "      <td>0.011781</td>\n",
              "      <td>0.191485</td>\n",
              "      <td>0.014510</td>\n",
              "      <td>0.0</td>\n",
              "      <td>0.060977</td>\n",
              "      <td>0.013405</td>\n",
              "      <td>0.0</td>\n",
              "      <td>0.209295</td>\n",
              "      <td>0.0</td>\n",
              "      <td>0.912870</td>\n",
              "      <td>0.836208</td>\n",
              "      <td>0.300841</td>\n",
              "      <td>0.055613</td>\n",
              "      <td>0.020108</td>\n",
              "      <td>0.082208</td>\n",
              "      <td>0.171761</td>\n",
              "      <td>0.498901</td>\n",
              "      <td>0.432092</td>\n",
              "      <td>0.443244</td>\n",
              "      <td>0.325828</td>\n",
              "    </tr>\n",
              "    <tr>\n",
              "      <th>4</th>\n",
              "      <td>1</td>\n",
              "      <td>1</td>\n",
              "      <td>0</td>\n",
              "      <td>0</td>\n",
              "      <td>0</td>\n",
              "      <td>0</td>\n",
              "      <td>0.007803</td>\n",
              "      <td>0.425858</td>\n",
              "      <td>0.004920</td>\n",
              "      <td>0.0</td>\n",
              "      <td>0.064382</td>\n",
              "      <td>0.010391</td>\n",
              "      <td>0.0</td>\n",
              "      <td>0.208193</td>\n",
              "      <td>0.0</td>\n",
              "      <td>0.912507</td>\n",
              "      <td>0.835999</td>\n",
              "      <td>0.655905</td>\n",
              "      <td>0.058718</td>\n",
              "      <td>0.015586</td>\n",
              "      <td>0.007965</td>\n",
              "      <td>0.129612</td>\n",
              "      <td>0.340844</td>\n",
              "      <td>0.429266</td>\n",
              "      <td>0.168215</td>\n",
              "      <td>0.265386</td>\n",
              "    </tr>\n",
              "  </tbody>\n",
              "</table>\n",
              "</div>"
            ],
            "text/plain": [
              "   jumlah_kartu_0.066667  skor_delikuensi_0.0  ...    util_3    util_6\n",
              "0                      1                    1  ...  0.116779  0.131150\n",
              "1                      1                    1  ...  0.078587  0.031357\n",
              "2                      0                    1  ...  0.312976  0.301945\n",
              "3                      1                    1  ...  0.443244  0.325828\n",
              "4                      1                    1  ...  0.168215  0.265386\n",
              "\n",
              "[5 rows x 26 columns]"
            ]
          },
          "metadata": {
            "tags": []
          },
          "execution_count": 83
        }
      ]
    },
    {
      "cell_type": "code",
      "metadata": {
        "colab": {
          "base_uri": "https://localhost:8080/"
        },
        "id": "pkUmSC6NIMdF",
        "outputId": "8cf2aaa3-649f-4286-9f61-5902ad71837c"
      },
      "source": [
        "X.shape"
      ],
      "execution_count": null,
      "outputs": [
        {
          "output_type": "execute_result",
          "data": {
            "text/plain": [
              "(12395, 26)"
            ]
          },
          "metadata": {
            "tags": []
          },
          "execution_count": 84
        }
      ]
    },
    {
      "cell_type": "code",
      "metadata": {
        "id": "o4R4KKT2IONN"
      },
      "source": [
        "X_fe = X.values\n",
        "Y_fe = Y"
      ],
      "execution_count": null,
      "outputs": []
    },
    {
      "cell_type": "code",
      "metadata": {
        "colab": {
          "base_uri": "https://localhost:8080/"
        },
        "id": "Fyqg4wclIRz1",
        "outputId": "31078681-ee9a-47f3-9e48-76d52c35f8ca"
      },
      "source": [
        "# Data splitting\n",
        "X_train_, X_test_, Y_train_, Y_test_ = train_test_split(X_fe, Y_fe, test_size=0.2,\n",
        "                                                    random_state = 111)\n",
        "\n",
        "# Cek Shape\n",
        "print(f\"X_train: {X_train_.shape}\")\n",
        "print(f\"X_test: {X_test_.shape}\")\n",
        "print(f\"Y_train: {Y_train_.shape}\")\n",
        "print(f\"Y_test: {Y_test_.shape}\")"
      ],
      "execution_count": null,
      "outputs": [
        {
          "output_type": "stream",
          "text": [
            "X_train: (9916, 26)\n",
            "X_test: (2479, 26)\n",
            "Y_train: (9916,)\n",
            "Y_test: (2479,)\n"
          ],
          "name": "stdout"
        }
      ]
    },
    {
      "cell_type": "code",
      "metadata": {
        "colab": {
          "base_uri": "https://localhost:8080/"
        },
        "id": "O5K67HYSIk7d",
        "outputId": "bf3d9287-2dbb-4f73-b4bd-039318154c98"
      },
      "source": [
        "from sklearn.linear_model import LogisticRegression, LogisticRegressionCV\n",
        "\n",
        "logreg = LogisticRegression(random_state = 123)\n",
        "results = cross_val_score(logreg, X_train_, Y_train_, cv=10)\n",
        "results.mean()"
      ],
      "execution_count": null,
      "outputs": [
        {
          "output_type": "execute_result",
          "data": {
            "text/plain": [
              "0.9062124646007617"
            ]
          },
          "metadata": {
            "tags": []
          },
          "execution_count": 89
        }
      ]
    },
    {
      "cell_type": "code",
      "metadata": {
        "colab": {
          "base_uri": "https://localhost:8080/"
        },
        "id": "5SzDrRXGJAZN",
        "outputId": "63382204-e310-4990-ca29-ca5dfafca8dd"
      },
      "source": [
        "logreg.fit(X_train_, Y_train_)\n",
        "confumat = confusion_matrix(Y_test_, logreg.predict(X_test_))\n",
        "print(confumat)\n",
        "report = classification_report(Y_test_, logreg.predict(X_test_))\n",
        "print(report)"
      ],
      "execution_count": null,
      "outputs": [
        {
          "output_type": "stream",
          "text": [
            "[[2280    2]\n",
            " [ 197    0]]\n",
            "              precision    recall  f1-score   support\n",
            "\n",
            "         0.0       0.92      1.00      0.96      2282\n",
            "         1.0       0.00      0.00      0.00       197\n",
            "\n",
            "    accuracy                           0.92      2479\n",
            "   macro avg       0.46      0.50      0.48      2479\n",
            "weighted avg       0.85      0.92      0.88      2479\n",
            "\n"
          ],
          "name": "stdout"
        }
      ]
    },
    {
      "cell_type": "markdown",
      "metadata": {
        "id": "DXERsy5nJaWv"
      },
      "source": [
        "## Decision Tree With FE"
      ]
    },
    {
      "cell_type": "code",
      "metadata": {
        "colab": {
          "base_uri": "https://localhost:8080/"
        },
        "id": "JqoObYyJJVJd",
        "outputId": "71b5210b-7241-4186-82c5-e7f7664bc59e"
      },
      "source": [
        "X_train_.shape, Y_train_.shape"
      ],
      "execution_count": null,
      "outputs": [
        {
          "output_type": "execute_result",
          "data": {
            "text/plain": [
              "((9916, 26), (9916,))"
            ]
          },
          "metadata": {
            "tags": []
          },
          "execution_count": 91
        }
      ]
    },
    {
      "cell_type": "code",
      "metadata": {
        "colab": {
          "base_uri": "https://localhost:8080/"
        },
        "id": "1icHJbrxJy7d",
        "outputId": "dcf16d59-40c2-46a4-e646-6df3b85e6d99"
      },
      "source": [
        "dtree = DecisionTreeClassifier(random_state=123)\n",
        "results = cross_val_score(dtree, X_train_, Y_train_, cv=10)\n",
        "results.mean()"
      ],
      "execution_count": null,
      "outputs": [
        {
          "output_type": "execute_result",
          "data": {
            "text/plain": [
              "0.8631503084209499"
            ]
          },
          "metadata": {
            "tags": []
          },
          "execution_count": 92
        }
      ]
    },
    {
      "cell_type": "code",
      "metadata": {
        "colab": {
          "base_uri": "https://localhost:8080/"
        },
        "id": "eIPISATsKEQV",
        "outputId": "de1e21eb-2afd-422f-cf00-78b9ff04040c"
      },
      "source": [
        "dtree.fit(X_train_, Y_train_)\n",
        "dtpred = dtree.predict(X_test_)\n",
        "confumat = confusion_matrix(Y_test_, dtpred)\n",
        "print(confumat)\n",
        "report = classification_report(Y_test_, dtpred)\n",
        "print(report)"
      ],
      "execution_count": null,
      "outputs": [
        {
          "output_type": "stream",
          "text": [
            "[[2097  185]\n",
            " [ 127   70]]\n",
            "              precision    recall  f1-score   support\n",
            "\n",
            "         0.0       0.94      0.92      0.93      2282\n",
            "         1.0       0.27      0.36      0.31       197\n",
            "\n",
            "    accuracy                           0.87      2479\n",
            "   macro avg       0.61      0.64      0.62      2479\n",
            "weighted avg       0.89      0.87      0.88      2479\n",
            "\n"
          ],
          "name": "stdout"
        }
      ]
    },
    {
      "cell_type": "code",
      "metadata": {
        "id": "a_NfDSfHKUbs"
      },
      "source": [
        ""
      ],
      "execution_count": null,
      "outputs": []
    }
  ]
}