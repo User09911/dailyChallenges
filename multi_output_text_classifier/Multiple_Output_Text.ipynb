{
 "cells": [
  {
   "attachments": {},
   "cell_type": "markdown",
   "id": "dc8a4738",
   "metadata": {},
   "source": [
    "# Multiple Output Text Classification\n",
    "---\n",
    "Original: [Jcharis](https://www.youtube.com/watch?v=Vzh7V4UNC1E&list=WL&index=1)\n",
    "\n",
    "## Materi\n",
    "* Binary Classification: Mempunyai target antara 0 atau 1\n",
    "* Multi-Class: Klasifikasi yang terdiri lebih dari dua kelas\n",
    "* Multi-Label: Klasifikasi yang memungkinkan suatu target memiliki dua label pada saat bersamaan\n",
    "* Multi-Output: Setiap target memiliki multiple classification/regression labels\n",
    "    * Multiclass-multioutput (Multitask classification) adalah suatu pengklasifikasian yang mana label setiap sampel terdiri dari non binary\n",
    "    * Keduanya memiliki properti dan target lebih dari dua\n",
    "    \n",
    "## Ilustrasi\n",
    "\n",
    "![ilustrasi](https://raw.githubusercontent.com/Jcharis/Python-Machine-Learning/master/MultiOutput_Text_Classification_with_ScikitLearn/MultiOutputvsMulti-Label-JCharisTech.png)"
   ]
  },
  {
   "cell_type": "code",
   "execution_count": 1,
   "id": "31eeff22",
   "metadata": {},
   "outputs": [],
   "source": [
    "# Mengimport modules untuk melakukan EDA\n",
    "import pandas as pd\n",
    "import numpy as np\n",
    "\n",
    "# Mengimport modules untuk visualisasi data\n",
    "import matplotlib.pyplot as plt\n",
    "import seaborn as sns\n",
    "\n",
    "# Mengimport modules untuk ML\n",
    "from sklearn.linear_model import LogisticRegression\n",
    "from sklearn.tree import DecisionTreeClassifier\n",
    "from sklearn.neighbors import KNeighborsClassifier\n",
    "from sklearn.naive_bayes import MultinomialNB\n",
    "\n",
    "# Mengimport modules untuk ekstraksi features text\n",
    "from sklearn.feature_extraction.text import CountVectorizer, TfidfVectorizer\n",
    "\n",
    "# Mengimport modules tambahan\n",
    "from sklearn.model_selection import train_test_split\n",
    "from sklearn.pipeline import Pipeline\n",
    "from sklearn.metrics import accuracy_score,classification_report,confusion_matrix,plot_confusion_matrix"
   ]
  },
  {
   "cell_type": "code",
   "execution_count": 2,
   "id": "0438dd72",
   "metadata": {},
   "outputs": [],
   "source": [
    "# Mengimport dataset\n",
    "df = pd.read_csv(\"https://raw.githubusercontent.com/Jcharis/Python-Machine-Learning/master/MultiOutput_Text_Classification_with_ScikitLearn/data/netflix_titles_dataset.csv\")"
   ]
  },
  {
   "cell_type": "code",
   "execution_count": 3,
   "id": "142a1487",
   "metadata": {},
   "outputs": [
    {
     "data": {
      "text/html": [
       "<div>\n",
       "<style scoped>\n",
       "    .dataframe tbody tr th:only-of-type {\n",
       "        vertical-align: middle;\n",
       "    }\n",
       "\n",
       "    .dataframe tbody tr th {\n",
       "        vertical-align: top;\n",
       "    }\n",
       "\n",
       "    .dataframe thead th {\n",
       "        text-align: right;\n",
       "    }\n",
       "</style>\n",
       "<table border=\"1\" class=\"dataframe\">\n",
       "  <thead>\n",
       "    <tr style=\"text-align: right;\">\n",
       "      <th></th>\n",
       "      <th>Unnamed: 0</th>\n",
       "      <th>title</th>\n",
       "      <th>description</th>\n",
       "      <th>type</th>\n",
       "      <th>rating</th>\n",
       "    </tr>\n",
       "  </thead>\n",
       "  <tbody>\n",
       "    <tr>\n",
       "      <th>0</th>\n",
       "      <td>0</td>\n",
       "      <td>3%</td>\n",
       "      <td>In a future where the elite inhabit an island ...</td>\n",
       "      <td>TV Show</td>\n",
       "      <td>TV-MA</td>\n",
       "    </tr>\n",
       "    <tr>\n",
       "      <th>1</th>\n",
       "      <td>1</td>\n",
       "      <td>7:19</td>\n",
       "      <td>After a devastating earthquake hits Mexico Cit...</td>\n",
       "      <td>Movie</td>\n",
       "      <td>TV-MA</td>\n",
       "    </tr>\n",
       "    <tr>\n",
       "      <th>2</th>\n",
       "      <td>2</td>\n",
       "      <td>23:59</td>\n",
       "      <td>When an army recruit is found dead, his fellow...</td>\n",
       "      <td>Movie</td>\n",
       "      <td>R</td>\n",
       "    </tr>\n",
       "    <tr>\n",
       "      <th>3</th>\n",
       "      <td>3</td>\n",
       "      <td>9</td>\n",
       "      <td>In a postapocalyptic world, rag-doll robots hi...</td>\n",
       "      <td>Movie</td>\n",
       "      <td>PG-13</td>\n",
       "    </tr>\n",
       "    <tr>\n",
       "      <th>4</th>\n",
       "      <td>4</td>\n",
       "      <td>21</td>\n",
       "      <td>A brilliant group of students become card-coun...</td>\n",
       "      <td>Movie</td>\n",
       "      <td>PG-13</td>\n",
       "    </tr>\n",
       "  </tbody>\n",
       "</table>\n",
       "</div>"
      ],
      "text/plain": [
       "   Unnamed: 0  title                                        description  \\\n",
       "0           0     3%  In a future where the elite inhabit an island ...   \n",
       "1           1   7:19  After a devastating earthquake hits Mexico Cit...   \n",
       "2           2  23:59  When an army recruit is found dead, his fellow...   \n",
       "3           3      9  In a postapocalyptic world, rag-doll robots hi...   \n",
       "4           4     21  A brilliant group of students become card-coun...   \n",
       "\n",
       "      type rating  \n",
       "0  TV Show  TV-MA  \n",
       "1    Movie  TV-MA  \n",
       "2    Movie      R  \n",
       "3    Movie  PG-13  \n",
       "4    Movie  PG-13  "
      ]
     },
     "execution_count": 3,
     "metadata": {},
     "output_type": "execute_result"
    }
   ],
   "source": [
    "df.head() # Menampilkan lima baris pertama"
   ]
  },
  {
   "cell_type": "code",
   "execution_count": 5,
   "id": "a09d5a15",
   "metadata": {},
   "outputs": [],
   "source": [
    "df = df[['title', 'description', 'type', 'rating']] # Menginputkan hanya data penting saja"
   ]
  },
  {
   "cell_type": "code",
   "execution_count": 6,
   "id": "f34123bd",
   "metadata": {},
   "outputs": [
    {
     "data": {
      "text/html": [
       "<div>\n",
       "<style scoped>\n",
       "    .dataframe tbody tr th:only-of-type {\n",
       "        vertical-align: middle;\n",
       "    }\n",
       "\n",
       "    .dataframe tbody tr th {\n",
       "        vertical-align: top;\n",
       "    }\n",
       "\n",
       "    .dataframe thead th {\n",
       "        text-align: right;\n",
       "    }\n",
       "</style>\n",
       "<table border=\"1\" class=\"dataframe\">\n",
       "  <thead>\n",
       "    <tr style=\"text-align: right;\">\n",
       "      <th></th>\n",
       "      <th>title</th>\n",
       "      <th>description</th>\n",
       "      <th>type</th>\n",
       "      <th>rating</th>\n",
       "    </tr>\n",
       "  </thead>\n",
       "  <tbody>\n",
       "    <tr>\n",
       "      <th>0</th>\n",
       "      <td>3%</td>\n",
       "      <td>In a future where the elite inhabit an island ...</td>\n",
       "      <td>TV Show</td>\n",
       "      <td>TV-MA</td>\n",
       "    </tr>\n",
       "    <tr>\n",
       "      <th>1</th>\n",
       "      <td>7:19</td>\n",
       "      <td>After a devastating earthquake hits Mexico Cit...</td>\n",
       "      <td>Movie</td>\n",
       "      <td>TV-MA</td>\n",
       "    </tr>\n",
       "    <tr>\n",
       "      <th>2</th>\n",
       "      <td>23:59</td>\n",
       "      <td>When an army recruit is found dead, his fellow...</td>\n",
       "      <td>Movie</td>\n",
       "      <td>R</td>\n",
       "    </tr>\n",
       "    <tr>\n",
       "      <th>3</th>\n",
       "      <td>9</td>\n",
       "      <td>In a postapocalyptic world, rag-doll robots hi...</td>\n",
       "      <td>Movie</td>\n",
       "      <td>PG-13</td>\n",
       "    </tr>\n",
       "    <tr>\n",
       "      <th>4</th>\n",
       "      <td>21</td>\n",
       "      <td>A brilliant group of students become card-coun...</td>\n",
       "      <td>Movie</td>\n",
       "      <td>PG-13</td>\n",
       "    </tr>\n",
       "  </tbody>\n",
       "</table>\n",
       "</div>"
      ],
      "text/plain": [
       "   title                                        description     type rating\n",
       "0     3%  In a future where the elite inhabit an island ...  TV Show  TV-MA\n",
       "1   7:19  After a devastating earthquake hits Mexico Cit...    Movie  TV-MA\n",
       "2  23:59  When an army recruit is found dead, his fellow...    Movie      R\n",
       "3      9  In a postapocalyptic world, rag-doll robots hi...    Movie  PG-13\n",
       "4     21  A brilliant group of students become card-coun...    Movie  PG-13"
      ]
     },
     "execution_count": 6,
     "metadata": {},
     "output_type": "execute_result"
    }
   ],
   "source": [
    "df.head() # Menampilkan lima baris pertama"
   ]
  },
  {
   "cell_type": "markdown",
   "id": "21ab345b",
   "metadata": {},
   "source": [
    "### Target\n",
    "type and rating (Multiple-Class and Multiple-Label)"
   ]
  },
  {
   "cell_type": "code",
   "execution_count": 7,
   "id": "995eef6c",
   "metadata": {},
   "outputs": [
    {
     "data": {
      "text/plain": [
       "Movie      4788\n",
       "TV Show    2143\n",
       "Name: type, dtype: int64"
      ]
     },
     "execution_count": 7,
     "metadata": {},
     "output_type": "execute_result"
    }
   ],
   "source": [
    "# Memeriksa distribusi kelas 1 untuk type\n",
    "df['type'].value_counts()"
   ]
  },
  {
   "cell_type": "code",
   "execution_count": 11,
   "id": "a8c2c607",
   "metadata": {},
   "outputs": [
    {
     "data": {
      "text/plain": [
       "<AxesSubplot:xlabel='type', ylabel='count'>"
      ]
     },
     "execution_count": 11,
     "metadata": {},
     "output_type": "execute_result"
    },
    {
     "data": {
      "image/png": "[encoded data removed]",
      "text/plain": [
       "<Figure size 432x288 with 1 Axes>"
      ]
     },
     "metadata": {
      "needs_background": "light"
     },
     "output_type": "display_data"
    }
   ],
   "source": [
    "sns.countplot(x='type', data=df) # Memvisualisasikan distribusi kelas 1"
   ]
  },
  {
   "cell_type": "code",
   "execution_count": 12,
   "id": "38997361",
   "metadata": {},
   "outputs": [
    {
     "data": {
      "text/plain": [
       "TV-MA    2863\n",
       "TV-14    1931\n",
       "TV-PG     806\n",
       "R         665\n",
       "PG-13     386\n",
       "TV-Y      280\n",
       "Name: rating, dtype: int64"
      ]
     },
     "execution_count": 12,
     "metadata": {},
     "output_type": "execute_result"
    }
   ],
   "source": [
    "# Memeriksa distribusi kelas 2 untuk rating\n",
    "df['rating'].value_counts()"
   ]
  },
  {
   "cell_type": "code",
   "execution_count": 13,
   "id": "6c0aa39b",
   "metadata": {},
   "outputs": [
    {
     "data": {
      "text/plain": [
       "<AxesSubplot:xlabel='rating', ylabel='count'>"
      ]
     },
     "execution_count": 13,
     "metadata": {},
     "output_type": "execute_result"
    },
    {
     "data": {
      "image/png": "[encoded data removed]",
      "text/plain": [
       "<Figure size 432x288 with 1 Axes>"
      ]
     },
     "metadata": {
      "needs_background": "light"
     },
     "output_type": "display_data"
    }
   ],
   "source": [
    "sns.countplot(x='rating', data=df) # Memvisualisasikan distribusi kelas 2"
   ]
  },
  {
   "cell_type": "code",
   "execution_count": 16,
   "id": "2c831363",
   "metadata": {},
   "outputs": [],
   "source": [
    "# Mengimport modules untuk multi output classifier\n",
    "from sklearn.multioutput import MultiOutputClassifier\n",
    "\n",
    "# Mengimport modules untuk text cleaning\n",
    "import neattext.functions as nfx"
   ]
  },
  {
   "cell_type": "code",
   "execution_count": 17,
   "id": "6d4d9329",
   "metadata": {},
   "outputs": [],
   "source": [
    "df['title'] = df['title'].str.lower()"
   ]
  },
  {
   "cell_type": "code",
   "execution_count": 18,
   "id": "5aff61ad",
   "metadata": {},
   "outputs": [
    {
     "data": {
      "text/html": [
       "<div>\n",
       "<style scoped>\n",
       "    .dataframe tbody tr th:only-of-type {\n",
       "        vertical-align: middle;\n",
       "    }\n",
       "\n",
       "    .dataframe tbody tr th {\n",
       "        vertical-align: top;\n",
       "    }\n",
       "\n",
       "    .dataframe thead th {\n",
       "        text-align: right;\n",
       "    }\n",
       "</style>\n",
       "<table border=\"1\" class=\"dataframe\">\n",
       "  <thead>\n",
       "    <tr style=\"text-align: right;\">\n",
       "      <th></th>\n",
       "      <th>title</th>\n",
       "      <th>description</th>\n",
       "      <th>type</th>\n",
       "      <th>rating</th>\n",
       "    </tr>\n",
       "  </thead>\n",
       "  <tbody>\n",
       "    <tr>\n",
       "      <th>0</th>\n",
       "      <td>3%</td>\n",
       "      <td>In a future where the elite inhabit an island ...</td>\n",
       "      <td>TV Show</td>\n",
       "      <td>TV-MA</td>\n",
       "    </tr>\n",
       "    <tr>\n",
       "      <th>1</th>\n",
       "      <td>7:19</td>\n",
       "      <td>After a devastating earthquake hits Mexico Cit...</td>\n",
       "      <td>Movie</td>\n",
       "      <td>TV-MA</td>\n",
       "    </tr>\n",
       "    <tr>\n",
       "      <th>2</th>\n",
       "      <td>23:59</td>\n",
       "      <td>When an army recruit is found dead, his fellow...</td>\n",
       "      <td>Movie</td>\n",
       "      <td>R</td>\n",
       "    </tr>\n",
       "    <tr>\n",
       "      <th>3</th>\n",
       "      <td>9</td>\n",
       "      <td>In a postapocalyptic world, rag-doll robots hi...</td>\n",
       "      <td>Movie</td>\n",
       "      <td>PG-13</td>\n",
       "    </tr>\n",
       "    <tr>\n",
       "      <th>4</th>\n",
       "      <td>21</td>\n",
       "      <td>A brilliant group of students become card-coun...</td>\n",
       "      <td>Movie</td>\n",
       "      <td>PG-13</td>\n",
       "    </tr>\n",
       "    <tr>\n",
       "      <th>...</th>\n",
       "      <td>...</td>\n",
       "      <td>...</td>\n",
       "      <td>...</td>\n",
       "      <td>...</td>\n",
       "    </tr>\n",
       "    <tr>\n",
       "      <th>6926</th>\n",
       "      <td>zozo</td>\n",
       "      <td>When Lebanon's Civil War deprives Zozo of his ...</td>\n",
       "      <td>Movie</td>\n",
       "      <td>TV-MA</td>\n",
       "    </tr>\n",
       "    <tr>\n",
       "      <th>6927</th>\n",
       "      <td>zubaan</td>\n",
       "      <td>A scrappy but poor boy worms his way into a ty...</td>\n",
       "      <td>Movie</td>\n",
       "      <td>TV-14</td>\n",
       "    </tr>\n",
       "    <tr>\n",
       "      <th>6928</th>\n",
       "      <td>zulu man in japan</td>\n",
       "      <td>In this documentary, South African rapper Nast...</td>\n",
       "      <td>Movie</td>\n",
       "      <td>TV-MA</td>\n",
       "    </tr>\n",
       "    <tr>\n",
       "      <th>6929</th>\n",
       "      <td>zumbo's just desserts</td>\n",
       "      <td>Dessert wizard Adriano Zumbo looks for the nex...</td>\n",
       "      <td>TV Show</td>\n",
       "      <td>TV-PG</td>\n",
       "    </tr>\n",
       "    <tr>\n",
       "      <th>6930</th>\n",
       "      <td>zz top: that little ol' band from texas</td>\n",
       "      <td>This documentary delves into the mystique behi...</td>\n",
       "      <td>Movie</td>\n",
       "      <td>TV-MA</td>\n",
       "    </tr>\n",
       "  </tbody>\n",
       "</table>\n",
       "<p>6931 rows × 4 columns</p>\n",
       "</div>"
      ],
      "text/plain": [
       "                                        title  \\\n",
       "0                                          3%   \n",
       "1                                        7:19   \n",
       "2                                       23:59   \n",
       "3                                           9   \n",
       "4                                          21   \n",
       "...                                       ...   \n",
       "6926                                     zozo   \n",
       "6927                                   zubaan   \n",
       "6928                        zulu man in japan   \n",
       "6929                    zumbo's just desserts   \n",
       "6930  zz top: that little ol' band from texas   \n",
       "\n",
       "                                            description     type rating  \n",
       "0     In a future where the elite inhabit an island ...  TV Show  TV-MA  \n",
       "1     After a devastating earthquake hits Mexico Cit...    Movie  TV-MA  \n",
       "2     When an army recruit is found dead, his fellow...    Movie      R  \n",
       "3     In a postapocalyptic world, rag-doll robots hi...    Movie  PG-13  \n",
       "4     A brilliant group of students become card-coun...    Movie  PG-13  \n",
       "...                                                 ...      ...    ...  \n",
       "6926  When Lebanon's Civil War deprives Zozo of his ...    Movie  TV-MA  \n",
       "6927  A scrappy but poor boy worms his way into a ty...    Movie  TV-14  \n",
       "6928  In this documentary, South African rapper Nast...    Movie  TV-MA  \n",
       "6929  Dessert wizard Adriano Zumbo looks for the nex...  TV Show  TV-PG  \n",
       "6930  This documentary delves into the mystique behi...    Movie  TV-MA  \n",
       "\n",
       "[6931 rows x 4 columns]"
      ]
     },
     "execution_count": 18,
     "metadata": {},
     "output_type": "execute_result"
    }
   ],
   "source": [
    "df"
   ]
  },
  {
   "cell_type": "code",
   "execution_count": 21,
   "id": "1111f5ff",
   "metadata": {},
   "outputs": [],
   "source": [
    "# Features and labeling\n",
    "X_features = df['title']\n",
    "y_labels = df[['type', 'rating']]"
   ]
  },
  {
   "cell_type": "code",
   "execution_count": 22,
   "id": "e5edd242",
   "metadata": {},
   "outputs": [],
   "source": [
    "# Spliting data\n",
    "X_train, X_test, y_train, y_test = train_test_split(X_features, y_labels, test_size=0.2, random_state=42)"
   ]
  },
  {
   "cell_type": "markdown",
   "id": "66b18da2",
   "metadata": {},
   "source": [
    "## Membuat model pipeline"
   ]
  },
  {
   "cell_type": "code",
   "execution_count": 23,
   "id": "9f16ecd8",
   "metadata": {},
   "outputs": [],
   "source": [
    "pipe_lr = Pipeline(steps=[('cv', CountVectorizer()),\n",
    "                          ('lr_multi', MultiOutputClassifier(LogisticRegression()))])"
   ]
  },
  {
   "cell_type": "code",
   "execution_count": 24,
   "id": "c5799c91",
   "metadata": {},
   "outputs": [
    {
     "name": "stderr",
     "output_type": "stream",
     "text": [
      "C:\\ProgramData\\Anaconda3\\lib\\site-packages\\sklearn\\linear_model\\_logistic.py:763: ConvergenceWarning: lbfgs failed to converge (status=1):\n",
      "STOP: TOTAL NO. of ITERATIONS REACHED LIMIT.\n",
      "\n",
      "Increase the number of iterations (max_iter) or scale the data as shown in:\n",
      "    https://scikit-learn.org/stable/modules/preprocessing.html\n",
      "Please also refer to the documentation for alternative solver options:\n",
      "    https://scikit-learn.org/stable/modules/linear_model.html#logistic-regression\n",
      "  n_iter_i = _check_optimize_result(\n"
     ]
    },
    {
     "data": {
      "text/plain": [
       "Pipeline(steps=[('cv', CountVectorizer()),\n",
       "                ('lr_multi',\n",
       "                 MultiOutputClassifier(estimator=LogisticRegression()))])"
      ]
     },
     "execution_count": 24,
     "metadata": {},
     "output_type": "execute_result"
    }
   ],
   "source": [
    "# Fitting dataset\n",
    "pipe_lr.fit(X_train, y_train)"
   ]
  },
  {
   "cell_type": "code",
   "execution_count": 25,
   "id": "f04e0dca",
   "metadata": {},
   "outputs": [
    {
     "data": {
      "text/plain": [
       "0.27108868060562363"
      ]
     },
     "execution_count": 25,
     "metadata": {},
     "output_type": "execute_result"
    }
   ],
   "source": [
    "# Nilai akurasi\n",
    "pipe_lr.score(X_test, y_test)"
   ]
  },
  {
   "cell_type": "code",
   "execution_count": 31,
   "id": "cecad164",
   "metadata": {},
   "outputs": [
    {
     "name": "stdout",
     "output_type": "stream",
     "text": [
      "Title: maddman: the steve madden story\n",
      "Actual Predictions:\n",
      " type      Movie\n",
      "rating    TV-MA\n",
      "Name: 3429, dtype: object\n"
     ]
    }
   ],
   "source": [
    "# Prediksi sampel\n",
    "a = X_test.iloc[0]\n",
    "b = y_test.iloc[0]\n",
    "print(\"Title:\", a)\n",
    "print(\"Actual Predictions:\\n\", b)"
   ]
  },
  {
   "cell_type": "code",
   "execution_count": 28,
   "id": "8f137511",
   "metadata": {},
   "outputs": [],
   "source": [
    "ex1 = X_test.iloc[0]"
   ]
  },
  {
   "cell_type": "code",
   "execution_count": 29,
   "id": "8eda3b6b",
   "metadata": {},
   "outputs": [
    {
     "data": {
      "text/plain": [
       "'maddman: the steve madden story'"
      ]
     },
     "execution_count": 29,
     "metadata": {},
     "output_type": "execute_result"
    }
   ],
   "source": [
    "ex1"
   ]
  },
  {
   "cell_type": "code",
   "execution_count": 30,
   "id": "7a496d2d",
   "metadata": {},
   "outputs": [
    {
     "data": {
      "text/plain": [
       "array([['Movie', 'TV-14']], dtype=object)"
      ]
     },
     "execution_count": 30,
     "metadata": {},
     "output_type": "execute_result"
    }
   ],
   "source": [
    "pipe_lr.predict([ex1])"
   ]
  },
  {
   "cell_type": "code",
   "execution_count": 32,
   "id": "36b90858",
   "metadata": {},
   "outputs": [
    {
     "name": "stdout",
     "output_type": "stream",
     "text": [
      "[array(['Movie', 'TV Show'], dtype=object), array(['PG-13', 'R', 'TV-14', 'TV-MA', 'TV-PG', 'TV-Y'], dtype=object)]\n"
     ]
    },
    {
     "data": {
      "text/plain": [
       "[array([[0.84274788, 0.15725212]]),\n",
       " array([[0.05119787, 0.11936689, 0.40552151, 0.28809848, 0.12503893,\n",
       "         0.01077633]])]"
      ]
     },
     "execution_count": 32,
     "metadata": {},
     "output_type": "execute_result"
    }
   ],
   "source": [
    "# Probabilitas Prediksi\n",
    "print(pipe_lr.classes_)\n",
    "pipe_lr.predict_proba([ex1])"
   ]
  },
  {
   "cell_type": "markdown",
   "id": "bd6b4dea",
   "metadata": {},
   "source": [
    "## Mencoba pipeline yang lain\n",
    "\n",
    "* KNN\n",
    "* NB\n",
    "* DT"
   ]
  },
  {
   "cell_type": "code",
   "execution_count": 36,
   "id": "92d64b45",
   "metadata": {},
   "outputs": [],
   "source": [
    "pipe_knn = Pipeline(steps=[('cv', CountVectorizer()),\n",
    "                          ('knn', MultiOutputClassifier(KNeighborsClassifier()))])\n",
    "\n",
    "pipe_nb = Pipeline(steps=[('cv', CountVectorizer()),\n",
    "                          ('nb', MultiOutputClassifier(MultinomialNB()))])\n",
    "\n",
    "pipe_dt = Pipeline(steps=[('cv', CountVectorizer()),\n",
    "                          ('dt', MultiOutputClassifier(DecisionTreeClassifier()))])"
   ]
  },
  {
   "cell_type": "code",
   "execution_count": 37,
   "id": "3e626353",
   "metadata": {},
   "outputs": [
    {
     "name": "stdout",
     "output_type": "stream",
     "text": [
      "Melatih model dari KNN\n",
      "Melatih model dari Naive Bayes\n",
      "Melatih model dari Decision Tree\n"
     ]
    },
    {
     "data": {
      "text/plain": [
       "Pipeline(steps=[('cv', CountVectorizer()),\n",
       "                ('dt',\n",
       "                 MultiOutputClassifier(estimator=DecisionTreeClassifier()))])"
      ]
     },
     "execution_count": 37,
     "metadata": {},
     "output_type": "execute_result"
    }
   ],
   "source": [
    "print(\"Melatih model dari KNN\")\n",
    "pipe_knn.fit(X_train, y_train)\n",
    "\n",
    "print(\"Melatih model dari Naive Bayes\")\n",
    "pipe_nb.fit(X_train, y_train)\n",
    "\n",
    "print(\"Melatih model dari Decision Tree\")\n",
    "pipe_dt.fit(X_train, y_train)"
   ]
  },
  {
   "cell_type": "code",
   "execution_count": 38,
   "id": "c2376d9a",
   "metadata": {},
   "outputs": [
    {
     "name": "stdout",
     "output_type": "stream",
     "text": [
      "Hasil dari pipeline KNN:\n",
      " [['Movie' 'R']]\n",
      "Hasil dari pipeline NB:\n",
      " [['Movie' 'TV-14']]\n",
      "Hasil dari pipeline DT:\n",
      " [['Movie' 'TV-MA']]\n"
     ]
    }
   ],
   "source": [
    "# Melakukan prediksi pada movies 1\n",
    "print(\"Hasil dari pipeline KNN:\\n\",pipe_knn.predict([ex1]))\n",
    "print(\"Hasil dari pipeline NB:\\n\",pipe_nb.predict([ex1]))\n",
    "print(\"Hasil dari pipeline DT:\\n\",pipe_dt.predict([ex1]))"
   ]
  },
  {
   "cell_type": "markdown",
   "id": "aec1b05d",
   "metadata": {},
   "source": [
    "It looks like, Decision Tree could answer the questions"
   ]
  },
  {
   "cell_type": "markdown",
   "id": "4bcd4aef",
   "metadata": {},
   "source": [
    "## Prediksi kedua"
   ]
  },
  {
   "cell_type": "code",
   "execution_count": 44,
   "id": "a9cb8f0a",
   "metadata": {},
   "outputs": [
    {
     "name": "stdout",
     "output_type": "stream",
     "text": [
      "Title: fall girls\n",
      "Actual Predictions:\n",
      " type      Movie\n",
      "rating    TV-14\n",
      "Name: 1893, dtype: object\n"
     ]
    }
   ],
   "source": [
    "a = X_test.iloc[100]\n",
    "b = y_test.iloc[100]\n",
    "print(\"Title:\", a)\n",
    "print(\"Actual Predictions:\\n\", b)"
   ]
  },
  {
   "cell_type": "code",
   "execution_count": 45,
   "id": "427a90b2",
   "metadata": {},
   "outputs": [],
   "source": [
    "ex2 = X_test.iloc[100]"
   ]
  },
  {
   "cell_type": "code",
   "execution_count": 46,
   "id": "a5359785",
   "metadata": {},
   "outputs": [
    {
     "name": "stdout",
     "output_type": "stream",
     "text": [
      "Hasil dari pipeline LR:\n",
      " [['Movie' 'TV-MA']]\n",
      "Hasil dari pipeline KNN:\n",
      " [['Movie' 'TV-14']]\n",
      "Hasil dari pipeline NB:\n",
      " [['Movie' 'TV-MA']]\n",
      "Hasil dari pipeline DT:\n",
      " [['Movie' 'TV-MA']]\n"
     ]
    }
   ],
   "source": [
    "# Melakukan prediksi pada movies 2\n",
    "print(\"Hasil dari pipeline LR:\\n\",pipe_lr.predict([ex2]))\n",
    "print(\"Hasil dari pipeline KNN:\\n\",pipe_knn.predict([ex2]))\n",
    "print(\"Hasil dari pipeline NB:\\n\",pipe_nb.predict([ex2]))\n",
    "print(\"Hasil dari pipeline DT:\\n\",pipe_dt.predict([ex2]))"
   ]
  },
  {
   "cell_type": "markdown",
   "id": "cbe029ad",
   "metadata": {},
   "source": [
    "Here is better KNN"
   ]
  },
  {
   "cell_type": "code",
   "execution_count": 48,
   "id": "6cb61318",
   "metadata": {},
   "outputs": [
    {
     "name": "stdout",
     "output_type": "stream",
     "text": [
      "[array(['Movie', 'TV Show'], dtype='<U7'), array(['PG-13', 'R', 'TV-14', 'TV-MA', 'TV-PG', 'TV-Y'], dtype='<U5')]\n"
     ]
    },
    {
     "data": {
      "text/plain": [
       "[array([[0.93609409, 0.06390591]]),\n",
       " array([[0.00937823, 0.03988518, 0.56759152, 0.32339977, 0.05859355,\n",
       "         0.00115175]])]"
      ]
     },
     "execution_count": 48,
     "metadata": {},
     "output_type": "execute_result"
    }
   ],
   "source": [
    "# Probabilitas Prediksi\n",
    "print(pipe_nb.classes_)\n",
    "pipe_nb.predict_proba([ex1])"
   ]
  },
  {
   "cell_type": "markdown",
   "id": "4f3699ec",
   "metadata": {},
   "source": [
    "## Memeriksa nilai akurasi"
   ]
  },
  {
   "cell_type": "code",
   "execution_count": 50,
   "id": "d033f322",
   "metadata": {},
   "outputs": [
    {
     "name": "stdout",
     "output_type": "stream",
     "text": [
      "LR: 0.27108868060562363\n",
      "KNN: 0.23720259552992068\n",
      "NB: 0.277577505407354\n",
      "DT: 0.2581110310021629\n"
     ]
    }
   ],
   "source": [
    "# Nilai akurasi\n",
    "print(\"LR:\",pipe_lr.score(X_test, y_test))\n",
    "print(\"KNN:\",pipe_knn.score(X_test, y_test))\n",
    "print(\"NB:\",pipe_nb.score(X_test, y_test))\n",
    "print(\"DT:\",pipe_dt.score(X_test, y_test))"
   ]
  },
  {
   "cell_type": "markdown",
   "id": "d85835eb",
   "metadata": {},
   "source": [
    "Well it's great to use Naive Bayes in this case although the accuracy is only 27%"
   ]
  }
 ],
 "metadata": {
  "kernelspec": {
   "display_name": "Python 3",
   "language": "python",
   "name": "python3"
  },
  "language_info": {
   "codemirror_mode": {
    "name": "ipython",
    "version": 3
   },
   "file_extension": ".py",
   "mimetype": "text/x-python",
   "name": "python",
   "nbconvert_exporter": "python",
   "pygments_lexer": "ipython3",
   "version": "3.8.8"
  }
 },
 "nbformat": 4,
 "nbformat_minor": 5
}
