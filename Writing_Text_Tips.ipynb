{
  "nbformat": 4,
  "nbformat_minor": 0,
  "metadata": {
    "colab": {
      "name": "Writing_Text_Tips.ipynb",
      "provenance": [],
      "authorship_tag": "ABX9TyMBJlCgc/5EgWtSWut+NtSE",
      "include_colab_link": true
    },
    "kernelspec": {
      "name": "python3",
      "display_name": "Python 3"
    },
    "language_info": {
      "name": "python"
    }
  },
  "cells": [
    {
      "cell_type": "markdown",
      "metadata": {
        "id": "view-in-github",
        "colab_type": "text"
      },
      "source": [
        "<a href=\"https://colab.research.google.com/github/theDreamer911/dailyChallenges/blob/master/Writing_Text_Tips.ipynb\" target=\"_parent\"><img src=\"https://colab.research.google.com/assets/colab-badge.svg\" alt=\"Open In Colab\"/></a>"
      ]
    },
    {
      "cell_type": "markdown",
      "metadata": {
        "id": "NuBtDXlBJfze"
      },
      "source": [
        "# Title1\n",
        "## Title2\n",
        "### Title3\n",
        "#### Title4\n",
        "##### Title5\n",
        "###### Title6\n",
        "####### Title"
      ]
    },
    {
      "cell_type": "markdown",
      "metadata": {
        "id": "6Y0yfXdZJ9Er"
      },
      "source": [
        "### Markdown\n",
        "\n",
        "this is *italic* \n",
        "\n",
        "this is **bold** \n",
        "\n",
        "this is __bold too__\n",
        "\n",
        "this is ~~strikethrough~~\n",
        "\n",
        "this is `monospace`\n",
        "\n"
      ]
    },
    {
      "cell_type": "markdown",
      "metadata": {
        "id": "gInPmYkuPXXl"
      },
      "source": [
        "### Block of Code\n",
        "```\n",
        "name = 'Nathan'\n",
        "age = '10'\n",
        "print(f'Your brother {name} is {age} y.o.')\n",
        "```"
      ]
    },
    {
      "cell_type": "markdown",
      "metadata": {
        "id": "sBpFbsMdQArI"
      },
      "source": [
        "### Writing indentation\n",
        "\n",
        "> Phrase 1\n",
        ">> “It’s not about ideas. It’s about making ideas happen.”\n",
        ">>> Scott Belsky, co-founder of Behance"
      ]
    },
    {
      "cell_type": "markdown",
      "metadata": {
        "id": "LKA_pXbLRY6p"
      },
      "source": [
        "### Writing List\n",
        "\n",
        "Ordered List fruit:\n",
        "1. Apple\n",
        "2. Banana\n",
        "3. Cherry\n",
        "\n",
        "Unordered List task to do:\n",
        "* eat\n",
        "* sleep\n",
        "* repeat"
      ]
    },
    {
      "cell_type": "markdown",
      "metadata": {
        "id": "lrx99aktSC54"
      },
      "source": [
        "### Writing Link\n",
        "\n",
        "[linkeldn](https://www.linkedin.com/in/handhikayp/) \n",
        "\n",
        "[twitter](https://twitter.com/handhikayp)\n",
        "\n",
        "[github](https://github.com/theDreamer911)\n",
        "\n",
        "[codewars](https://www.codewars.com/users/theDreamer911)"
      ]
    },
    {
      "cell_type": "markdown",
      "metadata": {
        "id": "tIbz09OVT1an"
      },
      "source": [
        "### Adding images\n",
        "\n",
        "![apple](https://i2.wp.com/ceklog.kindel.com/wp-content/uploads/2013/02/firefox_2018-07-10_07-50-11.png?fit=641%2C618&ssl=)"
      ]
    },
    {
      "cell_type": "markdown",
      "metadata": {
        "id": "JCVCkfSrUVIU"
      },
      "source": [
        "### Writing Formulas\n",
        "\n",
        "**Fractions**\n",
        "\n",
        "$y = x^2$\n",
        "\n",
        "**Square**\n",
        "\n",
        "$\\frac{1}{n} $\n",
        "\n",
        "**Sum**\n",
        "\n",
        "$x^2+y \\sum_{i=1}^{n}$"
      ]
    },
    {
      "cell_type": "markdown",
      "metadata": {
        "id": "C4IVsckJVqv1"
      },
      "source": [
        "### Writing Matrix\n",
        "\n",
        "$A = \\begin{pmatrix}\n",
        "6 & 1 & 3 \\\\\n",
        "-1 & 1 & 2 \\\\\n",
        "4 & 1 & 3\n",
        "\\end{pmatrix}$\n",
        "$B = \\begin{pmatrix}\n",
        "1 & 5 & 2 \\\\\n",
        "-1 & 0 & 1 \\\\\n",
        "3 & 2 & 4\n",
        "\\end{pmatrix}$\n",
        "\n",
        "$C = A * B$\n",
        "\n",
        "$C = \\begin{pmatrix}\n",
        "14 & 36 & 25 \\\\\n",
        "4 & -1 & 7 \\\\\n",
        "12 & 26 & 21\n",
        "\\end{pmatrix}$"
      ]
    },
    {
      "cell_type": "markdown",
      "metadata": {
        "id": "MZo33troYMe3"
      },
      "source": [
        "### Writing Tables\n",
        "\n",
        "Num | Fruit | Amount |\n",
        "--- | --- | --- |\n",
        "1 | Apple | 10 |\n",
        "2 | Banana | 5 |\n",
        "3 | Cherry | 15 |\n",
        "4 | Manggo | 3 |\n",
        "5 | Pear | 8 |"
      ]
    }
  ]
}